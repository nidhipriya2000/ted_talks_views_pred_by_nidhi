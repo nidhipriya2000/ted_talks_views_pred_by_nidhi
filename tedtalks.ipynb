{
  "nbformat": 4,
  "nbformat_minor": 0,
  "metadata": {
    "colab": {
      "name": "tedtalks.ipynb",
      "provenance": [],
      "collapsed_sections": [
        "MRm49oMyVfSV"
      ],
      "mount_file_id": "1gTZYWZbIOfV3s-a8ccrH4LNehRSV1M2m",
      "authorship_tag": "ABX9TyMn6USBpqF+mLsOqeJhPAx+",
      "include_colab_link": true
    },
    "kernelspec": {
      "name": "python3",
      "display_name": "Python 3"
    },
    "language_info": {
      "name": "python"
    }
  },
  "cells": [
    {
      "cell_type": "markdown",
      "metadata": {
        "id": "view-in-github",
        "colab_type": "text"
      },
      "source": [
        "<a href=\"https://colab.research.google.com/github/nidhipriya2000/ted_talks_views_pred_by_nidhi/blob/main/tedtalks.ipynb\" target=\"_parent\"><img src=\"https://colab.research.google.com/assets/colab-badge.svg\" alt=\"Open In Colab\"/></a>"
      ]
    },
    {
      "cell_type": "markdown",
      "source": [
        "\n",
        "#MACHINE LEARNING REGRESSION PROJECT\n",
        "#TED TALK VIEWS PREDICTION\n",
        "\n",
        "\n",
        "\n",
        "\n",
        "\n",
        "\n"
      ],
      "metadata": {
        "id": "NGpa5Daa4J_4"
      }
    },
    {
      "cell_type": "markdown",
      "source": [
        "**PROBLEM STATEMENT:**\n",
        "*Understanding and analyzing the factors leading to popularity of ted talk videos and hence building a model to predict the views of an uploaded video* *italicised text* "
      ],
      "metadata": {
        "id": "LIH4Ah1E6M9S"
      }
    },
    {
      "cell_type": "markdown",
      "source": [
        "Let's get started!!!!"
      ],
      "metadata": {
        "id": "av06SfyC7Pwg"
      }
    },
    {
      "cell_type": "code",
      "source": [
        "#Importing all the relevant libraries\n",
        "\n",
        "import numpy as np\n",
        "import pandas as pd\n",
        "import seaborn as sns\n",
        "import math\n",
        "import matplotlib\n",
        "import matplotlib.pyplot as plt\n",
        "%matplotlib inline\n",
        "from sklearn.ensemble import RandomForestRegressor, GradientBoostingRegressor, ExtraTreesRegressor\n",
        "from sklearn.linear_model import Ridge, Lasso\n",
        "from sklearn.neural_network import MLPRegressor\n",
        "import xgboost as xgb\n",
        "from sklearn import neighbors\n",
        "from sklearn.svm import SVR\n",
        "from sklearn import metrics\n",
        "from sklearn.model_selection import train_test_split, KFold\n",
        "from sklearn.metrics import mean_squared_error, r2_score,mean_absolute_error\n",
        "from sklearn.model_selection import RandomizedSearchCV\n",
        "from sklearn.preprocessing import StandardScaler, MinMaxScaler\n",
        "from sklearn.preprocessing import OneHotEncoder\n",
        "from sklearn import ensemble\n",
        "from sklearn.model_selection import GridSearchCV\n",
        "import warnings\n",
        "warnings.filterwarnings('ignore')\n",
        "\n",
        "#for the graph aesthetics\n",
        "sns.set_style('dark')\n",
        "matplotlib.rcParams['font.size'] = 15\n",
        "matplotlib.rcParams['figure.figsize'] = (10,5)\n",
        "matplotlib.rcParams['figure.facecolor'] = 'FFEFDB'"
      ],
      "metadata": {
        "id": "i_DOipAnhm4V"
      },
      "execution_count": null,
      "outputs": []
    },
    {
      "cell_type": "code",
      "source": [
        "#importing datetime\n",
        "from datetime import datetime\n",
        "import calendar\n",
        " \n",
        "today = datetime.now()\n",
        "today.strftime('%Y-%m-%d')"
      ],
      "metadata": {
        "colab": {
          "base_uri": "https://localhost:8080/",
          "height": 36
        },
        "id": "S03w4vb4ec-d",
        "outputId": "a91ad5a1-0d4c-45a4-b4b0-e28e683d08ec"
      },
      "execution_count": null,
      "outputs": [
        {
          "output_type": "execute_result",
          "data": {
            "text/plain": [
              "'2022-05-13'"
            ],
            "application/vnd.google.colaboratory.intrinsic+json": {
              "type": "string"
            }
          },
          "metadata": {},
          "execution_count": 2
        }
      ]
    },
    {
      "cell_type": "code",
      "source": [
        "#importing ml libraries\n",
        "\n",
        "!pip install scikit-optimize\n",
        "!pip install catboost\n",
        "import sklearn\n",
        "from sklearn.model_selection import ShuffleSplit , StratifiedKFold , RepeatedStratifiedKFold ,train_test_split\n",
        "from sklearn.model_selection import cross_val_score , cross_validate ,cross_val_predict\n",
        "from sklearn.metrics import plot_roc_curve\n",
        "from sklearn.metrics import plot_precision_recall_curve\n",
        "from sklearn.metrics import confusion_matrix as confmat\n",
        "from sklearn.metrics import precision_recall_curve , classification_report\n",
        "from sklearn.preprocessing import RobustScaler\n",
        "from sklearn.pipeline import Pipeline"
      ],
      "metadata": {
        "colab": {
          "base_uri": "https://localhost:8080/"
        },
        "id": "rilbVxQx1WsK",
        "outputId": "56943e9c-905e-4fa0-e6d0-96ad918fb5b7"
      },
      "execution_count": null,
      "outputs": [
        {
          "output_type": "stream",
          "name": "stdout",
          "text": [
            "Collecting scikit-optimize\n",
            "  Downloading scikit_optimize-0.9.0-py2.py3-none-any.whl (100 kB)\n",
            "\u001b[?25l\r\u001b[K     |███▎                            | 10 kB 15.8 MB/s eta 0:00:01\r\u001b[K     |██████▌                         | 20 kB 18.3 MB/s eta 0:00:01\r\u001b[K     |█████████▉                      | 30 kB 20.8 MB/s eta 0:00:01\r\u001b[K     |█████████████                   | 40 kB 22.2 MB/s eta 0:00:01\r\u001b[K     |████████████████▍               | 51 kB 23.7 MB/s eta 0:00:01\r\u001b[K     |███████████████████▋            | 61 kB 26.1 MB/s eta 0:00:01\r\u001b[K     |██████████████████████▉         | 71 kB 27.2 MB/s eta 0:00:01\r\u001b[K     |██████████████████████████▏     | 81 kB 26.8 MB/s eta 0:00:01\r\u001b[K     |█████████████████████████████▍  | 92 kB 28.2 MB/s eta 0:00:01\r\u001b[K     |████████████████████████████████| 100 kB 7.3 MB/s \n",
            "\u001b[?25hRequirement already satisfied: joblib>=0.11 in /usr/local/lib/python3.7/dist-packages (from scikit-optimize) (1.1.0)\n",
            "Requirement already satisfied: numpy>=1.13.3 in /usr/local/lib/python3.7/dist-packages (from scikit-optimize) (1.21.6)\n",
            "Collecting pyaml>=16.9\n",
            "  Downloading pyaml-21.10.1-py2.py3-none-any.whl (24 kB)\n",
            "Requirement already satisfied: scikit-learn>=0.20.0 in /usr/local/lib/python3.7/dist-packages (from scikit-optimize) (1.0.2)\n",
            "Requirement already satisfied: scipy>=0.19.1 in /usr/local/lib/python3.7/dist-packages (from scikit-optimize) (1.4.1)\n",
            "Requirement already satisfied: PyYAML in /usr/local/lib/python3.7/dist-packages (from pyaml>=16.9->scikit-optimize) (3.13)\n",
            "Requirement already satisfied: threadpoolctl>=2.0.0 in /usr/local/lib/python3.7/dist-packages (from scikit-learn>=0.20.0->scikit-optimize) (3.1.0)\n",
            "Installing collected packages: pyaml, scikit-optimize\n",
            "Successfully installed pyaml-21.10.1 scikit-optimize-0.9.0\n",
            "Collecting catboost\n",
            "  Downloading catboost-1.0.5-cp37-none-manylinux1_x86_64.whl (76.6 MB)\n",
            "\u001b[K     |████████████████████████████████| 76.6 MB 1.3 MB/s \n",
            "\u001b[?25hRequirement already satisfied: scipy in /usr/local/lib/python3.7/dist-packages (from catboost) (1.4.1)\n",
            "Requirement already satisfied: graphviz in /usr/local/lib/python3.7/dist-packages (from catboost) (0.10.1)\n",
            "Requirement already satisfied: plotly in /usr/local/lib/python3.7/dist-packages (from catboost) (5.5.0)\n",
            "Requirement already satisfied: numpy>=1.16.0 in /usr/local/lib/python3.7/dist-packages (from catboost) (1.21.6)\n",
            "Requirement already satisfied: six in /usr/local/lib/python3.7/dist-packages (from catboost) (1.15.0)\n",
            "Requirement already satisfied: matplotlib in /usr/local/lib/python3.7/dist-packages (from catboost) (3.2.2)\n",
            "Requirement already satisfied: pandas>=0.24.0 in /usr/local/lib/python3.7/dist-packages (from catboost) (1.3.5)\n",
            "Requirement already satisfied: pytz>=2017.3 in /usr/local/lib/python3.7/dist-packages (from pandas>=0.24.0->catboost) (2022.1)\n",
            "Requirement already satisfied: python-dateutil>=2.7.3 in /usr/local/lib/python3.7/dist-packages (from pandas>=0.24.0->catboost) (2.8.2)\n",
            "Requirement already satisfied: pyparsing!=2.0.4,!=2.1.2,!=2.1.6,>=2.0.1 in /usr/local/lib/python3.7/dist-packages (from matplotlib->catboost) (3.0.8)\n",
            "Requirement already satisfied: cycler>=0.10 in /usr/local/lib/python3.7/dist-packages (from matplotlib->catboost) (0.11.0)\n",
            "Requirement already satisfied: kiwisolver>=1.0.1 in /usr/local/lib/python3.7/dist-packages (from matplotlib->catboost) (1.4.2)\n",
            "Requirement already satisfied: typing-extensions in /usr/local/lib/python3.7/dist-packages (from kiwisolver>=1.0.1->matplotlib->catboost) (4.2.0)\n",
            "Requirement already satisfied: tenacity>=6.2.0 in /usr/local/lib/python3.7/dist-packages (from plotly->catboost) (8.0.1)\n",
            "Installing collected packages: catboost\n",
            "Successfully installed catboost-1.0.5\n"
          ]
        }
      ]
    },
    {
      "cell_type": "code",
      "source": [
        "#mounting drive\n",
        "\n",
        "from google.colab import drive\n",
        "drive.mount('/content/drive')"
      ],
      "metadata": {
        "id": "3qWbKnxyiyH_",
        "colab": {
          "base_uri": "https://localhost:8080/"
        },
        "outputId": "9f9c7b5b-132e-4144-f325-dd39387116a1"
      },
      "execution_count": null,
      "outputs": [
        {
          "output_type": "stream",
          "name": "stdout",
          "text": [
            "Drive already mounted at /content/drive; to attempt to forcibly remount, call drive.mount(\"/content/drive\", force_remount=True).\n"
          ]
        }
      ]
    },
    {
      "cell_type": "code",
      "source": [
        "#loading file\n",
        "\n",
        "df=pd.read_csv('/content/drive/MyDrive/Copy of data_ted_talks.csv')"
      ],
      "metadata": {
        "id": "iF_k6cEtc6FG"
      },
      "execution_count": null,
      "outputs": []
    },
    {
      "cell_type": "code",
      "source": [
        "#making a copy of the dataset so that it doesn't impact the original data\n",
        "ted_df=df.copy()"
      ],
      "metadata": {
        "id": "RtS5psLQdaHN"
      },
      "execution_count": null,
      "outputs": []
    },
    {
      "cell_type": "code",
      "source": [
        "#lets have a look on our data and spend some time in understanding the relevance of different labels\n",
        "ted_df.head()"
      ],
      "metadata": {
        "colab": {
          "base_uri": "https://localhost:8080/",
          "height": 634
        },
        "id": "HTBZXoKrd0V_",
        "outputId": "da454089-71e8-4712-c3c5-2092795d299f"
      },
      "execution_count": null,
      "outputs": [
        {
          "output_type": "execute_result",
          "data": {
            "text/plain": [
              "   talk_id                            title         speaker_1  \\\n",
              "0        1      Averting the climate crisis           Al Gore   \n",
              "1       92  The best stats you've ever seen      Hans Rosling   \n",
              "2        7                 Simplicity sells       David Pogue   \n",
              "3       53              Greening the ghetto     Majora Carter   \n",
              "4       66      Do schools kill creativity?  Sir Ken Robinson   \n",
              "\n",
              "              all_speakers                                    occupations  \\\n",
              "0           {0: 'Al Gore'}                      {0: ['climate advocate']}   \n",
              "1      {0: 'Hans Rosling'}  {0: ['global health expert; data visionary']}   \n",
              "2       {0: 'David Pogue'}                  {0: ['technology columnist']}   \n",
              "3     {0: 'Majora Carter'}    {0: ['activist for environmental justice']}   \n",
              "4  {0: 'Sir Ken Robinson'}                    {0: ['author', 'educator']}   \n",
              "\n",
              "                                      about_speakers     views recorded_date  \\\n",
              "0  {0: 'Nobel Laureate Al Gore focused the world’...   3523392    2006-02-25   \n",
              "1  {0: 'In Hans Rosling’s hands, data sings. Glob...  14501685    2006-02-22   \n",
              "2  {0: 'David Pogue is the personal technology co...   1920832    2006-02-24   \n",
              "3  {0: 'Majora Carter redefined the field of envi...   2664069    2006-02-26   \n",
              "4  {0: \"Creativity expert Sir Ken Robinson challe...  65051954    2006-02-25   \n",
              "\n",
              "  published_date    event native_lang  \\\n",
              "0     2006-06-27  TED2006          en   \n",
              "1     2006-06-27  TED2006          en   \n",
              "2     2006-06-27  TED2006          en   \n",
              "3     2006-06-27  TED2006          en   \n",
              "4     2006-06-27  TED2006          en   \n",
              "\n",
              "                                      available_lang  comments  duration  \\\n",
              "0  ['ar', 'bg', 'cs', 'de', 'el', 'en', 'es', 'fa...     272.0       977   \n",
              "1  ['ar', 'az', 'bg', 'bn', 'bs', 'cs', 'da', 'de...     628.0      1190   \n",
              "2  ['ar', 'bg', 'de', 'el', 'en', 'es', 'fa', 'fr...     124.0      1286   \n",
              "3  ['ar', 'bg', 'bn', 'ca', 'cs', 'de', 'en', 'es...     219.0      1116   \n",
              "4  ['af', 'ar', 'az', 'be', 'bg', 'bn', 'ca', 'cs...    4931.0      1164   \n",
              "\n",
              "                                              topics  \\\n",
              "0  ['alternative energy', 'cars', 'climate change...   \n",
              "1  ['Africa', 'Asia', 'Google', 'demo', 'economic...   \n",
              "2  ['computers', 'entertainment', 'interface desi...   \n",
              "3  ['MacArthur grant', 'activism', 'business', 'c...   \n",
              "4  ['children', 'creativity', 'culture', 'dance',...   \n",
              "\n",
              "                                       related_talks  \\\n",
              "0  {243: 'New thinking on the climate crisis', 54...   \n",
              "1  {2056: \"Own your body's data\", 2296: 'A visual...   \n",
              "2  {1725: '10 top time-saving tech tips', 2274: '...   \n",
              "3  {1041: '3 stories of local eco-entrepreneurshi...   \n",
              "4  {865: 'Bring on the learning revolution!', 173...   \n",
              "\n",
              "                                                 url  \\\n",
              "0  https://www.ted.com/talks/al_gore_averting_the...   \n",
              "1  https://www.ted.com/talks/hans_rosling_the_bes...   \n",
              "2  https://www.ted.com/talks/david_pogue_simplici...   \n",
              "3  https://www.ted.com/talks/majora_carter_greeni...   \n",
              "4  https://www.ted.com/talks/sir_ken_robinson_do_...   \n",
              "\n",
              "                                         description  \\\n",
              "0  With the same humor and humanity he exuded in ...   \n",
              "1  You've never seen data presented like this. Wi...   \n",
              "2  New York Times columnist David Pogue takes aim...   \n",
              "3  In an emotionally charged talk, MacArthur-winn...   \n",
              "4  Sir Ken Robinson makes an entertaining and pro...   \n",
              "\n",
              "                                          transcript  \n",
              "0  Thank you so much, Chris. And it's truly a gre...  \n",
              "1  About 10 years ago, I took on the task to teac...  \n",
              "2  (Music: \"The Sound of Silence,\" Simon & Garfun...  \n",
              "3  If you're here today — and I'm very happy that...  \n",
              "4  Good morning. How are you? (Audience) Good. It...  "
            ],
            "text/html": [
              "\n",
              "  <div id=\"df-5d954ba9-958a-4518-983d-070712e22e6f\">\n",
              "    <div class=\"colab-df-container\">\n",
              "      <div>\n",
              "<style scoped>\n",
              "    .dataframe tbody tr th:only-of-type {\n",
              "        vertical-align: middle;\n",
              "    }\n",
              "\n",
              "    .dataframe tbody tr th {\n",
              "        vertical-align: top;\n",
              "    }\n",
              "\n",
              "    .dataframe thead th {\n",
              "        text-align: right;\n",
              "    }\n",
              "</style>\n",
              "<table border=\"1\" class=\"dataframe\">\n",
              "  <thead>\n",
              "    <tr style=\"text-align: right;\">\n",
              "      <th></th>\n",
              "      <th>talk_id</th>\n",
              "      <th>title</th>\n",
              "      <th>speaker_1</th>\n",
              "      <th>all_speakers</th>\n",
              "      <th>occupations</th>\n",
              "      <th>about_speakers</th>\n",
              "      <th>views</th>\n",
              "      <th>recorded_date</th>\n",
              "      <th>published_date</th>\n",
              "      <th>event</th>\n",
              "      <th>native_lang</th>\n",
              "      <th>available_lang</th>\n",
              "      <th>comments</th>\n",
              "      <th>duration</th>\n",
              "      <th>topics</th>\n",
              "      <th>related_talks</th>\n",
              "      <th>url</th>\n",
              "      <th>description</th>\n",
              "      <th>transcript</th>\n",
              "    </tr>\n",
              "  </thead>\n",
              "  <tbody>\n",
              "    <tr>\n",
              "      <th>0</th>\n",
              "      <td>1</td>\n",
              "      <td>Averting the climate crisis</td>\n",
              "      <td>Al Gore</td>\n",
              "      <td>{0: 'Al Gore'}</td>\n",
              "      <td>{0: ['climate advocate']}</td>\n",
              "      <td>{0: 'Nobel Laureate Al Gore focused the world’...</td>\n",
              "      <td>3523392</td>\n",
              "      <td>2006-02-25</td>\n",
              "      <td>2006-06-27</td>\n",
              "      <td>TED2006</td>\n",
              "      <td>en</td>\n",
              "      <td>['ar', 'bg', 'cs', 'de', 'el', 'en', 'es', 'fa...</td>\n",
              "      <td>272.0</td>\n",
              "      <td>977</td>\n",
              "      <td>['alternative energy', 'cars', 'climate change...</td>\n",
              "      <td>{243: 'New thinking on the climate crisis', 54...</td>\n",
              "      <td>https://www.ted.com/talks/al_gore_averting_the...</td>\n",
              "      <td>With the same humor and humanity he exuded in ...</td>\n",
              "      <td>Thank you so much, Chris. And it's truly a gre...</td>\n",
              "    </tr>\n",
              "    <tr>\n",
              "      <th>1</th>\n",
              "      <td>92</td>\n",
              "      <td>The best stats you've ever seen</td>\n",
              "      <td>Hans Rosling</td>\n",
              "      <td>{0: 'Hans Rosling'}</td>\n",
              "      <td>{0: ['global health expert; data visionary']}</td>\n",
              "      <td>{0: 'In Hans Rosling’s hands, data sings. Glob...</td>\n",
              "      <td>14501685</td>\n",
              "      <td>2006-02-22</td>\n",
              "      <td>2006-06-27</td>\n",
              "      <td>TED2006</td>\n",
              "      <td>en</td>\n",
              "      <td>['ar', 'az', 'bg', 'bn', 'bs', 'cs', 'da', 'de...</td>\n",
              "      <td>628.0</td>\n",
              "      <td>1190</td>\n",
              "      <td>['Africa', 'Asia', 'Google', 'demo', 'economic...</td>\n",
              "      <td>{2056: \"Own your body's data\", 2296: 'A visual...</td>\n",
              "      <td>https://www.ted.com/talks/hans_rosling_the_bes...</td>\n",
              "      <td>You've never seen data presented like this. Wi...</td>\n",
              "      <td>About 10 years ago, I took on the task to teac...</td>\n",
              "    </tr>\n",
              "    <tr>\n",
              "      <th>2</th>\n",
              "      <td>7</td>\n",
              "      <td>Simplicity sells</td>\n",
              "      <td>David Pogue</td>\n",
              "      <td>{0: 'David Pogue'}</td>\n",
              "      <td>{0: ['technology columnist']}</td>\n",
              "      <td>{0: 'David Pogue is the personal technology co...</td>\n",
              "      <td>1920832</td>\n",
              "      <td>2006-02-24</td>\n",
              "      <td>2006-06-27</td>\n",
              "      <td>TED2006</td>\n",
              "      <td>en</td>\n",
              "      <td>['ar', 'bg', 'de', 'el', 'en', 'es', 'fa', 'fr...</td>\n",
              "      <td>124.0</td>\n",
              "      <td>1286</td>\n",
              "      <td>['computers', 'entertainment', 'interface desi...</td>\n",
              "      <td>{1725: '10 top time-saving tech tips', 2274: '...</td>\n",
              "      <td>https://www.ted.com/talks/david_pogue_simplici...</td>\n",
              "      <td>New York Times columnist David Pogue takes aim...</td>\n",
              "      <td>(Music: \"The Sound of Silence,\" Simon &amp; Garfun...</td>\n",
              "    </tr>\n",
              "    <tr>\n",
              "      <th>3</th>\n",
              "      <td>53</td>\n",
              "      <td>Greening the ghetto</td>\n",
              "      <td>Majora Carter</td>\n",
              "      <td>{0: 'Majora Carter'}</td>\n",
              "      <td>{0: ['activist for environmental justice']}</td>\n",
              "      <td>{0: 'Majora Carter redefined the field of envi...</td>\n",
              "      <td>2664069</td>\n",
              "      <td>2006-02-26</td>\n",
              "      <td>2006-06-27</td>\n",
              "      <td>TED2006</td>\n",
              "      <td>en</td>\n",
              "      <td>['ar', 'bg', 'bn', 'ca', 'cs', 'de', 'en', 'es...</td>\n",
              "      <td>219.0</td>\n",
              "      <td>1116</td>\n",
              "      <td>['MacArthur grant', 'activism', 'business', 'c...</td>\n",
              "      <td>{1041: '3 stories of local eco-entrepreneurshi...</td>\n",
              "      <td>https://www.ted.com/talks/majora_carter_greeni...</td>\n",
              "      <td>In an emotionally charged talk, MacArthur-winn...</td>\n",
              "      <td>If you're here today — and I'm very happy that...</td>\n",
              "    </tr>\n",
              "    <tr>\n",
              "      <th>4</th>\n",
              "      <td>66</td>\n",
              "      <td>Do schools kill creativity?</td>\n",
              "      <td>Sir Ken Robinson</td>\n",
              "      <td>{0: 'Sir Ken Robinson'}</td>\n",
              "      <td>{0: ['author', 'educator']}</td>\n",
              "      <td>{0: \"Creativity expert Sir Ken Robinson challe...</td>\n",
              "      <td>65051954</td>\n",
              "      <td>2006-02-25</td>\n",
              "      <td>2006-06-27</td>\n",
              "      <td>TED2006</td>\n",
              "      <td>en</td>\n",
              "      <td>['af', 'ar', 'az', 'be', 'bg', 'bn', 'ca', 'cs...</td>\n",
              "      <td>4931.0</td>\n",
              "      <td>1164</td>\n",
              "      <td>['children', 'creativity', 'culture', 'dance',...</td>\n",
              "      <td>{865: 'Bring on the learning revolution!', 173...</td>\n",
              "      <td>https://www.ted.com/talks/sir_ken_robinson_do_...</td>\n",
              "      <td>Sir Ken Robinson makes an entertaining and pro...</td>\n",
              "      <td>Good morning. How are you? (Audience) Good. It...</td>\n",
              "    </tr>\n",
              "  </tbody>\n",
              "</table>\n",
              "</div>\n",
              "      <button class=\"colab-df-convert\" onclick=\"convertToInteractive('df-5d954ba9-958a-4518-983d-070712e22e6f')\"\n",
              "              title=\"Convert this dataframe to an interactive table.\"\n",
              "              style=\"display:none;\">\n",
              "        \n",
              "  <svg xmlns=\"http://www.w3.org/2000/svg\" height=\"24px\"viewBox=\"0 0 24 24\"\n",
              "       width=\"24px\">\n",
              "    <path d=\"M0 0h24v24H0V0z\" fill=\"none\"/>\n",
              "    <path d=\"M18.56 5.44l.94 2.06.94-2.06 2.06-.94-2.06-.94-.94-2.06-.94 2.06-2.06.94zm-11 1L8.5 8.5l.94-2.06 2.06-.94-2.06-.94L8.5 2.5l-.94 2.06-2.06.94zm10 10l.94 2.06.94-2.06 2.06-.94-2.06-.94-.94-2.06-.94 2.06-2.06.94z\"/><path d=\"M17.41 7.96l-1.37-1.37c-.4-.4-.92-.59-1.43-.59-.52 0-1.04.2-1.43.59L10.3 9.45l-7.72 7.72c-.78.78-.78 2.05 0 2.83L4 21.41c.39.39.9.59 1.41.59.51 0 1.02-.2 1.41-.59l7.78-7.78 2.81-2.81c.8-.78.8-2.07 0-2.86zM5.41 20L4 18.59l7.72-7.72 1.47 1.35L5.41 20z\"/>\n",
              "  </svg>\n",
              "      </button>\n",
              "      \n",
              "  <style>\n",
              "    .colab-df-container {\n",
              "      display:flex;\n",
              "      flex-wrap:wrap;\n",
              "      gap: 12px;\n",
              "    }\n",
              "\n",
              "    .colab-df-convert {\n",
              "      background-color: #E8F0FE;\n",
              "      border: none;\n",
              "      border-radius: 50%;\n",
              "      cursor: pointer;\n",
              "      display: none;\n",
              "      fill: #1967D2;\n",
              "      height: 32px;\n",
              "      padding: 0 0 0 0;\n",
              "      width: 32px;\n",
              "    }\n",
              "\n",
              "    .colab-df-convert:hover {\n",
              "      background-color: #E2EBFA;\n",
              "      box-shadow: 0px 1px 2px rgba(60, 64, 67, 0.3), 0px 1px 3px 1px rgba(60, 64, 67, 0.15);\n",
              "      fill: #174EA6;\n",
              "    }\n",
              "\n",
              "    [theme=dark] .colab-df-convert {\n",
              "      background-color: #3B4455;\n",
              "      fill: #D2E3FC;\n",
              "    }\n",
              "\n",
              "    [theme=dark] .colab-df-convert:hover {\n",
              "      background-color: #434B5C;\n",
              "      box-shadow: 0px 1px 3px 1px rgba(0, 0, 0, 0.15);\n",
              "      filter: drop-shadow(0px 1px 2px rgba(0, 0, 0, 0.3));\n",
              "      fill: #FFFFFF;\n",
              "    }\n",
              "  </style>\n",
              "\n",
              "      <script>\n",
              "        const buttonEl =\n",
              "          document.querySelector('#df-5d954ba9-958a-4518-983d-070712e22e6f button.colab-df-convert');\n",
              "        buttonEl.style.display =\n",
              "          google.colab.kernel.accessAllowed ? 'block' : 'none';\n",
              "\n",
              "        async function convertToInteractive(key) {\n",
              "          const element = document.querySelector('#df-5d954ba9-958a-4518-983d-070712e22e6f');\n",
              "          const dataTable =\n",
              "            await google.colab.kernel.invokeFunction('convertToInteractive',\n",
              "                                                     [key], {});\n",
              "          if (!dataTable) return;\n",
              "\n",
              "          const docLinkHtml = 'Like what you see? Visit the ' +\n",
              "            '<a target=\"_blank\" href=https://colab.research.google.com/notebooks/data_table.ipynb>data table notebook</a>'\n",
              "            + ' to learn more about interactive tables.';\n",
              "          element.innerHTML = '';\n",
              "          dataTable['output_type'] = 'display_data';\n",
              "          await google.colab.output.renderOutput(dataTable, element);\n",
              "          const docLink = document.createElement('div');\n",
              "          docLink.innerHTML = docLinkHtml;\n",
              "          element.appendChild(docLink);\n",
              "        }\n",
              "      </script>\n",
              "    </div>\n",
              "  </div>\n",
              "  "
            ]
          },
          "metadata": {},
          "execution_count": 7
        }
      ]
    },
    {
      "cell_type": "code",
      "source": [
        "#dimensions of data\n",
        "ted_df.shape"
      ],
      "metadata": {
        "colab": {
          "base_uri": "https://localhost:8080/"
        },
        "id": "aj5E9cYRtoTz",
        "outputId": "d507276f-2285-4081-d2ca-abea42dab2d7"
      },
      "execution_count": null,
      "outputs": [
        {
          "output_type": "execute_result",
          "data": {
            "text/plain": [
              "(4005, 19)"
            ]
          },
          "metadata": {},
          "execution_count": 8
        }
      ]
    },
    {
      "cell_type": "markdown",
      "source": [
        "#1. DATA CLEANING"
      ],
      "metadata": {
        "id": "TVTnHLm98t83"
      }
    },
    {
      "cell_type": "code",
      "source": [
        "#Lets have a look on the columns with null values\n",
        "ted_df.info()"
      ],
      "metadata": {
        "colab": {
          "base_uri": "https://localhost:8080/"
        },
        "id": "9sj64kv0vo3_",
        "outputId": "4038cb3e-ea41-4e43-828d-3bf2642aa787"
      },
      "execution_count": null,
      "outputs": [
        {
          "output_type": "stream",
          "name": "stdout",
          "text": [
            "<class 'pandas.core.frame.DataFrame'>\n",
            "RangeIndex: 4005 entries, 0 to 4004\n",
            "Data columns (total 19 columns):\n",
            " #   Column          Non-Null Count  Dtype  \n",
            "---  ------          --------------  -----  \n",
            " 0   talk_id         4005 non-null   int64  \n",
            " 1   title           4005 non-null   object \n",
            " 2   speaker_1       4005 non-null   object \n",
            " 3   all_speakers    4001 non-null   object \n",
            " 4   occupations     3483 non-null   object \n",
            " 5   about_speakers  3502 non-null   object \n",
            " 6   views           4005 non-null   int64  \n",
            " 7   recorded_date   4004 non-null   object \n",
            " 8   published_date  4005 non-null   object \n",
            " 9   event           4005 non-null   object \n",
            " 10  native_lang     4005 non-null   object \n",
            " 11  available_lang  4005 non-null   object \n",
            " 12  comments        3350 non-null   float64\n",
            " 13  duration        4005 non-null   int64  \n",
            " 14  topics          4005 non-null   object \n",
            " 15  related_talks   4005 non-null   object \n",
            " 16  url             4005 non-null   object \n",
            " 17  description     4005 non-null   object \n",
            " 18  transcript      4005 non-null   object \n",
            "dtypes: float64(1), int64(3), object(15)\n",
            "memory usage: 594.6+ KB\n"
          ]
        }
      ]
    },
    {
      "cell_type": "code",
      "source": [
        "ted_df.describe(include='all')"
      ],
      "metadata": {
        "colab": {
          "base_uri": "https://localhost:8080/",
          "height": 527
        },
        "id": "y6TgbQU0vvT6",
        "outputId": "4c0ada26-020c-4259-aea1-779acbc105e6"
      },
      "execution_count": null,
      "outputs": [
        {
          "output_type": "execute_result",
          "data": {
            "text/plain": [
              "             talk_id                        title     speaker_1  \\\n",
              "count    4005.000000                         4005          4005   \n",
              "unique           NaN                         4005          3274   \n",
              "top              NaN  Averting the climate crisis  Alex Gendler   \n",
              "freq             NaN                            1            34   \n",
              "mean    12432.538327                          NaN           NaN   \n",
              "std     17447.576262                          NaN           NaN   \n",
              "min         1.000000                          NaN           NaN   \n",
              "25%      1252.000000                          NaN           NaN   \n",
              "50%      2333.000000                          NaN           NaN   \n",
              "75%     23777.000000                          NaN           NaN   \n",
              "max     62794.000000                          NaN           NaN   \n",
              "\n",
              "               all_speakers      occupations  \\\n",
              "count                  4001             3483   \n",
              "unique                 3306             2049   \n",
              "top     {0: 'Alex Gendler'}  {0: ['writer']}   \n",
              "freq                     34               53   \n",
              "mean                    NaN              NaN   \n",
              "std                     NaN              NaN   \n",
              "min                     NaN              NaN   \n",
              "25%                     NaN              NaN   \n",
              "50%                     NaN              NaN   \n",
              "75%                     NaN              NaN   \n",
              "max                     NaN              NaN   \n",
              "\n",
              "                                           about_speakers         views  \\\n",
              "count                                                3502  4.005000e+03   \n",
              "unique                                               2977           NaN   \n",
              "top     {0: 'Alex Rosenthal takes everyday experiences...           NaN   \n",
              "freq                                                   10           NaN   \n",
              "mean                                                  NaN  2.148006e+06   \n",
              "std                                                   NaN  3.451226e+06   \n",
              "min                                                   NaN  0.000000e+00   \n",
              "25%                                                   NaN  8.820690e+05   \n",
              "50%                                                   NaN  1.375508e+06   \n",
              "75%                                                   NaN  2.133110e+06   \n",
              "max                                                   NaN  6.505195e+07   \n",
              "\n",
              "       recorded_date published_date   event native_lang available_lang  \\\n",
              "count           4004           4005    4005        4005           4005   \n",
              "unique          1334           2962     459          12           3902   \n",
              "top       2017-04-24     2017-09-07  TED-Ed          en         ['en']   \n",
              "freq              97             27     556        3957             24   \n",
              "mean             NaN            NaN     NaN         NaN            NaN   \n",
              "std              NaN            NaN     NaN         NaN            NaN   \n",
              "min              NaN            NaN     NaN         NaN            NaN   \n",
              "25%              NaN            NaN     NaN         NaN            NaN   \n",
              "50%              NaN            NaN     NaN         NaN            NaN   \n",
              "75%              NaN            NaN     NaN         NaN            NaN   \n",
              "max              NaN            NaN     NaN         NaN            NaN   \n",
              "\n",
              "           comments     duration              topics  \\\n",
              "count   3350.000000  4005.000000                4005   \n",
              "unique          NaN          NaN                3977   \n",
              "top             NaN          NaN  ['TED-Ed', 'math']   \n",
              "freq            NaN          NaN                   8   \n",
              "mean     161.997015   724.011236                 NaN   \n",
              "std      268.838922   361.775462                 NaN   \n",
              "min        0.000000    60.000000                 NaN   \n",
              "25%       38.000000   393.000000                 NaN   \n",
              "50%       89.000000   738.000000                 NaN   \n",
              "75%      188.000000   974.000000                 NaN   \n",
              "max     6449.000000  3922.000000                 NaN   \n",
              "\n",
              "                                            related_talks  \\\n",
              "count                                                4005   \n",
              "unique                                               4005   \n",
              "top     {243: 'New thinking on the climate crisis', 54...   \n",
              "freq                                                    1   \n",
              "mean                                                  NaN   \n",
              "std                                                   NaN   \n",
              "min                                                   NaN   \n",
              "25%                                                   NaN   \n",
              "50%                                                   NaN   \n",
              "75%                                                   NaN   \n",
              "max                                                   NaN   \n",
              "\n",
              "                                                      url  \\\n",
              "count                                                4005   \n",
              "unique                                               4005   \n",
              "top     https://www.ted.com/talks/al_gore_averting_the...   \n",
              "freq                                                    1   \n",
              "mean                                                  NaN   \n",
              "std                                                   NaN   \n",
              "min                                                   NaN   \n",
              "25%                                                   NaN   \n",
              "50%                                                   NaN   \n",
              "75%                                                   NaN   \n",
              "max                                                   NaN   \n",
              "\n",
              "                                              description  \\\n",
              "count                                                4005   \n",
              "unique                                               4005   \n",
              "top     With the same humor and humanity he exuded in ...   \n",
              "freq                                                    1   \n",
              "mean                                                  NaN   \n",
              "std                                                   NaN   \n",
              "min                                                   NaN   \n",
              "25%                                                   NaN   \n",
              "50%                                                   NaN   \n",
              "75%                                                   NaN   \n",
              "max                                                   NaN   \n",
              "\n",
              "                                               transcript  \n",
              "count                                                4005  \n",
              "unique                                               4005  \n",
              "top     Thank you so much, Chris. And it's truly a gre...  \n",
              "freq                                                    1  \n",
              "mean                                                  NaN  \n",
              "std                                                   NaN  \n",
              "min                                                   NaN  \n",
              "25%                                                   NaN  \n",
              "50%                                                   NaN  \n",
              "75%                                                   NaN  \n",
              "max                                                   NaN  "
            ],
            "text/html": [
              "\n",
              "  <div id=\"df-95bc5f9f-3f56-435d-9743-14e147c3dd16\">\n",
              "    <div class=\"colab-df-container\">\n",
              "      <div>\n",
              "<style scoped>\n",
              "    .dataframe tbody tr th:only-of-type {\n",
              "        vertical-align: middle;\n",
              "    }\n",
              "\n",
              "    .dataframe tbody tr th {\n",
              "        vertical-align: top;\n",
              "    }\n",
              "\n",
              "    .dataframe thead th {\n",
              "        text-align: right;\n",
              "    }\n",
              "</style>\n",
              "<table border=\"1\" class=\"dataframe\">\n",
              "  <thead>\n",
              "    <tr style=\"text-align: right;\">\n",
              "      <th></th>\n",
              "      <th>talk_id</th>\n",
              "      <th>title</th>\n",
              "      <th>speaker_1</th>\n",
              "      <th>all_speakers</th>\n",
              "      <th>occupations</th>\n",
              "      <th>about_speakers</th>\n",
              "      <th>views</th>\n",
              "      <th>recorded_date</th>\n",
              "      <th>published_date</th>\n",
              "      <th>event</th>\n",
              "      <th>native_lang</th>\n",
              "      <th>available_lang</th>\n",
              "      <th>comments</th>\n",
              "      <th>duration</th>\n",
              "      <th>topics</th>\n",
              "      <th>related_talks</th>\n",
              "      <th>url</th>\n",
              "      <th>description</th>\n",
              "      <th>transcript</th>\n",
              "    </tr>\n",
              "  </thead>\n",
              "  <tbody>\n",
              "    <tr>\n",
              "      <th>count</th>\n",
              "      <td>4005.000000</td>\n",
              "      <td>4005</td>\n",
              "      <td>4005</td>\n",
              "      <td>4001</td>\n",
              "      <td>3483</td>\n",
              "      <td>3502</td>\n",
              "      <td>4.005000e+03</td>\n",
              "      <td>4004</td>\n",
              "      <td>4005</td>\n",
              "      <td>4005</td>\n",
              "      <td>4005</td>\n",
              "      <td>4005</td>\n",
              "      <td>3350.000000</td>\n",
              "      <td>4005.000000</td>\n",
              "      <td>4005</td>\n",
              "      <td>4005</td>\n",
              "      <td>4005</td>\n",
              "      <td>4005</td>\n",
              "      <td>4005</td>\n",
              "    </tr>\n",
              "    <tr>\n",
              "      <th>unique</th>\n",
              "      <td>NaN</td>\n",
              "      <td>4005</td>\n",
              "      <td>3274</td>\n",
              "      <td>3306</td>\n",
              "      <td>2049</td>\n",
              "      <td>2977</td>\n",
              "      <td>NaN</td>\n",
              "      <td>1334</td>\n",
              "      <td>2962</td>\n",
              "      <td>459</td>\n",
              "      <td>12</td>\n",
              "      <td>3902</td>\n",
              "      <td>NaN</td>\n",
              "      <td>NaN</td>\n",
              "      <td>3977</td>\n",
              "      <td>4005</td>\n",
              "      <td>4005</td>\n",
              "      <td>4005</td>\n",
              "      <td>4005</td>\n",
              "    </tr>\n",
              "    <tr>\n",
              "      <th>top</th>\n",
              "      <td>NaN</td>\n",
              "      <td>Averting the climate crisis</td>\n",
              "      <td>Alex Gendler</td>\n",
              "      <td>{0: 'Alex Gendler'}</td>\n",
              "      <td>{0: ['writer']}</td>\n",
              "      <td>{0: 'Alex Rosenthal takes everyday experiences...</td>\n",
              "      <td>NaN</td>\n",
              "      <td>2017-04-24</td>\n",
              "      <td>2017-09-07</td>\n",
              "      <td>TED-Ed</td>\n",
              "      <td>en</td>\n",
              "      <td>['en']</td>\n",
              "      <td>NaN</td>\n",
              "      <td>NaN</td>\n",
              "      <td>['TED-Ed', 'math']</td>\n",
              "      <td>{243: 'New thinking on the climate crisis', 54...</td>\n",
              "      <td>https://www.ted.com/talks/al_gore_averting_the...</td>\n",
              "      <td>With the same humor and humanity he exuded in ...</td>\n",
              "      <td>Thank you so much, Chris. And it's truly a gre...</td>\n",
              "    </tr>\n",
              "    <tr>\n",
              "      <th>freq</th>\n",
              "      <td>NaN</td>\n",
              "      <td>1</td>\n",
              "      <td>34</td>\n",
              "      <td>34</td>\n",
              "      <td>53</td>\n",
              "      <td>10</td>\n",
              "      <td>NaN</td>\n",
              "      <td>97</td>\n",
              "      <td>27</td>\n",
              "      <td>556</td>\n",
              "      <td>3957</td>\n",
              "      <td>24</td>\n",
              "      <td>NaN</td>\n",
              "      <td>NaN</td>\n",
              "      <td>8</td>\n",
              "      <td>1</td>\n",
              "      <td>1</td>\n",
              "      <td>1</td>\n",
              "      <td>1</td>\n",
              "    </tr>\n",
              "    <tr>\n",
              "      <th>mean</th>\n",
              "      <td>12432.538327</td>\n",
              "      <td>NaN</td>\n",
              "      <td>NaN</td>\n",
              "      <td>NaN</td>\n",
              "      <td>NaN</td>\n",
              "      <td>NaN</td>\n",
              "      <td>2.148006e+06</td>\n",
              "      <td>NaN</td>\n",
              "      <td>NaN</td>\n",
              "      <td>NaN</td>\n",
              "      <td>NaN</td>\n",
              "      <td>NaN</td>\n",
              "      <td>161.997015</td>\n",
              "      <td>724.011236</td>\n",
              "      <td>NaN</td>\n",
              "      <td>NaN</td>\n",
              "      <td>NaN</td>\n",
              "      <td>NaN</td>\n",
              "      <td>NaN</td>\n",
              "    </tr>\n",
              "    <tr>\n",
              "      <th>std</th>\n",
              "      <td>17447.576262</td>\n",
              "      <td>NaN</td>\n",
              "      <td>NaN</td>\n",
              "      <td>NaN</td>\n",
              "      <td>NaN</td>\n",
              "      <td>NaN</td>\n",
              "      <td>3.451226e+06</td>\n",
              "      <td>NaN</td>\n",
              "      <td>NaN</td>\n",
              "      <td>NaN</td>\n",
              "      <td>NaN</td>\n",
              "      <td>NaN</td>\n",
              "      <td>268.838922</td>\n",
              "      <td>361.775462</td>\n",
              "      <td>NaN</td>\n",
              "      <td>NaN</td>\n",
              "      <td>NaN</td>\n",
              "      <td>NaN</td>\n",
              "      <td>NaN</td>\n",
              "    </tr>\n",
              "    <tr>\n",
              "      <th>min</th>\n",
              "      <td>1.000000</td>\n",
              "      <td>NaN</td>\n",
              "      <td>NaN</td>\n",
              "      <td>NaN</td>\n",
              "      <td>NaN</td>\n",
              "      <td>NaN</td>\n",
              "      <td>0.000000e+00</td>\n",
              "      <td>NaN</td>\n",
              "      <td>NaN</td>\n",
              "      <td>NaN</td>\n",
              "      <td>NaN</td>\n",
              "      <td>NaN</td>\n",
              "      <td>0.000000</td>\n",
              "      <td>60.000000</td>\n",
              "      <td>NaN</td>\n",
              "      <td>NaN</td>\n",
              "      <td>NaN</td>\n",
              "      <td>NaN</td>\n",
              "      <td>NaN</td>\n",
              "    </tr>\n",
              "    <tr>\n",
              "      <th>25%</th>\n",
              "      <td>1252.000000</td>\n",
              "      <td>NaN</td>\n",
              "      <td>NaN</td>\n",
              "      <td>NaN</td>\n",
              "      <td>NaN</td>\n",
              "      <td>NaN</td>\n",
              "      <td>8.820690e+05</td>\n",
              "      <td>NaN</td>\n",
              "      <td>NaN</td>\n",
              "      <td>NaN</td>\n",
              "      <td>NaN</td>\n",
              "      <td>NaN</td>\n",
              "      <td>38.000000</td>\n",
              "      <td>393.000000</td>\n",
              "      <td>NaN</td>\n",
              "      <td>NaN</td>\n",
              "      <td>NaN</td>\n",
              "      <td>NaN</td>\n",
              "      <td>NaN</td>\n",
              "    </tr>\n",
              "    <tr>\n",
              "      <th>50%</th>\n",
              "      <td>2333.000000</td>\n",
              "      <td>NaN</td>\n",
              "      <td>NaN</td>\n",
              "      <td>NaN</td>\n",
              "      <td>NaN</td>\n",
              "      <td>NaN</td>\n",
              "      <td>1.375508e+06</td>\n",
              "      <td>NaN</td>\n",
              "      <td>NaN</td>\n",
              "      <td>NaN</td>\n",
              "      <td>NaN</td>\n",
              "      <td>NaN</td>\n",
              "      <td>89.000000</td>\n",
              "      <td>738.000000</td>\n",
              "      <td>NaN</td>\n",
              "      <td>NaN</td>\n",
              "      <td>NaN</td>\n",
              "      <td>NaN</td>\n",
              "      <td>NaN</td>\n",
              "    </tr>\n",
              "    <tr>\n",
              "      <th>75%</th>\n",
              "      <td>23777.000000</td>\n",
              "      <td>NaN</td>\n",
              "      <td>NaN</td>\n",
              "      <td>NaN</td>\n",
              "      <td>NaN</td>\n",
              "      <td>NaN</td>\n",
              "      <td>2.133110e+06</td>\n",
              "      <td>NaN</td>\n",
              "      <td>NaN</td>\n",
              "      <td>NaN</td>\n",
              "      <td>NaN</td>\n",
              "      <td>NaN</td>\n",
              "      <td>188.000000</td>\n",
              "      <td>974.000000</td>\n",
              "      <td>NaN</td>\n",
              "      <td>NaN</td>\n",
              "      <td>NaN</td>\n",
              "      <td>NaN</td>\n",
              "      <td>NaN</td>\n",
              "    </tr>\n",
              "    <tr>\n",
              "      <th>max</th>\n",
              "      <td>62794.000000</td>\n",
              "      <td>NaN</td>\n",
              "      <td>NaN</td>\n",
              "      <td>NaN</td>\n",
              "      <td>NaN</td>\n",
              "      <td>NaN</td>\n",
              "      <td>6.505195e+07</td>\n",
              "      <td>NaN</td>\n",
              "      <td>NaN</td>\n",
              "      <td>NaN</td>\n",
              "      <td>NaN</td>\n",
              "      <td>NaN</td>\n",
              "      <td>6449.000000</td>\n",
              "      <td>3922.000000</td>\n",
              "      <td>NaN</td>\n",
              "      <td>NaN</td>\n",
              "      <td>NaN</td>\n",
              "      <td>NaN</td>\n",
              "      <td>NaN</td>\n",
              "    </tr>\n",
              "  </tbody>\n",
              "</table>\n",
              "</div>\n",
              "      <button class=\"colab-df-convert\" onclick=\"convertToInteractive('df-95bc5f9f-3f56-435d-9743-14e147c3dd16')\"\n",
              "              title=\"Convert this dataframe to an interactive table.\"\n",
              "              style=\"display:none;\">\n",
              "        \n",
              "  <svg xmlns=\"http://www.w3.org/2000/svg\" height=\"24px\"viewBox=\"0 0 24 24\"\n",
              "       width=\"24px\">\n",
              "    <path d=\"M0 0h24v24H0V0z\" fill=\"none\"/>\n",
              "    <path d=\"M18.56 5.44l.94 2.06.94-2.06 2.06-.94-2.06-.94-.94-2.06-.94 2.06-2.06.94zm-11 1L8.5 8.5l.94-2.06 2.06-.94-2.06-.94L8.5 2.5l-.94 2.06-2.06.94zm10 10l.94 2.06.94-2.06 2.06-.94-2.06-.94-.94-2.06-.94 2.06-2.06.94z\"/><path d=\"M17.41 7.96l-1.37-1.37c-.4-.4-.92-.59-1.43-.59-.52 0-1.04.2-1.43.59L10.3 9.45l-7.72 7.72c-.78.78-.78 2.05 0 2.83L4 21.41c.39.39.9.59 1.41.59.51 0 1.02-.2 1.41-.59l7.78-7.78 2.81-2.81c.8-.78.8-2.07 0-2.86zM5.41 20L4 18.59l7.72-7.72 1.47 1.35L5.41 20z\"/>\n",
              "  </svg>\n",
              "      </button>\n",
              "      \n",
              "  <style>\n",
              "    .colab-df-container {\n",
              "      display:flex;\n",
              "      flex-wrap:wrap;\n",
              "      gap: 12px;\n",
              "    }\n",
              "\n",
              "    .colab-df-convert {\n",
              "      background-color: #E8F0FE;\n",
              "      border: none;\n",
              "      border-radius: 50%;\n",
              "      cursor: pointer;\n",
              "      display: none;\n",
              "      fill: #1967D2;\n",
              "      height: 32px;\n",
              "      padding: 0 0 0 0;\n",
              "      width: 32px;\n",
              "    }\n",
              "\n",
              "    .colab-df-convert:hover {\n",
              "      background-color: #E2EBFA;\n",
              "      box-shadow: 0px 1px 2px rgba(60, 64, 67, 0.3), 0px 1px 3px 1px rgba(60, 64, 67, 0.15);\n",
              "      fill: #174EA6;\n",
              "    }\n",
              "\n",
              "    [theme=dark] .colab-df-convert {\n",
              "      background-color: #3B4455;\n",
              "      fill: #D2E3FC;\n",
              "    }\n",
              "\n",
              "    [theme=dark] .colab-df-convert:hover {\n",
              "      background-color: #434B5C;\n",
              "      box-shadow: 0px 1px 3px 1px rgba(0, 0, 0, 0.15);\n",
              "      filter: drop-shadow(0px 1px 2px rgba(0, 0, 0, 0.3));\n",
              "      fill: #FFFFFF;\n",
              "    }\n",
              "  </style>\n",
              "\n",
              "      <script>\n",
              "        const buttonEl =\n",
              "          document.querySelector('#df-95bc5f9f-3f56-435d-9743-14e147c3dd16 button.colab-df-convert');\n",
              "        buttonEl.style.display =\n",
              "          google.colab.kernel.accessAllowed ? 'block' : 'none';\n",
              "\n",
              "        async function convertToInteractive(key) {\n",
              "          const element = document.querySelector('#df-95bc5f9f-3f56-435d-9743-14e147c3dd16');\n",
              "          const dataTable =\n",
              "            await google.colab.kernel.invokeFunction('convertToInteractive',\n",
              "                                                     [key], {});\n",
              "          if (!dataTable) return;\n",
              "\n",
              "          const docLinkHtml = 'Like what you see? Visit the ' +\n",
              "            '<a target=\"_blank\" href=https://colab.research.google.com/notebooks/data_table.ipynb>data table notebook</a>'\n",
              "            + ' to learn more about interactive tables.';\n",
              "          element.innerHTML = '';\n",
              "          dataTable['output_type'] = 'display_data';\n",
              "          await google.colab.output.renderOutput(dataTable, element);\n",
              "          const docLink = document.createElement('div');\n",
              "          docLink.innerHTML = docLinkHtml;\n",
              "          element.appendChild(docLink);\n",
              "        }\n",
              "      </script>\n",
              "    </div>\n",
              "  </div>\n",
              "  "
            ]
          },
          "metadata": {},
          "execution_count": 10
        }
      ]
    },
    {
      "cell_type": "code",
      "source": [
        "#following columns have null values and hence are required to be treated\n",
        "\n",
        "ted_df['occupations'].fillna('N/A',inplace=True)\n",
        "ted_df['about_speakers'].fillna('N/A',inplace=True)\n",
        "ted_df['all_speakers'].fillna('N/A',inplace=True)\n",
        "ted_df['total_languages'] = ted_df['available_lang'].apply(lambda x: len(x))\n"
      ],
      "metadata": {
        "id": "eogOFo2fv6LE"
      },
      "execution_count": null,
      "outputs": []
    },
    {
      "cell_type": "code",
      "source": [
        "#done with the task\n",
        "ted_df.info()"
      ],
      "metadata": {
        "colab": {
          "base_uri": "https://localhost:8080/"
        },
        "id": "S-mFbDM3NjC5",
        "outputId": "a19eeed6-4600-402a-c208-baf3c47262da"
      },
      "execution_count": null,
      "outputs": [
        {
          "output_type": "stream",
          "name": "stdout",
          "text": [
            "<class 'pandas.core.frame.DataFrame'>\n",
            "RangeIndex: 4005 entries, 0 to 4004\n",
            "Data columns (total 20 columns):\n",
            " #   Column           Non-Null Count  Dtype  \n",
            "---  ------           --------------  -----  \n",
            " 0   talk_id          4005 non-null   int64  \n",
            " 1   title            4005 non-null   object \n",
            " 2   speaker_1        4005 non-null   object \n",
            " 3   all_speakers     4005 non-null   object \n",
            " 4   occupations      4005 non-null   object \n",
            " 5   about_speakers   4005 non-null   object \n",
            " 6   views            4005 non-null   int64  \n",
            " 7   recorded_date    4004 non-null   object \n",
            " 8   published_date   4005 non-null   object \n",
            " 9   event            4005 non-null   object \n",
            " 10  native_lang      4005 non-null   object \n",
            " 11  available_lang   4005 non-null   object \n",
            " 12  comments         3350 non-null   float64\n",
            " 13  duration         4005 non-null   int64  \n",
            " 14  topics           4005 non-null   object \n",
            " 15  related_talks    4005 non-null   object \n",
            " 16  url              4005 non-null   object \n",
            " 17  description      4005 non-null   object \n",
            " 18  transcript       4005 non-null   object \n",
            " 19  total_languages  4005 non-null   int64  \n",
            "dtypes: float64(1), int64(4), object(15)\n",
            "memory usage: 625.9+ KB\n"
          ]
        }
      ]
    },
    {
      "cell_type": "markdown",
      "source": [
        "# Outliers treatment"
      ],
      "metadata": {
        "id": "Z6IyADgT9hRA"
      }
    },
    {
      "cell_type": "code",
      "source": [
        "#checking for outliers in duration\n",
        "sns.boxplot(ted_df['duration'], data= ted_df)"
      ],
      "metadata": {
        "colab": {
          "base_uri": "https://localhost:8080/",
          "height": 297
        },
        "id": "oKZ7df6xTnPO",
        "outputId": "4a17f60d-f6d0-4253-d01a-4a1182222180"
      },
      "execution_count": null,
      "outputs": [
        {
          "output_type": "execute_result",
          "data": {
            "text/plain": [
              "<matplotlib.axes._subplots.AxesSubplot at 0x7f5c17d0c450>"
            ]
          },
          "metadata": {},
          "execution_count": 13
        },
        {
          "output_type": "display_data",
          "data": {
            "text/plain": [
              "<Figure size 432x288 with 1 Axes>"
            ],
            "image/png": "[encoded data removed]"
          },
          "metadata": {
            "needs_background": "light"
          }
        }
      ]
    },
    {
      "cell_type": "code",
      "source": [
        "#treating outliers\n",
        "ted_df_duration_iqr=  ted_df['duration'].quantile(0.75)-ted_df['duration'].quantile(0.25)\n",
        "ted_df['duration']= ted_df['duration'].mask(ted_df['duration']>(ted_df['duration'].quantile(0.75)+1.5*ted_df_duration_iqr), ted_df['duration'].mean())"
      ],
      "metadata": {
        "id": "PJuNxReNULPY"
      },
      "execution_count": null,
      "outputs": []
    },
    {
      "cell_type": "code",
      "source": [
        "#and done\n",
        "sns.boxplot(ted_df['duration'], data= ted_df)"
      ],
      "metadata": {
        "colab": {
          "base_uri": "https://localhost:8080/",
          "height": 297
        },
        "id": "qMpKwYCNVcpn",
        "outputId": "76018d71-fa04-4bc5-f5cb-90476545b6b6"
      },
      "execution_count": null,
      "outputs": [
        {
          "output_type": "execute_result",
          "data": {
            "text/plain": [
              "<matplotlib.axes._subplots.AxesSubplot at 0x7f5c17dbdc10>"
            ]
          },
          "metadata": {},
          "execution_count": 15
        },
        {
          "output_type": "display_data",
          "data": {
            "text/plain": [
              "<Figure size 432x288 with 1 Axes>"
            ],
            "image/png": "[encoded data removed]"
          },
          "metadata": {
            "needs_background": "light"
          }
        }
      ]
    },
    {
      "cell_type": "code",
      "source": [
        "#checking for outliers in languages\n",
        "sns.boxenplot(ted_df['total_languages'], data= ted_df)"
      ],
      "metadata": {
        "colab": {
          "base_uri": "https://localhost:8080/",
          "height": 298
        },
        "id": "XX9qHZA6VlBZ",
        "outputId": "185906f1-d857-4d0e-9ddf-964985eca62c"
      },
      "execution_count": null,
      "outputs": [
        {
          "output_type": "execute_result",
          "data": {
            "text/plain": [
              "<matplotlib.axes._subplots.AxesSubplot at 0x7f5c1777f190>"
            ]
          },
          "metadata": {},
          "execution_count": 16
        },
        {
          "output_type": "display_data",
          "data": {
            "text/plain": [
              "<Figure size 432x288 with 1 Axes>"
            ],
            "image/png": "[encoded data removed]"
          },
          "metadata": {
            "needs_background": "light"
          }
        }
      ]
    },
    {
      "cell_type": "code",
      "source": [
        "#treating outliers\n",
        "total_languages_iqr= (ted_df['total_languages'].quantile(0.75))-(ted_df['total_languages'].quantile(0.25))\n",
        "ted_df['total_languages']= ted_df['total_languages'].mask(ted_df['total_languages']>(ted_df['total_languages'].quantile(0.75)+1.5*total_languages_iqr),ted_df['total_languages'].mean())"
      ],
      "metadata": {
        "id": "YQu2U9aAWBxM"
      },
      "execution_count": null,
      "outputs": []
    },
    {
      "cell_type": "code",
      "source": [
        "#and we're done\n",
        "sns.boxenplot(ted_df['total_languages'], data= ted_df)"
      ],
      "metadata": {
        "colab": {
          "base_uri": "https://localhost:8080/",
          "height": 298
        },
        "id": "sJNtQTltY4qU",
        "outputId": "aebc57d8-fc9b-4f52-d968-78bedce5548c"
      },
      "execution_count": null,
      "outputs": [
        {
          "output_type": "execute_result",
          "data": {
            "text/plain": [
              "<matplotlib.axes._subplots.AxesSubplot at 0x7f5c17702710>"
            ]
          },
          "metadata": {},
          "execution_count": 18
        },
        {
          "output_type": "display_data",
          "data": {
            "text/plain": [
              "<Figure size 432x288 with 1 Axes>"
            ],
            "image/png": "[encoded data removed]"
          },
          "metadata": {
            "needs_background": "light"
          }
        }
      ]
    },
    {
      "cell_type": "code",
      "source": [
        ""
      ],
      "metadata": {
        "id": "SGIvaJdH0OVG"
      },
      "execution_count": null,
      "outputs": []
    },
    {
      "cell_type": "markdown",
      "source": [
        "#2.Have a look on the numerical data"
      ],
      "metadata": {
        "id": "pb4JVt06_Oql"
      }
    },
    {
      "cell_type": "code",
      "source": [
        "#density plot of views\n",
        "\n",
        "ted_df.views.plot.density(color='green')\n",
        "plt.show()"
      ],
      "metadata": {
        "colab": {
          "base_uri": "https://localhost:8080/",
          "height": 289
        },
        "id": "IAWtbvibZEN_",
        "outputId": "ba5c3436-d1f9-406f-bd0f-764f32145c4f"
      },
      "execution_count": null,
      "outputs": [
        {
          "output_type": "display_data",
          "data": {
            "text/plain": [
              "<Figure size 432x288 with 1 Axes>"
            ],
            "image/png": "[encoded data removed]"
          },
          "metadata": {
            "needs_background": "light"
          }
        }
      ]
    },
    {
      "cell_type": "markdown",
      "source": [
        "the graph shows that 'views' is positively skewed"
      ],
      "metadata": {
        "id": "ph9dHYRJaJs9"
      }
    },
    {
      "cell_type": "code",
      "source": [
        "#density plot of duration\n",
        "\n",
        "ted_df.duration.plot.density(color='blue')\n",
        "plt.show()"
      ],
      "metadata": {
        "colab": {
          "base_uri": "https://localhost:8080/",
          "height": 265
        },
        "id": "a281sPspZrkx",
        "outputId": "a191555c-aeca-4093-9013-a3a29362a063"
      },
      "execution_count": null,
      "outputs": [
        {
          "output_type": "display_data",
          "data": {
            "text/plain": [
              "<Figure size 432x288 with 1 Axes>"
            ],
            "image/png": "[encoded data removed]"
          },
          "metadata": {
            "needs_background": "light"
          }
        }
      ]
    },
    {
      "cell_type": "markdown",
      "source": [
        "#3.Data preprocessing"
      ],
      "metadata": {
        "id": "2cX_8EjZAnPd"
      }
    },
    {
      "cell_type": "code",
      "source": [
        "ted_df['recorded_date']= pd.to_datetime(ted_df['recorded_date'])\n",
        "ted_df['published_date']= pd.to_datetime(ted_df['published_date'])\n",
        "last_publishing_date = ted_df['published_date'].max()\n",
        "\n",
        "ted_df['time_since_published'] = last_publishing_date - pd.DatetimeIndex(ted_df['published_date'])"
      ],
      "metadata": {
        "id": "VoACJ6mjaoEr"
      },
      "execution_count": null,
      "outputs": []
    },
    {
      "cell_type": "code",
      "source": [
        "months_order = ['Jan', 'Feb', 'Mar', 'Apr', 'May', 'Jun', 'Jul', 'Aug', 'Sep', 'Oct', 'Nov', 'Dec']\n",
        "days_order   = ['Mon', 'Tue', 'Wed', 'Thu', 'Fri', 'Sat', 'Sun']"
      ],
      "metadata": {
        "id": "a8r1Vxsmax4W"
      },
      "execution_count": null,
      "outputs": []
    },
    {
      "cell_type": "code",
      "source": [
        "import datetime\n",
        "ted_df['month'] = pd.DatetimeIndex(ted_df['published_date']).month\n",
        "ted_df['month'] = ted_df['month'].apply(lambda x: calendar.month_abbr[x])\n",
        "ted_df['year'] = pd.DatetimeIndex(ted_df['published_date']).year\n",
        "ted_df['day'] = pd.DatetimeIndex(ted_df['published_date']).day\n",
        "ted_df['week_day']= ted_df['published_date'].apply(lambda x: days_order[datetime.date(x.year, x.month, x.day).weekday()])"
      ],
      "metadata": {
        "id": "K9-VBRDni5h5"
      },
      "execution_count": null,
      "outputs": []
    },
    {
      "cell_type": "code",
      "source": [
        "ted_df['daily_views'] = ted_df['views'] / ( ted_df['time_since_published'].apply(lambda x : x.days) + 1 )"
      ],
      "metadata": {
        "id": "192t2qmQkEUs"
      },
      "execution_count": null,
      "outputs": []
    },
    {
      "cell_type": "code",
      "source": [
        "categorical_data= ted_df[['title', 'speaker_1', 'all_speakers', 'occupations', 'about_speakers', 'native_lang', 'available_lang', 'comments', 'topics', 'related_talks', 'url', 'description', 'transcript']] \n",
        "data_numerical= ted_df[['talk_id','views', 'duration']]\n",
        "data_target_variable= ted_df[['views']]\n",
        "#here we introduced our target variable"
      ],
      "metadata": {
        "id": "xPyao_H8gtQi"
      },
      "execution_count": null,
      "outputs": []
    },
    {
      "cell_type": "markdown",
      "source": [
        "#4.Exploratory data analysis"
      ],
      "metadata": {
        "id": "7DBqAZtYBVFS"
      }
    },
    {
      "cell_type": "markdown",
      "source": [
        "## Plotting features vs target variable for better understanding"
      ],
      "metadata": {
        "id": "OzvtDwEVm-Iy"
      }
    },
    {
      "cell_type": "markdown",
      "source": [
        "Speaker_1 vs daily views"
      ],
      "metadata": {
        "id": "bywmFWKCCcSw"
      }
    },
    {
      "cell_type": "code",
      "source": [
        "temp=ted_df.groupby(['speaker_1'],as_index=False)['daily_views'].sum().sort_values('daily_views',ascending=False)[:5]\n",
        "ax=sns.barplot(x='speaker_1', y='daily_views',data=temp)\n",
        "plt.setp(ax.get_xticklabels(), rotation=60);\n",
        "plt.title('Top 5 speaker according to daily_views')\n",
        "ax.grid(True)"
      ],
      "metadata": {
        "colab": {
          "base_uri": "https://localhost:8080/",
          "height": 377
        },
        "id": "TwxqcoZ_nZpo",
        "outputId": "1e76aed8-6b66-4e0a-fa80-308fd7741621"
      },
      "execution_count": null,
      "outputs": [
        {
          "output_type": "display_data",
          "data": {
            "text/plain": [
              "<Figure size 432x288 with 1 Axes>"
            ],
            "image/png": "[encoded data removed]"
          },
          "metadata": {
            "needs_background": "light"
          }
        }
      ]
    },
    {
      "cell_type": "markdown",
      "source": [
        "speaker_1 vs talks delivered"
      ],
      "metadata": {
        "id": "lYD3ASVvDP_v"
      }
    },
    {
      "cell_type": "code",
      "source": [
        "#speakers who have delivered most number of talks\n",
        "\n",
        "speaker_count = ted_df['speaker_1'].value_counts().to_frame()\n",
        "data_speaker_count = pd.DataFrame(speaker_count)\n",
        "data_speaker_count = data_speaker_count.reset_index()\n",
        "data_speaker_count.columns = ['Speaker_name', 'talks_delivered']\n",
        "most_talks = data_speaker_count.nlargest(5, 'talks_delivered')\n",
        "plt.figure(figsize=(10,6))\n",
        "plt.setp(ax.get_xticklabels(), rotation=50);\n",
        "sns.barplot(x = 'Speaker_name', y = 'talks_delivered', data = most_talks)"
      ],
      "metadata": {
        "colab": {
          "base_uri": "https://localhost:8080/",
          "height": 407
        },
        "id": "Eg_g-EFJn8vE",
        "outputId": "5be24730-1816-4a55-ab2a-2744fec5b49b"
      },
      "execution_count": null,
      "outputs": [
        {
          "output_type": "execute_result",
          "data": {
            "text/plain": [
              "<matplotlib.axes._subplots.AxesSubplot at 0x7f5c154f4f90>"
            ]
          },
          "metadata": {},
          "execution_count": 27
        },
        {
          "output_type": "display_data",
          "data": {
            "text/plain": [
              "<Figure size 720x432 with 1 Axes>"
            ],
            "image/png": "[encoded data removed]"
          },
          "metadata": {
            "needs_background": "light"
          }
        }
      ]
    },
    {
      "cell_type": "markdown",
      "source": [
        "speaker_1 vs duration"
      ],
      "metadata": {
        "id": "UmMtqT09EGtQ"
      }
    },
    {
      "cell_type": "code",
      "source": [
        "#speakers who have delivered longest talks\n",
        "\n",
        "temp=ted_df.groupby(['speaker_1'],as_index=False)['duration'].sum().sort_values('duration',ascending=False)[:25]\n",
        "temp=ted_df.groupby(['speaker_1'],as_index=False).agg({'duration':'sum','talk_id':'count'}).sort_values('duration',ascending=False).reset_index()[:8]\n",
        "temp['talk_id']=temp['duration']/temp['talk_id']\n",
        "plt.figure(figsize=(15,6))\n",
        "ax=sns.barplot(x='speaker_1',y='duration',data=temp)\n",
        "labels=ax.get_xticklabels()\n",
        "plt.setp(labels, rotation=90);\n"
      ],
      "metadata": {
        "colab": {
          "base_uri": "https://localhost:8080/",
          "height": 455
        },
        "id": "o7kWPsfmoj2S",
        "outputId": "1bbef230-d147-411f-8aa6-dd06ce18ee30"
      },
      "execution_count": null,
      "outputs": [
        {
          "output_type": "display_data",
          "data": {
            "text/plain": [
              "<Figure size 1080x432 with 1 Axes>"
            ],
            "image/png": "[encoded data removed]"
          },
          "metadata": {
            "needs_background": "light"
          }
        }
      ]
    },
    {
      "cell_type": "markdown",
      "source": [
        "speaker_1 vs comments"
      ],
      "metadata": {
        "id": "-GJl7OJaEkID"
      }
    },
    {
      "cell_type": "code",
      "source": [
        "#speakers who received most comments on their videos\n",
        "temp=ted_df.groupby(['speaker_1'],as_index=False)['comments'].sum().sort_values('comments',ascending=False)[:5]\n",
        "plt.figure(figsize=(10,6))\n",
        "ax=sns.barplot(x='speaker_1',y='comments',data=temp);\n",
        "plt.setp(ax.get_xticklabels(), rotation=90);"
      ],
      "metadata": {
        "colab": {
          "base_uri": "https://localhost:8080/",
          "height": 462
        },
        "id": "8Q1S2BCope0_",
        "outputId": "c7b9e78a-9c82-467a-872c-4bfe4af890d9"
      },
      "execution_count": null,
      "outputs": [
        {
          "output_type": "display_data",
          "data": {
            "text/plain": [
              "<Figure size 720x432 with 1 Axes>"
            ],
            "image/png": "[encoded data removed]"
          },
          "metadata": {
            "needs_background": "light"
          }
        }
      ]
    },
    {
      "cell_type": "markdown",
      "source": [
        "speaker vs avg views"
      ],
      "metadata": {
        "id": "Xehbjga9FXPJ"
      }
    },
    {
      "cell_type": "code",
      "source": [
        "#to find most popular video in terms of views\n",
        "temp=ted_df[['speaker_1','views']].sort_values('views',ascending=False)[:5]\n",
        "plt.figure(figsize=(8,6))\n",
        "ax=sns.barplot(x='speaker_1',y='views',data=temp)\n",
        "plt.setp(ax.get_xticklabels(), rotation=90);\n",
        "plt.title('Speaker_1 with most popular video')\n",
        "plt.ylabel('Avg views in ten millions')\n",
        "ax.grid(False)"
      ],
      "metadata": {
        "colab": {
          "base_uri": "https://localhost:8080/",
          "height": 478
        },
        "id": "X-dIgfT4qxd0",
        "outputId": "adf3d7a2-a6d6-406e-b2cb-e35130e01c38"
      },
      "execution_count": null,
      "outputs": [
        {
          "output_type": "display_data",
          "data": {
            "text/plain": [
              "<Figure size 576x432 with 1 Axes>"
            ],
            "image/png": "[encoded data removed]"
          },
          "metadata": {
            "needs_background": "light"
          }
        }
      ]
    },
    {
      "cell_type": "markdown",
      "source": [
        "speaker_1 vs daily views"
      ],
      "metadata": {
        "id": "vd76_PSvFvwc"
      }
    },
    {
      "cell_type": "code",
      "source": [
        "\n",
        "temp=ted_df.groupby(['event','year'],as_index=False).agg({'daily_views':'sum','talk_id':'count'}).sort_values('daily_views',ascending=False).reset_index()[:8]\n",
        "temp['talk_id']=temp['daily_views']/temp['talk_id']\n",
        "ax=sns.barplot(x='event',y='daily_views',data=temp)\n",
        "labels=ax.get_xticklabels()\n",
        "plt.title('Top TED Events (daily views)')\n",
        "plt.setp(labels, rotation=90);"
      ],
      "metadata": {
        "colab": {
          "base_uri": "https://localhost:8080/",
          "height": 396
        },
        "id": "R2Aq-h-ts_BX",
        "outputId": "51fb1f2d-e5a2-463e-ad3e-b4f6aaabe295"
      },
      "execution_count": null,
      "outputs": [
        {
          "output_type": "display_data",
          "data": {
            "text/plain": [
              "<Figure size 432x288 with 1 Axes>"
            ],
            "image/png": "[encoded data removed]"
          },
          "metadata": {
            "needs_background": "light"
          }
        }
      ]
    },
    {
      "cell_type": "markdown",
      "source": [
        "speaker_1 vs avg daily views"
      ],
      "metadata": {
        "id": "_q4GeCoyJEZw"
      }
    },
    {
      "cell_type": "code",
      "source": [
        "ax=sns.barplot(x='event',y='talk_id',data=temp)\n",
        "labels=ax.get_xticklabels()\n",
        "plt.title('Top TED Events (Average daily_views)')\n",
        "plt.xlabel('Events')\n",
        "plt.setp(labels, rotation=90);"
      ],
      "metadata": {
        "colab": {
          "base_uri": "https://localhost:8080/",
          "height": 396
        },
        "id": "n7jCJCFsubkc",
        "outputId": "dfdc005e-8c7e-4c7b-9f2a-2a43f4fdc6f9"
      },
      "execution_count": null,
      "outputs": [
        {
          "output_type": "display_data",
          "data": {
            "text/plain": [
              "<Figure size 432x288 with 1 Axes>"
            ],
            "image/png": "[encoded data removed]"
          },
          "metadata": {
            "needs_background": "light"
          }
        }
      ]
    },
    {
      "cell_type": "code",
      "source": [
        "event=ted_df.groupby('event').agg({'daily_views' : 'mean'}).sort_values(['daily_views'],ascending=False)\n",
        "event=event.to_dict()\n",
        "event=event.values()\n",
        "event=  list(event)[0]\n",
        "ted_df['event_wise_avg_views']=ted_df['event'].map(event)"
      ],
      "metadata": {
        "id": "pUN_9Fqmu9T5"
      },
      "execution_count": null,
      "outputs": []
    },
    {
      "cell_type": "code",
      "source": [
        "sns.distplot(ted_df['event_wise_avg_views'])"
      ],
      "metadata": {
        "colab": {
          "base_uri": "https://localhost:8080/",
          "height": 298
        },
        "id": "2Mk2i5yUgU1l",
        "outputId": "887cd3b8-a49d-439d-9181-53be4eee87aa"
      },
      "execution_count": null,
      "outputs": [
        {
          "output_type": "execute_result",
          "data": {
            "text/plain": [
              "<matplotlib.axes._subplots.AxesSubplot at 0x7f5c15502b90>"
            ]
          },
          "metadata": {},
          "execution_count": 34
        },
        {
          "output_type": "display_data",
          "data": {
            "text/plain": [
              "<Figure size 432x288 with 1 Axes>"
            ],
            "image/png": "[encoded data removed]"
          },
          "metadata": {
            "needs_background": "light"
          }
        }
      ]
    },
    {
      "cell_type": "markdown",
      "source": [
        "Event vs daily views in millions"
      ],
      "metadata": {
        "id": "zrII334_JV-O"
      }
    },
    {
      "cell_type": "code",
      "source": [
        "temp=ted_df.groupby(['event','year'],as_index=False).agg({'daily_views':'sum','talk_id':'count'}).sort_values('daily_views',ascending=False).reset_index()[:8]\n",
        "temp['talk_id']=temp['daily_views']/temp['talk_id']\n",
        "ax=sns.barplot(x='event',y='daily_views',data=temp)\n",
        "labels=ax.get_xticklabels()\n",
        "plt.title('Top TED Events by daily views')\n",
        "plt.ylabel('daily views in million')\n",
        "plt.setp(labels, rotation=90);\n"
      ],
      "metadata": {
        "colab": {
          "base_uri": "https://localhost:8080/",
          "height": 396
        },
        "id": "0zrJraN8iYM8",
        "outputId": "0a290375-c004-4324-be7f-69af836afedf"
      },
      "execution_count": null,
      "outputs": [
        {
          "output_type": "display_data",
          "data": {
            "text/plain": [
              "<Figure size 432x288 with 1 Axes>"
            ],
            "image/png": "[encoded data removed]"
          },
          "metadata": {
            "needs_background": "light"
          }
        }
      ]
    },
    {
      "cell_type": "code",
      "source": [
        "plt.figure(figsize=(10,4))\n",
        "ax=sns.barplot(x='event',y='talk_id',data=temp)\n",
        "labels=ax.get_xticklabels()\n",
        "plt.xlabel('Events')\n",
        "plt.ylabel('Avg daily views in millions')\n",
        "plt.setp(labels, rotation=90);"
      ],
      "metadata": {
        "colab": {
          "base_uri": "https://localhost:8080/",
          "height": 380
        },
        "id": "X4fxAgwajTUi",
        "outputId": "623ba1cc-5eb4-4519-a711-11ddf1482d17"
      },
      "execution_count": null,
      "outputs": [
        {
          "output_type": "display_data",
          "data": {
            "text/plain": [
              "<Figure size 720x288 with 1 Axes>"
            ],
            "image/png": "[encoded data removed]"
          },
          "metadata": {
            "needs_background": "light"
          }
        }
      ]
    },
    {
      "cell_type": "code",
      "source": [
        "temp=ted_df.groupby(['event','year'],as_index=False).agg({'daily_views':'sum','talk_id':'count'}).sort_values('daily_views',ascending=False).reset_index()[:8]\n",
        "ax=sns.barplot(x='event',y='daily_views',data=temp)\n",
        "labels=ax.get_xticklabels()\n",
        "plt.ylabel('daily views in millions')\n",
        "plt.setp(labels, rotation=90);"
      ],
      "metadata": {
        "colab": {
          "base_uri": "https://localhost:8080/",
          "height": 391
        },
        "id": "FhkO2bm-jsLp",
        "outputId": "aed16698-da23-4246-f6d9-3e35b65ee0f2"
      },
      "execution_count": null,
      "outputs": [
        {
          "output_type": "display_data",
          "data": {
            "text/plain": [
              "<Figure size 432x288 with 1 Axes>"
            ],
            "image/png": "[encoded data removed]"
          },
          "metadata": {
            "needs_background": "light"
          }
        }
      ]
    },
    {
      "cell_type": "code",
      "source": [
        "#Defining some more relevant variables"
      ],
      "metadata": {
        "id": "VcG1nPt-J5rS"
      },
      "execution_count": null,
      "outputs": []
    },
    {
      "cell_type": "code",
      "source": [
        "unique_topics=[]\n",
        "for i in range(0,len(ted_df)):\n",
        "  temp=ted_df['topics'][i]\n",
        "  for i in temp:\n",
        "    if(i not in unique_topics):\n",
        "      unique_topics.append(i)\n",
        "      \n",
        "len(unique_topics)"
      ],
      "metadata": {
        "colab": {
          "base_uri": "https://localhost:8080/"
        },
        "id": "XYroy0TH9RM8",
        "outputId": "07b6ef10-9647-49bf-8b8a-a988790b46c6"
      },
      "execution_count": null,
      "outputs": [
        {
          "output_type": "execute_result",
          "data": {
            "text/plain": [
              "57"
            ]
          },
          "metadata": {},
          "execution_count": 38
        }
      ]
    },
    {
      "cell_type": "code",
      "source": [
        "unique_topics_avg_view_dict={}\n",
        "for topic in unique_topics:\n",
        "  temp=0\n",
        "  count=0\n",
        "  for i in range(0,len(ted_df)):\n",
        "    temp2=ted_df['topics'][i]\n",
        "    if(topic in temp2):\n",
        "      temp+=ted_df['daily_views'][i]\n",
        "      count+=1\n",
        "  unique_topics_avg_view_dict[topic]=temp//count"
      ],
      "metadata": {
        "id": "l9J9AVBg9RWx"
      },
      "execution_count": null,
      "outputs": []
    },
    {
      "cell_type": "code",
      "source": [
        "topics_wise_avg_views=[]\n",
        "for i in range(0,len(ted_df)):\n",
        "  temp=0\n",
        "  temp_topic=ted_df['topics'][i]\n",
        "  for el in temp_topic:\n",
        "    temp+=unique_topics_avg_view_dict[el]\n",
        "  \n",
        "  topics_wise_avg_views.append(temp//len(temp_topic))\n",
        "\n",
        "se = pd.Series(topics_wise_avg_views)\n",
        "ted_df['topics_wise_avg_views'] = se.values"
      ],
      "metadata": {
        "id": "GKTiIfPG840o"
      },
      "execution_count": null,
      "outputs": []
    },
    {
      "cell_type": "code",
      "source": [
        "ted_df['num_of_topics'] = ted_df.apply(lambda x: len(x['topics']), axis=1)"
      ],
      "metadata": {
        "id": "wuDrnzKD-E6H"
      },
      "execution_count": null,
      "outputs": []
    },
    {
      "cell_type": "code",
      "source": [
        "speaker=ted_df.groupby('speaker_1').agg({'daily_views' : 'mean'}).sort_values(['daily_views'],ascending=False)\n",
        "speaker=speaker.to_dict()\n",
        "speaker=speaker.values()\n",
        "speaker=  list(speaker)[0]\n",
        "ted_df['speaker_1_avg_views']=ted_df['speaker_1'].map(speaker)"
      ],
      "metadata": {
        "id": "urM4Lajx-YBY"
      },
      "execution_count": null,
      "outputs": []
    },
    {
      "cell_type": "markdown",
      "source": [
        "# 5.CHECKING THE CORRELATION BETWEEN THE VARIABLES"
      ],
      "metadata": {
        "id": "Kx6eY3HRKTYn"
      }
    },
    {
      "cell_type": "code",
      "source": [
        "fig, ax = plt.subplots(figsize=(15,10))\n",
        "sns.heatmap(data.corr(), annot= True,ax=ax)"
      ],
      "metadata": {
        "colab": {
          "base_uri": "https://localhost:8080/",
          "height": 717
        },
        "id": "Z5TUwdpJsMzS",
        "outputId": "67539d0a-2b86-4a5a-da3f-ed7e7efda5f8"
      },
      "execution_count": null,
      "outputs": [
        {
          "output_type": "execute_result",
          "data": {
            "text/plain": [
              "<matplotlib.axes._subplots.AxesSubplot at 0x7f5c150ba950>"
            ]
          },
          "metadata": {},
          "execution_count": 46
        },
        {
          "output_type": "display_data",
          "data": {
            "text/plain": [
              "<Figure size 1080x720 with 2 Axes>"
            ],
            "image/png": "[encoded data removed]"
          },
          "metadata": {
            "needs_background": "light"
          }
        }
      ]
    },
    {
      "cell_type": "markdown",
      "source": [
        "#6. Data prepration and feature engineering"
      ],
      "metadata": {
        "id": "QSRnIrxqKg0I"
      }
    },
    {
      "cell_type": "markdown",
      "source": [
        "REMOVING IRRELEVENT COLUMNS"
      ],
      "metadata": {
        "id": "blrKWyxptM_b"
      }
    },
    {
      "cell_type": "code",
      "source": [
        "ted_df.columns"
      ],
      "metadata": {
        "colab": {
          "base_uri": "https://localhost:8080/"
        },
        "id": "hKlTkjgCtRdj",
        "outputId": "8918d135-5b29-4373-ca86-06716eff3823"
      },
      "execution_count": null,
      "outputs": [
        {
          "output_type": "execute_result",
          "data": {
            "text/plain": [
              "Index(['talk_id', 'title', 'speaker_1', 'all_speakers', 'occupations',\n",
              "       'about_speakers', 'views', 'recorded_date', 'published_date', 'event',\n",
              "       'native_lang', 'available_lang', 'comments', 'duration', 'topics',\n",
              "       'related_talks', 'url', 'description', 'transcript', 'total_languages',\n",
              "       'time_since_published', 'month', 'year', 'day', 'week_day',\n",
              "       'daily_views', 'event_wise_avg_views', 'topics_wise_avg_views',\n",
              "       'num_of_topics', 'speaker_1_avg_views'],\n",
              "      dtype='object')"
            ]
          },
          "metadata": {},
          "execution_count": 47
        }
      ]
    },
    {
      "cell_type": "code",
      "source": [
        "columns_to_keep=['comments', 'duration', 'total_languages', 'time_since_published', 'month',\n",
        "       'year', 'day', 'week_day', 'daily_views', 'event_wise_avg_views',\n",
        "       'num_of_topics', 'speaker_1_avg_views']"
      ],
      "metadata": {
        "id": "kiJBPnl9tRyy"
      },
      "execution_count": null,
      "outputs": []
    },
    {
      "cell_type": "code",
      "source": [
        "df=ted_df[columns_to_keep].copy()"
      ],
      "metadata": {
        "id": "4AWpWox1tiZs"
      },
      "execution_count": null,
      "outputs": []
    },
    {
      "cell_type": "markdown",
      "source": [
        "separating dependent and independent variables"
      ],
      "metadata": {
        "id": "Q1-PjOcozm5k"
      }
    },
    {
      "cell_type": "code",
      "source": [
        "y=df['daily_views']\n",
        "X=df.drop(columns='daily_views')"
      ],
      "metadata": {
        "id": "RGL4mLSftnvu"
      },
      "execution_count": null,
      "outputs": []
    },
    {
      "cell_type": "code",
      "source": [
        "X2=X"
      ],
      "metadata": {
        "id": "lHITdJj9zvkv"
      },
      "execution_count": null,
      "outputs": []
    },
    {
      "cell_type": "code",
      "source": [
        "X.columns"
      ],
      "metadata": {
        "colab": {
          "base_uri": "https://localhost:8080/"
        },
        "id": "FBTII31qz9ld",
        "outputId": "4ed1fb27-45b3-4bf1-e7e2-d56df771fc96"
      },
      "execution_count": null,
      "outputs": [
        {
          "output_type": "execute_result",
          "data": {
            "text/plain": [
              "Index(['comments', 'duration', 'total_languages', 'time_since_published',\n",
              "       'month', 'year', 'day', 'week_day', 'event_wise_avg_views',\n",
              "       'num_of_topics', 'speaker_1_avg_views'],\n",
              "      dtype='object')"
            ]
          },
          "metadata": {},
          "execution_count": 52
        }
      ]
    },
    {
      "cell_type": "code",
      "source": [
        "X=pd.get_dummies(X)\n",
        "X.shape"
      ],
      "metadata": {
        "colab": {
          "base_uri": "https://localhost:8080/"
        },
        "id": "uObFhqAX0ESw",
        "outputId": "26f0ca0d-5f3a-406e-90f1-766148a747dd"
      },
      "execution_count": null,
      "outputs": [
        {
          "output_type": "execute_result",
          "data": {
            "text/plain": [
              "(4005, 28)"
            ]
          },
          "metadata": {},
          "execution_count": 53
        }
      ]
    },
    {
      "cell_type": "code",
      "source": [
        "X.head()"
      ],
      "metadata": {
        "colab": {
          "base_uri": "https://localhost:8080/",
          "height": 299
        },
        "id": "VQmUV69O0L1k",
        "outputId": "eceed96f-a78a-46bf-d0bd-eef85007037a"
      },
      "execution_count": null,
      "outputs": [
        {
          "output_type": "execute_result",
          "data": {
            "text/plain": [
              "   comments  duration  total_languages time_since_published  year  day  \\\n",
              "0     272.0     977.0       270.000000            5056 days  2006   27   \n",
              "1     628.0    1190.0       160.720599            5056 days  2006   27   \n",
              "2     124.0    1286.0       165.000000            5056 days  2006   27   \n",
              "3     219.0    1116.0       219.000000            5056 days  2006   27   \n",
              "4    4931.0    1164.0       160.720599            5056 days  2006   27   \n",
              "\n",
              "   event_wise_avg_views  num_of_topics  speaker_1_avg_views  month_Apr  ...  \\\n",
              "0             782.72889            134           699.725014          0  ...   \n",
              "1             782.72889            138          1098.925286          0  ...   \n",
              "2             782.72889            123           687.917181          0  ...   \n",
              "3             782.72889            116           452.806229          0  ...   \n",
              "4             782.72889             84          6453.203121          0  ...   \n",
              "\n",
              "   month_Nov  month_Oct  month_Sep  week_day_Fri  week_day_Mon  week_day_Sat  \\\n",
              "0          0          0          0             0             0             0   \n",
              "1          0          0          0             0             0             0   \n",
              "2          0          0          0             0             0             0   \n",
              "3          0          0          0             0             0             0   \n",
              "4          0          0          0             0             0             0   \n",
              "\n",
              "   week_day_Sun  week_day_Thu  week_day_Tue  week_day_Wed  \n",
              "0             0             0             1             0  \n",
              "1             0             0             1             0  \n",
              "2             0             0             1             0  \n",
              "3             0             0             1             0  \n",
              "4             0             0             1             0  \n",
              "\n",
              "[5 rows x 28 columns]"
            ],
            "text/html": [
              "\n",
              "  <div id=\"df-2fdfa272-13ee-44ae-9d49-2318cdded174\">\n",
              "    <div class=\"colab-df-container\">\n",
              "      <div>\n",
              "<style scoped>\n",
              "    .dataframe tbody tr th:only-of-type {\n",
              "        vertical-align: middle;\n",
              "    }\n",
              "\n",
              "    .dataframe tbody tr th {\n",
              "        vertical-align: top;\n",
              "    }\n",
              "\n",
              "    .dataframe thead th {\n",
              "        text-align: right;\n",
              "    }\n",
              "</style>\n",
              "<table border=\"1\" class=\"dataframe\">\n",
              "  <thead>\n",
              "    <tr style=\"text-align: right;\">\n",
              "      <th></th>\n",
              "      <th>comments</th>\n",
              "      <th>duration</th>\n",
              "      <th>total_languages</th>\n",
              "      <th>time_since_published</th>\n",
              "      <th>year</th>\n",
              "      <th>day</th>\n",
              "      <th>event_wise_avg_views</th>\n",
              "      <th>num_of_topics</th>\n",
              "      <th>speaker_1_avg_views</th>\n",
              "      <th>month_Apr</th>\n",
              "      <th>...</th>\n",
              "      <th>month_Nov</th>\n",
              "      <th>month_Oct</th>\n",
              "      <th>month_Sep</th>\n",
              "      <th>week_day_Fri</th>\n",
              "      <th>week_day_Mon</th>\n",
              "      <th>week_day_Sat</th>\n",
              "      <th>week_day_Sun</th>\n",
              "      <th>week_day_Thu</th>\n",
              "      <th>week_day_Tue</th>\n",
              "      <th>week_day_Wed</th>\n",
              "    </tr>\n",
              "  </thead>\n",
              "  <tbody>\n",
              "    <tr>\n",
              "      <th>0</th>\n",
              "      <td>272.0</td>\n",
              "      <td>977.0</td>\n",
              "      <td>270.000000</td>\n",
              "      <td>5056 days</td>\n",
              "      <td>2006</td>\n",
              "      <td>27</td>\n",
              "      <td>782.72889</td>\n",
              "      <td>134</td>\n",
              "      <td>699.725014</td>\n",
              "      <td>0</td>\n",
              "      <td>...</td>\n",
              "      <td>0</td>\n",
              "      <td>0</td>\n",
              "      <td>0</td>\n",
              "      <td>0</td>\n",
              "      <td>0</td>\n",
              "      <td>0</td>\n",
              "      <td>0</td>\n",
              "      <td>0</td>\n",
              "      <td>1</td>\n",
              "      <td>0</td>\n",
              "    </tr>\n",
              "    <tr>\n",
              "      <th>1</th>\n",
              "      <td>628.0</td>\n",
              "      <td>1190.0</td>\n",
              "      <td>160.720599</td>\n",
              "      <td>5056 days</td>\n",
              "      <td>2006</td>\n",
              "      <td>27</td>\n",
              "      <td>782.72889</td>\n",
              "      <td>138</td>\n",
              "      <td>1098.925286</td>\n",
              "      <td>0</td>\n",
              "      <td>...</td>\n",
              "      <td>0</td>\n",
              "      <td>0</td>\n",
              "      <td>0</td>\n",
              "      <td>0</td>\n",
              "      <td>0</td>\n",
              "      <td>0</td>\n",
              "      <td>0</td>\n",
              "      <td>0</td>\n",
              "      <td>1</td>\n",
              "      <td>0</td>\n",
              "    </tr>\n",
              "    <tr>\n",
              "      <th>2</th>\n",
              "      <td>124.0</td>\n",
              "      <td>1286.0</td>\n",
              "      <td>165.000000</td>\n",
              "      <td>5056 days</td>\n",
              "      <td>2006</td>\n",
              "      <td>27</td>\n",
              "      <td>782.72889</td>\n",
              "      <td>123</td>\n",
              "      <td>687.917181</td>\n",
              "      <td>0</td>\n",
              "      <td>...</td>\n",
              "      <td>0</td>\n",
              "      <td>0</td>\n",
              "      <td>0</td>\n",
              "      <td>0</td>\n",
              "      <td>0</td>\n",
              "      <td>0</td>\n",
              "      <td>0</td>\n",
              "      <td>0</td>\n",
              "      <td>1</td>\n",
              "      <td>0</td>\n",
              "    </tr>\n",
              "    <tr>\n",
              "      <th>3</th>\n",
              "      <td>219.0</td>\n",
              "      <td>1116.0</td>\n",
              "      <td>219.000000</td>\n",
              "      <td>5056 days</td>\n",
              "      <td>2006</td>\n",
              "      <td>27</td>\n",
              "      <td>782.72889</td>\n",
              "      <td>116</td>\n",
              "      <td>452.806229</td>\n",
              "      <td>0</td>\n",
              "      <td>...</td>\n",
              "      <td>0</td>\n",
              "      <td>0</td>\n",
              "      <td>0</td>\n",
              "      <td>0</td>\n",
              "      <td>0</td>\n",
              "      <td>0</td>\n",
              "      <td>0</td>\n",
              "      <td>0</td>\n",
              "      <td>1</td>\n",
              "      <td>0</td>\n",
              "    </tr>\n",
              "    <tr>\n",
              "      <th>4</th>\n",
              "      <td>4931.0</td>\n",
              "      <td>1164.0</td>\n",
              "      <td>160.720599</td>\n",
              "      <td>5056 days</td>\n",
              "      <td>2006</td>\n",
              "      <td>27</td>\n",
              "      <td>782.72889</td>\n",
              "      <td>84</td>\n",
              "      <td>6453.203121</td>\n",
              "      <td>0</td>\n",
              "      <td>...</td>\n",
              "      <td>0</td>\n",
              "      <td>0</td>\n",
              "      <td>0</td>\n",
              "      <td>0</td>\n",
              "      <td>0</td>\n",
              "      <td>0</td>\n",
              "      <td>0</td>\n",
              "      <td>0</td>\n",
              "      <td>1</td>\n",
              "      <td>0</td>\n",
              "    </tr>\n",
              "  </tbody>\n",
              "</table>\n",
              "<p>5 rows × 28 columns</p>\n",
              "</div>\n",
              "      <button class=\"colab-df-convert\" onclick=\"convertToInteractive('df-2fdfa272-13ee-44ae-9d49-2318cdded174')\"\n",
              "              title=\"Convert this dataframe to an interactive table.\"\n",
              "              style=\"display:none;\">\n",
              "        \n",
              "  <svg xmlns=\"http://www.w3.org/2000/svg\" height=\"24px\"viewBox=\"0 0 24 24\"\n",
              "       width=\"24px\">\n",
              "    <path d=\"M0 0h24v24H0V0z\" fill=\"none\"/>\n",
              "    <path d=\"M18.56 5.44l.94 2.06.94-2.06 2.06-.94-2.06-.94-.94-2.06-.94 2.06-2.06.94zm-11 1L8.5 8.5l.94-2.06 2.06-.94-2.06-.94L8.5 2.5l-.94 2.06-2.06.94zm10 10l.94 2.06.94-2.06 2.06-.94-2.06-.94-.94-2.06-.94 2.06-2.06.94z\"/><path d=\"M17.41 7.96l-1.37-1.37c-.4-.4-.92-.59-1.43-.59-.52 0-1.04.2-1.43.59L10.3 9.45l-7.72 7.72c-.78.78-.78 2.05 0 2.83L4 21.41c.39.39.9.59 1.41.59.51 0 1.02-.2 1.41-.59l7.78-7.78 2.81-2.81c.8-.78.8-2.07 0-2.86zM5.41 20L4 18.59l7.72-7.72 1.47 1.35L5.41 20z\"/>\n",
              "  </svg>\n",
              "      </button>\n",
              "      \n",
              "  <style>\n",
              "    .colab-df-container {\n",
              "      display:flex;\n",
              "      flex-wrap:wrap;\n",
              "      gap: 12px;\n",
              "    }\n",
              "\n",
              "    .colab-df-convert {\n",
              "      background-color: #E8F0FE;\n",
              "      border: none;\n",
              "      border-radius: 50%;\n",
              "      cursor: pointer;\n",
              "      display: none;\n",
              "      fill: #1967D2;\n",
              "      height: 32px;\n",
              "      padding: 0 0 0 0;\n",
              "      width: 32px;\n",
              "    }\n",
              "\n",
              "    .colab-df-convert:hover {\n",
              "      background-color: #E2EBFA;\n",
              "      box-shadow: 0px 1px 2px rgba(60, 64, 67, 0.3), 0px 1px 3px 1px rgba(60, 64, 67, 0.15);\n",
              "      fill: #174EA6;\n",
              "    }\n",
              "\n",
              "    [theme=dark] .colab-df-convert {\n",
              "      background-color: #3B4455;\n",
              "      fill: #D2E3FC;\n",
              "    }\n",
              "\n",
              "    [theme=dark] .colab-df-convert:hover {\n",
              "      background-color: #434B5C;\n",
              "      box-shadow: 0px 1px 3px 1px rgba(0, 0, 0, 0.15);\n",
              "      filter: drop-shadow(0px 1px 2px rgba(0, 0, 0, 0.3));\n",
              "      fill: #FFFFFF;\n",
              "    }\n",
              "  </style>\n",
              "\n",
              "      <script>\n",
              "        const buttonEl =\n",
              "          document.querySelector('#df-2fdfa272-13ee-44ae-9d49-2318cdded174 button.colab-df-convert');\n",
              "        buttonEl.style.display =\n",
              "          google.colab.kernel.accessAllowed ? 'block' : 'none';\n",
              "\n",
              "        async function convertToInteractive(key) {\n",
              "          const element = document.querySelector('#df-2fdfa272-13ee-44ae-9d49-2318cdded174');\n",
              "          const dataTable =\n",
              "            await google.colab.kernel.invokeFunction('convertToInteractive',\n",
              "                                                     [key], {});\n",
              "          if (!dataTable) return;\n",
              "\n",
              "          const docLinkHtml = 'Like what you see? Visit the ' +\n",
              "            '<a target=\"_blank\" href=https://colab.research.google.com/notebooks/data_table.ipynb>data table notebook</a>'\n",
              "            + ' to learn more about interactive tables.';\n",
              "          element.innerHTML = '';\n",
              "          dataTable['output_type'] = 'display_data';\n",
              "          await google.colab.output.renderOutput(dataTable, element);\n",
              "          const docLink = document.createElement('div');\n",
              "          docLink.innerHTML = docLinkHtml;\n",
              "          element.appendChild(docLink);\n",
              "        }\n",
              "      </script>\n",
              "    </div>\n",
              "  </div>\n",
              "  "
            ]
          },
          "metadata": {},
          "execution_count": 54
        }
      ]
    },
    {
      "cell_type": "markdown",
      "source": [
        "#using knn imputer for treating NaN values"
      ],
      "metadata": {
        "id": "KkJG9LpQKu1I"
      }
    },
    {
      "cell_type": "code",
      "source": [
        "print(ted_df[['comments']].isnull().sum())"
      ],
      "metadata": {
        "colab": {
          "base_uri": "https://localhost:8080/"
        },
        "id": "5jk_auqF5Ug5",
        "outputId": "495a682e-42ee-43f3-eda1-18dcc789adf6"
      },
      "execution_count": null,
      "outputs": [
        {
          "output_type": "stream",
          "name": "stdout",
          "text": [
            "comments    655\n",
            "dtype: int64\n"
          ]
        }
      ]
    },
    {
      "cell_type": "code",
      "source": [
        "outlier_data=['duration','comments','speaker_1_avg_views','event_wise_avg_views']"
      ],
      "metadata": {
        "id": "djh-BYdU5UuL"
      },
      "execution_count": null,
      "outputs": []
    },
    {
      "cell_type": "code",
      "source": [
        "scaler = MinMaxScaler()\n",
        "\n",
        "from sklearn.impute import KNNImputer\n",
        "# defining imputer\n",
        "imputer = KNNImputer()\n",
        "#fitting the model\n",
        "imputer.fit(scaler.fit_transform(ted_df[outlier_data]))\n",
        "# transforming the dataset\n",
        "ted_df[outlier_data] = imputer.transform(scaler.fit_transform(ted_df[outlier_data]))\n",
        "#again applying inverse_transform on the data\n",
        "ted_df[outlier_data] = scaler.inverse_transform(ted_df[outlier_data])\n"
      ],
      "metadata": {
        "id": "GO97c8Kp5U2w"
      },
      "execution_count": null,
      "outputs": []
    },
    {
      "cell_type": "code",
      "source": [
        "#and we're done\n",
        "print(ted_df[['comments']].isnull().sum())"
      ],
      "metadata": {
        "colab": {
          "base_uri": "https://localhost:8080/"
        },
        "id": "YNg0xJwd_spv",
        "outputId": "56afb32d-fbbb-4053-80f8-bb931c3ee111"
      },
      "execution_count": null,
      "outputs": [
        {
          "output_type": "stream",
          "name": "stdout",
          "text": [
            "comments    0\n",
            "dtype: int64\n"
          ]
        }
      ]
    },
    {
      "cell_type": "markdown",
      "source": [
        "#7.FITTING ML MODELS"
      ],
      "metadata": {
        "id": "MRm49oMyVfSV"
      }
    },
    {
      "cell_type": "markdown",
      "source": [
        "#XGB BOOST"
      ],
      "metadata": {
        "id": "vHFXNY466CPI"
      }
    },
    {
      "cell_type": "code",
      "source": [
        "xgb_model= xgb.XGBRegressor(objective=\"reg:squarederror\")"
      ],
      "metadata": {
        "id": "Dzh2qa8mysZo"
      },
      "execution_count": null,
      "outputs": []
    },
    {
      "cell_type": "code",
      "source": [
        "ted_df.columns"
      ],
      "metadata": {
        "colab": {
          "base_uri": "https://localhost:8080/"
        },
        "id": "YkMlkkXI6G8X",
        "outputId": "098d4c56-b8c9-4de6-9449-76428edf262d"
      },
      "execution_count": null,
      "outputs": [
        {
          "output_type": "execute_result",
          "data": {
            "text/plain": [
              "Index(['talk_id', 'title', 'speaker_1', 'all_speakers', 'occupations',\n",
              "       'about_speakers', 'views', 'recorded_date', 'published_date', 'event',\n",
              "       'native_lang', 'available_lang', 'comments', 'duration', 'topics',\n",
              "       'related_talks', 'url', 'description', 'transcript', 'total_languages',\n",
              "       'time_since_published', 'month', 'year', 'day', 'week_day',\n",
              "       'daily_views', 'event_wise_avg_views', 'topics_wise_avg_views',\n",
              "       'num_of_topics', 'speaker_1_avg_views'],\n",
              "      dtype='object')"
            ]
          },
          "metadata": {},
          "execution_count": 60
        }
      ]
    },
    {
      "cell_type": "code",
      "source": [
        "plt.figure(figsize=(10,5))\n",
        "sns.distplot(ted_df['speaker_1_avg_views'])"
      ],
      "metadata": {
        "colab": {
          "base_uri": "https://localhost:8080/",
          "height": 353
        },
        "id": "GgzVDTQ8_A4L",
        "outputId": "49ad9f69-6720-4795-c335-b0088b719522"
      },
      "execution_count": null,
      "outputs": [
        {
          "output_type": "execute_result",
          "data": {
            "text/plain": [
              "<matplotlib.axes._subplots.AxesSubplot at 0x7f5c1504bcd0>"
            ]
          },
          "metadata": {},
          "execution_count": 61
        },
        {
          "output_type": "display_data",
          "data": {
            "text/plain": [
              "<Figure size 720x360 with 1 Axes>"
            ],
            "image/png": "[encoded data removed]"
          },
          "metadata": {
            "needs_background": "light"
          }
        }
      ]
    },
    {
      "cell_type": "code",
      "source": [
        "X= ted_df[['duration',\n",
        "       'speaker_1_avg_views', 'event_wise_avg_views',\n",
        "       'total_languages', 'num_of_topics', 'topics_wise_avg_views', 'year', 'day']]"
      ],
      "metadata": {
        "id": "ttZXajv-6xYo"
      },
      "execution_count": null,
      "outputs": []
    },
    {
      "cell_type": "code",
      "source": [
        "from sklearn.preprocessing import StandardScaler\n",
        "Scaler= StandardScaler()"
      ],
      "metadata": {
        "id": "Xfz8OdWcZWms"
      },
      "execution_count": null,
      "outputs": []
    },
    {
      "cell_type": "code",
      "source": [
        "X= Scaler.fit_transform(X)\n",
        "y= Scaler.fit_transform(ted_df['daily_views'].values.reshape(-1,1))"
      ],
      "metadata": {
        "id": "MGzOSHkd7zbb"
      },
      "execution_count": null,
      "outputs": []
    },
    {
      "cell_type": "code",
      "source": [
        "X.shape"
      ],
      "metadata": {
        "colab": {
          "base_uri": "https://localhost:8080/"
        },
        "id": "2IGBAprA-oik",
        "outputId": "31b34130-645f-4e51-b2ce-f06e0bed9d3a"
      },
      "execution_count": null,
      "outputs": [
        {
          "output_type": "execute_result",
          "data": {
            "text/plain": [
              "(4005, 8)"
            ]
          },
          "metadata": {},
          "execution_count": 65
        }
      ]
    },
    {
      "cell_type": "code",
      "source": [
        "y.shape"
      ],
      "metadata": {
        "colab": {
          "base_uri": "https://localhost:8080/"
        },
        "id": "jlHuN-BK_xxe",
        "outputId": "367fc4ac-2eb2-4067-b9f3-a9ccffde3d16"
      },
      "execution_count": null,
      "outputs": [
        {
          "output_type": "execute_result",
          "data": {
            "text/plain": [
              "(4005, 1)"
            ]
          },
          "metadata": {},
          "execution_count": 66
        }
      ]
    },
    {
      "cell_type": "code",
      "source": [
        "X_train,X_test,y_train,y_test=train_test_split(X,y,test_size=0.20,random_state=5)"
      ],
      "metadata": {
        "id": "My1BCf1l_y_W"
      },
      "execution_count": null,
      "outputs": []
    },
    {
      "cell_type": "code",
      "source": [
        "xgb_model.fit(X_train,y_train)"
      ],
      "metadata": {
        "colab": {
          "base_uri": "https://localhost:8080/"
        },
        "id": "Y4WOHYttANL-",
        "outputId": "6a5d90bd-a844-43b1-8519-11c07b4dd270"
      },
      "execution_count": null,
      "outputs": [
        {
          "output_type": "execute_result",
          "data": {
            "text/plain": [
              "XGBRegressor(objective='reg:squarederror')"
            ]
          },
          "metadata": {},
          "execution_count": 68
        }
      ]
    },
    {
      "cell_type": "code",
      "source": [
        "xgb_r2_train=xgb_model.score(X_train, y_train)\n",
        "xgb_r2_train"
      ],
      "metadata": {
        "colab": {
          "base_uri": "https://localhost:8080/"
        },
        "id": "DxWCMhFVAcTX",
        "outputId": "7af56db1-ee8a-408b-d9dd-88ab524c7a82"
      },
      "execution_count": null,
      "outputs": [
        {
          "output_type": "execute_result",
          "data": {
            "text/plain": [
              "0.9444831102962925"
            ]
          },
          "metadata": {},
          "execution_count": 69
        }
      ]
    },
    {
      "cell_type": "code",
      "source": [
        "xgb_r2_test= xgb_model.score(X_test, y_test)\n",
        "xgb_r2_test"
      ],
      "metadata": {
        "colab": {
          "base_uri": "https://localhost:8080/"
        },
        "id": "bI8LRLIRBYgE",
        "outputId": "0719614d-14f7-48fb-dd2f-8c5737d46ffc"
      },
      "execution_count": null,
      "outputs": [
        {
          "output_type": "execute_result",
          "data": {
            "text/plain": [
              "0.8164359302462112"
            ]
          },
          "metadata": {},
          "execution_count": 70
        }
      ]
    },
    {
      "cell_type": "code",
      "source": [
        "xgb_y_train_pred= xgb_model.predict(X_train)\n",
        "xgb_y_test_pred= xgb_model.predict(X_test)"
      ],
      "metadata": {
        "id": "_Z0ZcQZoBdbu"
      },
      "execution_count": null,
      "outputs": []
    },
    {
      "cell_type": "code",
      "source": [
        "mean_absolute_error(y_train,xgb_y_train_pred)"
      ],
      "metadata": {
        "colab": {
          "base_uri": "https://localhost:8080/"
        },
        "id": "QgYkX2TeBy6a",
        "outputId": "53ed7685-6db7-4a47-e592-5be05d552621"
      },
      "execution_count": null,
      "outputs": [
        {
          "output_type": "execute_result",
          "data": {
            "text/plain": [
              "0.08581679426947134"
            ]
          },
          "metadata": {},
          "execution_count": 72
        }
      ]
    },
    {
      "cell_type": "code",
      "source": [
        "mean_absolute_error(y_test, xgb_y_test_pred)"
      ],
      "metadata": {
        "colab": {
          "base_uri": "https://localhost:8080/"
        },
        "id": "8Ty6M37kB28n",
        "outputId": "717defc7-af0e-4111-a157-acc947365ccf"
      },
      "execution_count": null,
      "outputs": [
        {
          "output_type": "execute_result",
          "data": {
            "text/plain": [
              "0.11684206618478195"
            ]
          },
          "metadata": {},
          "execution_count": 73
        }
      ]
    },
    {
      "cell_type": "code",
      "source": [
        "xgb_rmse_train = math.sqrt(mean_squared_error(y_train,xgb_y_train_pred))\n",
        "xgb_rmse_train"
      ],
      "metadata": {
        "colab": {
          "base_uri": "https://localhost:8080/"
        },
        "id": "wI-KEkDfB7oA",
        "outputId": "f66c6882-ce21-4f03-baa0-56ea7ab66c07"
      },
      "execution_count": null,
      "outputs": [
        {
          "output_type": "execute_result",
          "data": {
            "text/plain": [
              "0.24241228334952034"
            ]
          },
          "metadata": {},
          "execution_count": 74
        }
      ]
    },
    {
      "cell_type": "code",
      "source": [
        "xgb_rmse_test = math.sqrt(mean_squared_error(y_test,xgb_y_test_pred))\n",
        "xgb_rmse_test"
      ],
      "metadata": {
        "colab": {
          "base_uri": "https://localhost:8080/"
        },
        "id": "_c0ZOanOCLO_",
        "outputId": "eed161e5-3c81-4e8e-a391-f56bd18b5e85"
      },
      "execution_count": null,
      "outputs": [
        {
          "output_type": "execute_result",
          "data": {
            "text/plain": [
              "0.37469330114200744"
            ]
          },
          "metadata": {},
          "execution_count": 75
        }
      ]
    },
    {
      "cell_type": "code",
      "source": [
        "#Plotting feature importance\n",
        "xgb_model.get_booster().feature_names = ['duration', 'speaker_1_avg_views', 'event_wise_avg_views','number_of_lang', 'num_of_topics', 'topics_wise_avg_views']\n",
        "plt.rcParams[\"figure.figsize\"] = (14,7)\n",
        "plt.figure(figsize= (10,4))\n",
        "xgb.plot_importance(xgb_model.get_booster())"
      ],
      "metadata": {
        "colab": {
          "base_uri": "https://localhost:8080/",
          "height": 495
        },
        "id": "u8_q8fe_CONf",
        "outputId": "615671f2-529a-470b-9e33-81fd3c2b72da"
      },
      "execution_count": null,
      "outputs": [
        {
          "output_type": "execute_result",
          "data": {
            "text/plain": [
              "<matplotlib.axes._subplots.AxesSubplot at 0x7f5c154e98d0>"
            ]
          },
          "metadata": {},
          "execution_count": 76
        },
        {
          "output_type": "display_data",
          "data": {
            "text/plain": [
              "<Figure size 720x288 with 0 Axes>"
            ]
          },
          "metadata": {}
        },
        {
          "output_type": "display_data",
          "data": {
            "text/plain": [
              "<Figure size 1008x504 with 1 Axes>"
            ],
            "image/png": "[encoded data removed]"
          },
          "metadata": {
            "needs_background": "light"
          }
        }
      ]
    },
    {
      "cell_type": "code",
      "source": [
        "from xgboost import plot_importance\n",
        "plt.rcParams[\"figure.figsize\"] = (14,7)\n",
        "plt.figure(figsize= (10,4))\n",
        "plot_importance(xgb_model, importance_type = 'gain', grid= False)"
      ],
      "metadata": {
        "colab": {
          "base_uri": "https://localhost:8080/",
          "height": 495
        },
        "id": "pXmHS6mfrWN7",
        "outputId": "a048a92e-0b2f-4b7c-ba18-763927ef46df"
      },
      "execution_count": null,
      "outputs": [
        {
          "output_type": "execute_result",
          "data": {
            "text/plain": [
              "<matplotlib.axes._subplots.AxesSubplot at 0x7f5c15464910>"
            ]
          },
          "metadata": {},
          "execution_count": 77
        },
        {
          "output_type": "display_data",
          "data": {
            "text/plain": [
              "<Figure size 720x288 with 0 Axes>"
            ]
          },
          "metadata": {}
        },
        {
          "output_type": "display_data",
          "data": {
            "text/plain": [
              "<Figure size 1008x504 with 1 Axes>"
            ],
            "image/png": "[encoded data removed]"
          },
          "metadata": {
            "needs_background": "light"
          }
        }
      ]
    },
    {
      "cell_type": "markdown",
      "source": [
        "# CAT BOOST"
      ],
      "metadata": {
        "id": "qIBoRjqaDFJ6"
      }
    },
    {
      "cell_type": "code",
      "source": [
        "from catboost import CatBoostRegressor"
      ],
      "metadata": {
        "id": "Dso6oVTzDT7U"
      },
      "execution_count": null,
      "outputs": []
    },
    {
      "cell_type": "code",
      "source": [
        "model = CatBoostRegressor(iterations=50,\n",
        "                          learning_rate=0.6,\n",
        "                          depth=10)\n",
        "model.fit(X_train, y_train)"
      ],
      "metadata": {
        "colab": {
          "base_uri": "https://localhost:8080/"
        },
        "id": "mvbazIqyCT2v",
        "outputId": "f1bf1371-bcbc-4753-b7f1-597af9dfbbe5"
      },
      "execution_count": null,
      "outputs": [
        {
          "output_type": "stream",
          "name": "stdout",
          "text": [
            "0:\tlearn: 0.7323311\ttotal: 117ms\tremaining: 5.71s\n",
            "1:\tlearn: 0.5460016\ttotal: 184ms\tremaining: 4.41s\n",
            "2:\tlearn: 0.4457682\ttotal: 231ms\tremaining: 3.62s\n",
            "3:\tlearn: 0.3984428\ttotal: 283ms\tremaining: 3.25s\n",
            "4:\tlearn: 0.3530052\ttotal: 332ms\tremaining: 2.98s\n",
            "5:\tlearn: 0.3122030\ttotal: 366ms\tremaining: 2.68s\n",
            "6:\tlearn: 0.2971298\ttotal: 406ms\tremaining: 2.5s\n",
            "7:\tlearn: 0.2809427\ttotal: 442ms\tremaining: 2.32s\n",
            "8:\tlearn: 0.2679726\ttotal: 481ms\tremaining: 2.19s\n",
            "9:\tlearn: 0.2470372\ttotal: 524ms\tremaining: 2.1s\n",
            "10:\tlearn: 0.2391988\ttotal: 565ms\tremaining: 2s\n",
            "11:\tlearn: 0.2242531\ttotal: 603ms\tremaining: 1.91s\n",
            "12:\tlearn: 0.2098122\ttotal: 644ms\tremaining: 1.83s\n",
            "13:\tlearn: 0.2006082\ttotal: 690ms\tremaining: 1.77s\n",
            "14:\tlearn: 0.1975668\ttotal: 728ms\tremaining: 1.7s\n",
            "15:\tlearn: 0.1833296\ttotal: 778ms\tremaining: 1.65s\n",
            "16:\tlearn: 0.1735467\ttotal: 832ms\tremaining: 1.61s\n",
            "17:\tlearn: 0.1653679\ttotal: 886ms\tremaining: 1.57s\n",
            "18:\tlearn: 0.1618159\ttotal: 933ms\tremaining: 1.52s\n",
            "19:\tlearn: 0.1543028\ttotal: 982ms\tremaining: 1.47s\n",
            "20:\tlearn: 0.1520322\ttotal: 1.04s\tremaining: 1.44s\n",
            "21:\tlearn: 0.1489876\ttotal: 1.08s\tremaining: 1.38s\n",
            "22:\tlearn: 0.1417462\ttotal: 1.11s\tremaining: 1.3s\n",
            "23:\tlearn: 0.1397694\ttotal: 1.15s\tremaining: 1.24s\n",
            "24:\tlearn: 0.1351198\ttotal: 1.24s\tremaining: 1.24s\n",
            "25:\tlearn: 0.1338569\ttotal: 1.27s\tremaining: 1.17s\n",
            "26:\tlearn: 0.1282633\ttotal: 1.35s\tremaining: 1.15s\n",
            "27:\tlearn: 0.1235199\ttotal: 1.41s\tremaining: 1.1s\n",
            "28:\tlearn: 0.1174989\ttotal: 1.46s\tremaining: 1.06s\n",
            "29:\tlearn: 0.1132233\ttotal: 1.51s\tremaining: 1.01s\n",
            "30:\tlearn: 0.1097846\ttotal: 1.53s\tremaining: 940ms\n",
            "31:\tlearn: 0.1050752\ttotal: 1.57s\tremaining: 886ms\n",
            "32:\tlearn: 0.1028836\ttotal: 1.6s\tremaining: 824ms\n",
            "33:\tlearn: 0.1005451\ttotal: 1.65s\tremaining: 776ms\n",
            "34:\tlearn: 0.0975446\ttotal: 1.7s\tremaining: 731ms\n",
            "35:\tlearn: 0.0956098\ttotal: 1.77s\tremaining: 689ms\n",
            "36:\tlearn: 0.0931797\ttotal: 1.82s\tremaining: 638ms\n",
            "37:\tlearn: 0.0902146\ttotal: 1.86s\tremaining: 587ms\n",
            "38:\tlearn: 0.0871008\ttotal: 1.9s\tremaining: 535ms\n",
            "39:\tlearn: 0.0851292\ttotal: 1.94s\tremaining: 486ms\n",
            "40:\tlearn: 0.0842683\ttotal: 1.99s\tremaining: 437ms\n",
            "41:\tlearn: 0.0820639\ttotal: 2.08s\tremaining: 397ms\n",
            "42:\tlearn: 0.0799916\ttotal: 2.15s\tremaining: 351ms\n",
            "43:\tlearn: 0.0775954\ttotal: 2.22s\tremaining: 302ms\n",
            "44:\tlearn: 0.0766945\ttotal: 2.27s\tremaining: 253ms\n",
            "45:\tlearn: 0.0733897\ttotal: 2.31s\tremaining: 201ms\n",
            "46:\tlearn: 0.0719587\ttotal: 2.38s\tremaining: 152ms\n",
            "47:\tlearn: 0.0703940\ttotal: 2.42s\tremaining: 101ms\n",
            "48:\tlearn: 0.0689349\ttotal: 2.48s\tremaining: 50.7ms\n",
            "49:\tlearn: 0.0667275\ttotal: 2.56s\tremaining: 0us\n"
          ]
        },
        {
          "output_type": "execute_result",
          "data": {
            "text/plain": [
              "<catboost.core.CatBoostRegressor at 0x7f5c14e76f50>"
            ]
          },
          "metadata": {},
          "execution_count": 79
        }
      ]
    },
    {
      "cell_type": "code",
      "source": [
        "cat_y_train_pred= model.predict(X_train)\n",
        "cat_y_test_pred= model.predict(X_test)"
      ],
      "metadata": {
        "id": "5mjojXfSDPNr"
      },
      "execution_count": null,
      "outputs": []
    },
    {
      "cell_type": "code",
      "source": [
        "cat_boost_r2_test = r2_score(y_test,cat_y_test_pred)\n",
        "cat_boost_r2_test"
      ],
      "metadata": {
        "colab": {
          "base_uri": "https://localhost:8080/"
        },
        "id": "1ZQFOUFODcYf",
        "outputId": "01d8f910-0b40-4dcc-b386-54cd8eade850"
      },
      "execution_count": null,
      "outputs": [
        {
          "output_type": "execute_result",
          "data": {
            "text/plain": [
              "0.7770890425340256"
            ]
          },
          "metadata": {},
          "execution_count": 81
        }
      ]
    },
    {
      "cell_type": "code",
      "source": [
        "cat_boost_r2_train=r2_score(y_train, cat_y_train_pred)\n",
        "cat_boost_r2_train"
      ],
      "metadata": {
        "colab": {
          "base_uri": "https://localhost:8080/"
        },
        "id": "s0-e-jDeD1Gt",
        "outputId": "374142ad-264b-412a-e297-1fd298e3e1da"
      },
      "execution_count": null,
      "outputs": [
        {
          "output_type": "execute_result",
          "data": {
            "text/plain": [
              "0.9957934507944981"
            ]
          },
          "metadata": {},
          "execution_count": 82
        }
      ]
    },
    {
      "cell_type": "code",
      "source": [
        "mean_absolute_error(y_train,cat_y_train_pred)"
      ],
      "metadata": {
        "colab": {
          "base_uri": "https://localhost:8080/"
        },
        "id": "kYR9LCsVD3-o",
        "outputId": "8351ee50-4784-44df-b1c4-3ce3dde0c8b2"
      },
      "execution_count": null,
      "outputs": [
        {
          "output_type": "execute_result",
          "data": {
            "text/plain": [
              "0.041191072525756656"
            ]
          },
          "metadata": {},
          "execution_count": 83
        }
      ]
    },
    {
      "cell_type": "code",
      "source": [
        "mean_absolute_error(y_test, cat_y_test_pred)"
      ],
      "metadata": {
        "colab": {
          "base_uri": "https://localhost:8080/"
        },
        "id": "8fmfoCImD8nr",
        "outputId": "f5c8e2b3-b39b-4684-dc1b-47eabe824c9f"
      },
      "execution_count": null,
      "outputs": [
        {
          "output_type": "execute_result",
          "data": {
            "text/plain": [
              "0.13850799112501447"
            ]
          },
          "metadata": {},
          "execution_count": 84
        }
      ]
    },
    {
      "cell_type": "code",
      "source": [
        "cat_rmse_train = math.sqrt(mean_squared_error(y_train,cat_y_train_pred))\n",
        "cat_rmse_train"
      ],
      "metadata": {
        "colab": {
          "base_uri": "https://localhost:8080/"
        },
        "id": "WwzX567KEDkr",
        "outputId": "97b24269-691b-4a11-a1a2-16c502705dcc"
      },
      "execution_count": null,
      "outputs": [
        {
          "output_type": "execute_result",
          "data": {
            "text/plain": [
              "0.06672752942587849"
            ]
          },
          "metadata": {},
          "execution_count": 85
        }
      ]
    },
    {
      "cell_type": "code",
      "source": [
        "cat_rmse_test = math.sqrt(mean_squared_error(y_test,cat_y_test_pred))\n",
        "cat_rmse_test"
      ],
      "metadata": {
        "colab": {
          "base_uri": "https://localhost:8080/"
        },
        "id": "Bfp_TtO9EGw-",
        "outputId": "7c4e2bc6-f6f0-4f8d-cc79-9ba8ee0916bf"
      },
      "execution_count": null,
      "outputs": [
        {
          "output_type": "execute_result",
          "data": {
            "text/plain": [
              "0.41290277200698083"
            ]
          },
          "metadata": {},
          "execution_count": 86
        }
      ]
    },
    {
      "cell_type": "code",
      "source": [
        "X=pd.DataFrame(X)"
      ],
      "metadata": {
        "id": "z4TeeymzsfI3"
      },
      "execution_count": null,
      "outputs": []
    },
    {
      "cell_type": "code",
      "source": [
        "fig = plt.figure(figsize=(16,8))\n",
        "ax = fig.add_subplot(111)\n",
        "sns.heatmap(X.corr(),annot=True, cmap='Spectral_r')"
      ],
      "metadata": {
        "colab": {
          "base_uri": "https://localhost:8080/",
          "height": 505
        },
        "id": "hyqIy7arsfYb",
        "outputId": "be255e69-5506-48f0-eb0d-f7743073c787"
      },
      "execution_count": null,
      "outputs": [
        {
          "output_type": "execute_result",
          "data": {
            "text/plain": [
              "<matplotlib.axes._subplots.AxesSubplot at 0x7f5c14e7fd10>"
            ]
          },
          "metadata": {},
          "execution_count": 88
        },
        {
          "output_type": "display_data",
          "data": {
            "text/plain": [
              "<Figure size 1152x576 with 2 Axes>"
            ],
            "image/png": "[encoded data removed]"
          },
          "metadata": {
            "needs_background": "light"
          }
        }
      ]
    },
    {
      "cell_type": "code",
      "source": [
        "X_train, X_test, y_train, y_test = train_test_split(X, y, test_size=0.3, random_state=42)"
      ],
      "metadata": {
        "id": "5_dzP8Etsfhr"
      },
      "execution_count": null,
      "outputs": []
    },
    {
      "cell_type": "markdown",
      "source": [
        "# Linear regression"
      ],
      "metadata": {
        "id": "bVw5y58TXlhT"
      }
    },
    {
      "cell_type": "code",
      "source": [
        "from sklearn.linear_model import LinearRegression\n",
        "reg = LinearRegression().fit(X_train, y_train)"
      ],
      "metadata": {
        "id": "gfuFF2SzYO4o"
      },
      "execution_count": null,
      "outputs": []
    },
    {
      "cell_type": "code",
      "source": [
        "y_pred = reg.predict(X_train)\n",
        "y_test_pred = reg.predict(X_test)\n",
        "MSE  = mean_squared_error(y_test, y_test_pred)\n",
        "print(\"MSE on test:\" , MSE)\n",
        "RMSE = np.sqrt(MSE)\n",
        "print(\"RMSE on test:\" ,RMSE)\n",
        "y_pred = reg.predict(X_train)\n",
        "y_test_pred = reg.predict(X_test)\n",
        "print('Training MAE: {:0.2f}'.format(mean_absolute_error(y_train, y_pred)))\n",
        "print('Test MAE: {:0.2f}'.format(mean_absolute_error(y_test, y_test_pred)))"
      ],
      "metadata": {
        "colab": {
          "base_uri": "https://localhost:8080/"
        },
        "id": "MldP5FJkZeGJ",
        "outputId": "09a85d86-1621-479c-ec9f-51d0238b87e2"
      },
      "execution_count": null,
      "outputs": [
        {
          "output_type": "stream",
          "name": "stdout",
          "text": [
            "MSE on test: 0.16396510776233705\n",
            "RMSE on test: 0.40492605221489153\n",
            "Training MAE: 0.16\n",
            "Test MAE: 0.14\n"
          ]
        }
      ]
    },
    {
      "cell_type": "markdown",
      "source": [
        "# Random forest"
      ],
      "metadata": {
        "id": "AX9mkHNjcjbU"
      }
    },
    {
      "cell_type": "code",
      "source": [
        "rf = RandomForestRegressor(criterion='mae')\n",
        "rf.fit(X_train, y_train)\n",
        "y_pred = rf.predict(X_train)\n",
        "y_test_pred = rf.predict(X_test)\n",
        "print('Training MAE: {:0.2f}'.format(metrics.mean_absolute_error(y_train, y_pred)))\n",
        "print('Test MAE: {:0.2f}'.format(metrics.mean_absolute_error(y_test, y_test_pred)))\n",
        "print('Target mean: {:0.2f}'.format(y.mean()))\n",
        "print('Target std: {:0.2f}'.format(y.std()))"
      ],
      "metadata": {
        "colab": {
          "base_uri": "https://localhost:8080/"
        },
        "id": "JqaoCB0lZ8TD",
        "outputId": "3d816080-7faa-4b46-ce14-4932662ad65c"
      },
      "execution_count": null,
      "outputs": [
        {
          "output_type": "stream",
          "name": "stdout",
          "text": [
            "Training MAE: 0.05\n",
            "Test MAE: 0.12\n",
            "Target mean: 0.00\n",
            "Target std: 1.00\n"
          ]
        }
      ]
    },
    {
      "cell_type": "code",
      "source": [
        "#now applying feature selection and hyper parameter tuning as the score is not good enough"
      ],
      "metadata": {
        "id": "adnYayUoctTi"
      },
      "execution_count": null,
      "outputs": []
    },
    {
      "cell_type": "code",
      "source": [
        "n_estimators = [30,50,80,100,120,150]\n",
        "max_depth = [4,6,8,10,12]\n",
        "min_samples_split = [50,80,100,150,200]\n",
        "min_samples_leaf = [10,30,40,50,60,80]\n",
        "# HYperparameter Dict\n",
        "param_dict = {'n_estimators' : n_estimators,\n",
        "              'max_depth' : max_depth,\n",
        "              'min_samples_split' : min_samples_split,\n",
        "              'min_samples_leaf' : min_samples_leaf}"
      ],
      "metadata": {
        "id": "SV5980fEj_lj"
      },
      "execution_count": null,
      "outputs": []
    },
    {
      "cell_type": "markdown",
      "source": [
        "#  Hyperparameter Tuning using Randomized Search CV\n"
      ],
      "metadata": {
        "id": "pjdyKBNllINH"
      }
    },
    {
      "cell_type": "code",
      "source": [
        "rf_model = RandomForestRegressor(criterion='mae')\n",
        "\n",
        "#RandomSearch\n",
        "rf_random = RandomizedSearchCV(rf_model,param_dict,verbose=0,cv=5)\n",
        "rf_random.fit(X_train,y_train)"
      ],
      "metadata": {
        "colab": {
          "base_uri": "https://localhost:8080/"
        },
        "id": "YZWnhQh7kCK4",
        "outputId": "769c9869-50cf-4997-c108-56f886a51f49"
      },
      "execution_count": null,
      "outputs": [
        {
          "output_type": "execute_result",
          "data": {
            "text/plain": [
              "RandomizedSearchCV(cv=5, estimator=RandomForestRegressor(criterion='mae'),\n",
              "                   param_distributions={'max_depth': [4, 6, 8, 10, 12],\n",
              "                                        'min_samples_leaf': [10, 30, 40, 50, 60,\n",
              "                                                             80],\n",
              "                                        'min_samples_split': [50, 80, 100, 150,\n",
              "                                                              200],\n",
              "                                        'n_estimators': [30, 50, 80, 100, 120,\n",
              "                                                         150]})"
            ]
          },
          "metadata": {},
          "execution_count": 95
        }
      ]
    },
    {
      "cell_type": "code",
      "source": [
        "rf_optimal_model = rf_random.best_estimator_"
      ],
      "metadata": {
        "id": "kFPmuhHAlN9y"
      },
      "execution_count": null,
      "outputs": []
    },
    {
      "cell_type": "code",
      "source": [
        "rf_optimal_model"
      ],
      "metadata": {
        "colab": {
          "base_uri": "https://localhost:8080/"
        },
        "id": "Gui4ph45nFEG",
        "outputId": "9d700c52-8e3c-4da5-8ba6-ee3714756ee6"
      },
      "execution_count": null,
      "outputs": [
        {
          "output_type": "execute_result",
          "data": {
            "text/plain": [
              "RandomForestRegressor(criterion='mae', max_depth=12, min_samples_leaf=30,\n",
              "                      min_samples_split=50, n_estimators=50)"
            ]
          },
          "metadata": {},
          "execution_count": 97
        }
      ]
    },
    {
      "cell_type": "code",
      "source": [
        "y_pred = rf_optimal_model.predict(X_train)\n",
        "y_test_pred = rf_optimal_model.predict(X_test)\n",
        "print('Training MAE: {:0.2f}'.format(metrics.mean_absolute_error(y_train, y_pred)))\n",
        "print('Test MAE: {:0.2f}'.format(metrics.mean_absolute_error(y_test, y_test_pred)))"
      ],
      "metadata": {
        "colab": {
          "base_uri": "https://localhost:8080/"
        },
        "id": "ajNBkLm_nI5t",
        "outputId": "fef95e97-c941-44a2-cdfe-56ae38b6664c"
      },
      "execution_count": null,
      "outputs": [
        {
          "output_type": "stream",
          "name": "stdout",
          "text": [
            "Training MAE: 0.13\n",
            "Test MAE: 0.11\n"
          ]
        }
      ]
    },
    {
      "cell_type": "code",
      "source": [
        "y_hat = rf_optimal_model.predict(X_test)\n",
        "print(f'r_sqr value for train: {rf_optimal_model.score(X_train, y_train)}')\n",
        "r_squared= r2_score(y_test,y_hat)\n",
        "#Calculating Adjusted R-sqaured\n",
        "adjusted_r_squared = 1 - (1-r_squared)*(len(y)-1)/(len(y)-X.shape[1]-1)\n",
        "print(f'For test set the R_Squared for RFforest is {r_squared} and adjusted R_Squared is {adjusted_r_squared}')"
      ],
      "metadata": {
        "colab": {
          "base_uri": "https://localhost:8080/"
        },
        "id": "CWHYXmsQnO4m",
        "outputId": "3c12eb47-503b-488e-8805-99370348ef25"
      },
      "execution_count": null,
      "outputs": [
        {
          "output_type": "stream",
          "name": "stdout",
          "text": [
            "r_sqr value for train: 0.5778461404297027\n",
            "For test set the R_Squared for RFforest is 0.4724960688483665 and adjusted R_Squared is 0.471440004922137\n"
          ]
        }
      ]
    },
    {
      "cell_type": "markdown",
      "source": [
        "Let's plot all the scores of rf_optimal_model together."
      ],
      "metadata": {
        "id": "vbPKz5opnhBY"
      }
    },
    {
      "cell_type": "code",
      "source": [
        "model =[\n",
        "        ['RandomForest ',RandomForestRegressor(criterion='mae',max_depth=6,min_samples_leaf=30,min_samples_split=80,n_estimators=150,random_state=42)]\n",
        "      ]\n",
        "#Let's run the the model and store the results in one dataframe\n",
        "model_data = []\n",
        "for name,curr_model in model :\n",
        "    curr_model_data = {}\n",
        "    curr_model.random_state = 42\n",
        "    curr_model_data[\"Model_Name\"] = name\n",
        "    curr_model.fit(X_train,y_train)\n",
        "    curr_model_data[\"MAE_train\"] =metrics.mean_absolute_error(y_train, curr_model.predict(X_train))\n",
        "    curr_model_data[\"MAE_test\"] =metrics.mean_absolute_error(y_test, curr_model.predict(X_test))\n",
        "    curr_model_data[\"R2_Score_train\"] = r2_score(y_train,curr_model.predict(X_train))\n",
        "    curr_model_data[\"R2_Score_test\"] = r2_score(y_test,curr_model.predict(X_test))\n",
        "    curr_model_data[\"RMSE_Score_train\"] = np.sqrt(mean_squared_error(y_train,curr_model.predict(X_train)))\n",
        "    curr_model_data[\"RMSE_Score_test\"] = np.sqrt(mean_squared_error(y_test,curr_model.predict(X_test)))\n",
        "    model_data.append(curr_model_data)\n",
        "\n",
        "results_df_rf = pd.DataFrame(model_data)\n",
        "\n",
        "#printing the results_df_rf\n",
        "results_df_rf"
      ],
      "metadata": {
        "colab": {
          "base_uri": "https://localhost:8080/",
          "height": 81
        },
        "id": "NaUxWn0jnaRN",
        "outputId": "a9104480-143b-4a81-a8b8-2269b9fe5cbc"
      },
      "execution_count": null,
      "outputs": [
        {
          "output_type": "execute_result",
          "data": {
            "text/plain": [
              "      Model_Name  MAE_train  MAE_test  R2_Score_train  R2_Score_test  \\\n",
              "0  RandomForest    0.128976  0.112585        0.573297       0.469677   \n",
              "\n",
              "   RMSE_Score_train  RMSE_Score_test  \n",
              "0           0.66668         0.691072  "
            ],
            "text/html": [
              "\n",
              "  <div id=\"df-e03f3716-8a58-4bf8-a140-b00e2efd5a01\">\n",
              "    <div class=\"colab-df-container\">\n",
              "      <div>\n",
              "<style scoped>\n",
              "    .dataframe tbody tr th:only-of-type {\n",
              "        vertical-align: middle;\n",
              "    }\n",
              "\n",
              "    .dataframe tbody tr th {\n",
              "        vertical-align: top;\n",
              "    }\n",
              "\n",
              "    .dataframe thead th {\n",
              "        text-align: right;\n",
              "    }\n",
              "</style>\n",
              "<table border=\"1\" class=\"dataframe\">\n",
              "  <thead>\n",
              "    <tr style=\"text-align: right;\">\n",
              "      <th></th>\n",
              "      <th>Model_Name</th>\n",
              "      <th>MAE_train</th>\n",
              "      <th>MAE_test</th>\n",
              "      <th>R2_Score_train</th>\n",
              "      <th>R2_Score_test</th>\n",
              "      <th>RMSE_Score_train</th>\n",
              "      <th>RMSE_Score_test</th>\n",
              "    </tr>\n",
              "  </thead>\n",
              "  <tbody>\n",
              "    <tr>\n",
              "      <th>0</th>\n",
              "      <td>RandomForest</td>\n",
              "      <td>0.128976</td>\n",
              "      <td>0.112585</td>\n",
              "      <td>0.573297</td>\n",
              "      <td>0.469677</td>\n",
              "      <td>0.66668</td>\n",
              "      <td>0.691072</td>\n",
              "    </tr>\n",
              "  </tbody>\n",
              "</table>\n",
              "</div>\n",
              "      <button class=\"colab-df-convert\" onclick=\"convertToInteractive('df-e03f3716-8a58-4bf8-a140-b00e2efd5a01')\"\n",
              "              title=\"Convert this dataframe to an interactive table.\"\n",
              "              style=\"display:none;\">\n",
              "        \n",
              "  <svg xmlns=\"http://www.w3.org/2000/svg\" height=\"24px\"viewBox=\"0 0 24 24\"\n",
              "       width=\"24px\">\n",
              "    <path d=\"M0 0h24v24H0V0z\" fill=\"none\"/>\n",
              "    <path d=\"M18.56 5.44l.94 2.06.94-2.06 2.06-.94-2.06-.94-.94-2.06-.94 2.06-2.06.94zm-11 1L8.5 8.5l.94-2.06 2.06-.94-2.06-.94L8.5 2.5l-.94 2.06-2.06.94zm10 10l.94 2.06.94-2.06 2.06-.94-2.06-.94-.94-2.06-.94 2.06-2.06.94z\"/><path d=\"M17.41 7.96l-1.37-1.37c-.4-.4-.92-.59-1.43-.59-.52 0-1.04.2-1.43.59L10.3 9.45l-7.72 7.72c-.78.78-.78 2.05 0 2.83L4 21.41c.39.39.9.59 1.41.59.51 0 1.02-.2 1.41-.59l7.78-7.78 2.81-2.81c.8-.78.8-2.07 0-2.86zM5.41 20L4 18.59l7.72-7.72 1.47 1.35L5.41 20z\"/>\n",
              "  </svg>\n",
              "      </button>\n",
              "      \n",
              "  <style>\n",
              "    .colab-df-container {\n",
              "      display:flex;\n",
              "      flex-wrap:wrap;\n",
              "      gap: 12px;\n",
              "    }\n",
              "\n",
              "    .colab-df-convert {\n",
              "      background-color: #E8F0FE;\n",
              "      border: none;\n",
              "      border-radius: 50%;\n",
              "      cursor: pointer;\n",
              "      display: none;\n",
              "      fill: #1967D2;\n",
              "      height: 32px;\n",
              "      padding: 0 0 0 0;\n",
              "      width: 32px;\n",
              "    }\n",
              "\n",
              "    .colab-df-convert:hover {\n",
              "      background-color: #E2EBFA;\n",
              "      box-shadow: 0px 1px 2px rgba(60, 64, 67, 0.3), 0px 1px 3px 1px rgba(60, 64, 67, 0.15);\n",
              "      fill: #174EA6;\n",
              "    }\n",
              "\n",
              "    [theme=dark] .colab-df-convert {\n",
              "      background-color: #3B4455;\n",
              "      fill: #D2E3FC;\n",
              "    }\n",
              "\n",
              "    [theme=dark] .colab-df-convert:hover {\n",
              "      background-color: #434B5C;\n",
              "      box-shadow: 0px 1px 3px 1px rgba(0, 0, 0, 0.15);\n",
              "      filter: drop-shadow(0px 1px 2px rgba(0, 0, 0, 0.3));\n",
              "      fill: #FFFFFF;\n",
              "    }\n",
              "  </style>\n",
              "\n",
              "      <script>\n",
              "        const buttonEl =\n",
              "          document.querySelector('#df-e03f3716-8a58-4bf8-a140-b00e2efd5a01 button.colab-df-convert');\n",
              "        buttonEl.style.display =\n",
              "          google.colab.kernel.accessAllowed ? 'block' : 'none';\n",
              "\n",
              "        async function convertToInteractive(key) {\n",
              "          const element = document.querySelector('#df-e03f3716-8a58-4bf8-a140-b00e2efd5a01');\n",
              "          const dataTable =\n",
              "            await google.colab.kernel.invokeFunction('convertToInteractive',\n",
              "                                                     [key], {});\n",
              "          if (!dataTable) return;\n",
              "\n",
              "          const docLinkHtml = 'Like what you see? Visit the ' +\n",
              "            '<a target=\"_blank\" href=https://colab.research.google.com/notebooks/data_table.ipynb>data table notebook</a>'\n",
              "            + ' to learn more about interactive tables.';\n",
              "          element.innerHTML = '';\n",
              "          dataTable['output_type'] = 'display_data';\n",
              "          await google.colab.output.renderOutput(dataTable, element);\n",
              "          const docLink = document.createElement('div');\n",
              "          docLink.innerHTML = docLinkHtml;\n",
              "          element.appendChild(docLink);\n",
              "        }\n",
              "      </script>\n",
              "    </div>\n",
              "  </div>\n",
              "  "
            ]
          },
          "metadata": {},
          "execution_count": 100
        }
      ]
    },
    {
      "cell_type": "code",
      "source": [
        "importances= rf_optimal_model.feature_importances_\n",
        "Features=list(X_train.columns)\n",
        "importance_dict = {'Features': list(X_train.columns), 'Feature Importances': importances}\n",
        "importances_df= pd.DataFrame(importance_dict)    \n",
        "\n",
        "fig = plt.figure(figsize=(14, 4))\n",
        "sns.barplot( Features, importances)\n",
        "plt.xticks(rotation='vertical')\n",
        "plt.title('Feature importance score w.r.t. RFRegressor model')\n",
        "plt.show()"
      ],
      "metadata": {
        "colab": {
          "base_uri": "https://localhost:8080/",
          "height": 278
        },
        "id": "CYPSODF1nnan",
        "outputId": "a6876cab-289a-4ab2-bc88-10118deb72f1"
      },
      "execution_count": null,
      "outputs": [
        {
          "output_type": "display_data",
          "data": {
            "text/plain": [
              "<Figure size 1008x288 with 1 Axes>"
            ],
            "image/png": "[encoded data removed]"
          },
          "metadata": {
            "needs_background": "light"
          }
        }
      ]
    },
    {
      "cell_type": "markdown",
      "source": [
        "Applying XGboost regressor model"
      ],
      "metadata": {
        "id": "k7qZ2oXoo9jv"
      }
    },
    {
      "cell_type": "code",
      "source": [
        "#XGBoost Regressor\n",
        "\n",
        "n_estimators = [50,80,100]\n",
        "# Maximum depth of trees\n",
        "max_depth = [4,6,8]\n",
        "# Minimum number of samples required to split a node\n",
        "min_samples_split = [50,100,150]\n",
        "# Minimum number of samples required at each leaf node\n",
        "min_samples_leaf = [40,50]\n",
        "# HYperparameter Dict\n",
        "param_dict = {'n_estimators' : n_estimators,\n",
        "              'max_depth' : max_depth,\n",
        "              'min_samples_split' : min_samples_split,\n",
        "              'min_samples_leaf' : min_samples_leaf}"
      ],
      "metadata": {
        "id": "Mcdo4Vp7oZ8_"
      },
      "execution_count": null,
      "outputs": []
    },
    {
      "cell_type": "code",
      "source": [
        "from xgboost import XGBRegressor\n",
        "# Create an instance of the XGBoost\n",
        "xgb_model = XGBRegressor(learning_rate=0.1)\n",
        "#RandomSearch\n",
        "xgb_random = RandomizedSearchCV(xgb_model,param_dict,verbose=2,cv=5)\n",
        "xgb_random.fit(X_train,y_train)"
      ],
      "metadata": {
        "colab": {
          "base_uri": "https://localhost:8080/"
        },
        "id": "rBGHZ6c6pCsJ",
        "outputId": "c25558b2-28b6-4431-914d-18a2d0ad520e"
      },
      "execution_count": null,
      "outputs": [
        {
          "output_type": "stream",
          "name": "stdout",
          "text": [
            "Fitting 5 folds for each of 10 candidates, totalling 50 fits\n",
            "[17:10:12] WARNING: /workspace/src/objective/regression_obj.cu:152: reg:linear is now deprecated in favor of reg:squarederror.\n",
            "[CV] END max_depth=8, min_samples_leaf=50, min_samples_split=150, n_estimators=50; total time=   0.2s\n",
            "[17:10:13] WARNING: /workspace/src/objective/regression_obj.cu:152: reg:linear is now deprecated in favor of reg:squarederror.\n",
            "[CV] END max_depth=8, min_samples_leaf=50, min_samples_split=150, n_estimators=50; total time=   0.2s\n",
            "[17:10:13] WARNING: /workspace/src/objective/regression_obj.cu:152: reg:linear is now deprecated in favor of reg:squarederror.\n",
            "[CV] END max_depth=8, min_samples_leaf=50, min_samples_split=150, n_estimators=50; total time=   0.2s\n",
            "[17:10:13] WARNING: /workspace/src/objective/regression_obj.cu:152: reg:linear is now deprecated in favor of reg:squarederror.\n",
            "[CV] END max_depth=8, min_samples_leaf=50, min_samples_split=150, n_estimators=50; total time=   0.2s\n",
            "[17:10:13] WARNING: /workspace/src/objective/regression_obj.cu:152: reg:linear is now deprecated in favor of reg:squarederror.\n",
            "[CV] END max_depth=8, min_samples_leaf=50, min_samples_split=150, n_estimators=50; total time=   0.2s\n",
            "[17:10:13] WARNING: /workspace/src/objective/regression_obj.cu:152: reg:linear is now deprecated in favor of reg:squarederror.\n",
            "[CV] END max_depth=4, min_samples_leaf=50, min_samples_split=50, n_estimators=100; total time=   0.2s\n",
            "[17:10:13] WARNING: /workspace/src/objective/regression_obj.cu:152: reg:linear is now deprecated in favor of reg:squarederror.\n",
            "[CV] END max_depth=4, min_samples_leaf=50, min_samples_split=50, n_estimators=100; total time=   0.2s\n",
            "[17:10:14] WARNING: /workspace/src/objective/regression_obj.cu:152: reg:linear is now deprecated in favor of reg:squarederror.\n",
            "[CV] END max_depth=4, min_samples_leaf=50, min_samples_split=50, n_estimators=100; total time=   0.2s\n",
            "[17:10:14] WARNING: /workspace/src/objective/regression_obj.cu:152: reg:linear is now deprecated in favor of reg:squarederror.\n",
            "[CV] END max_depth=4, min_samples_leaf=50, min_samples_split=50, n_estimators=100; total time=   0.2s\n",
            "[17:10:14] WARNING: /workspace/src/objective/regression_obj.cu:152: reg:linear is now deprecated in favor of reg:squarederror.\n",
            "[CV] END max_depth=4, min_samples_leaf=50, min_samples_split=50, n_estimators=100; total time=   0.2s\n",
            "[17:10:14] WARNING: /workspace/src/objective/regression_obj.cu:152: reg:linear is now deprecated in favor of reg:squarederror.\n",
            "[CV] END max_depth=4, min_samples_leaf=40, min_samples_split=100, n_estimators=80; total time=   0.1s\n",
            "[17:10:14] WARNING: /workspace/src/objective/regression_obj.cu:152: reg:linear is now deprecated in favor of reg:squarederror.\n",
            "[CV] END max_depth=4, min_samples_leaf=40, min_samples_split=100, n_estimators=80; total time=   0.1s\n",
            "[17:10:14] WARNING: /workspace/src/objective/regression_obj.cu:152: reg:linear is now deprecated in favor of reg:squarederror.\n",
            "[CV] END max_depth=4, min_samples_leaf=40, min_samples_split=100, n_estimators=80; total time=   0.1s\n",
            "[17:10:14] WARNING: /workspace/src/objective/regression_obj.cu:152: reg:linear is now deprecated in favor of reg:squarederror.\n",
            "[CV] END max_depth=4, min_samples_leaf=40, min_samples_split=100, n_estimators=80; total time=   0.1s\n",
            "[17:10:15] WARNING: /workspace/src/objective/regression_obj.cu:152: reg:linear is now deprecated in favor of reg:squarederror.\n",
            "[CV] END max_depth=4, min_samples_leaf=40, min_samples_split=100, n_estimators=80; total time=   0.1s\n",
            "[17:10:15] WARNING: /workspace/src/objective/regression_obj.cu:152: reg:linear is now deprecated in favor of reg:squarederror.\n",
            "[CV] END max_depth=8, min_samples_leaf=50, min_samples_split=100, n_estimators=80; total time=   0.2s\n",
            "[17:10:15] WARNING: /workspace/src/objective/regression_obj.cu:152: reg:linear is now deprecated in favor of reg:squarederror.\n",
            "[CV] END max_depth=8, min_samples_leaf=50, min_samples_split=100, n_estimators=80; total time=   0.3s\n",
            "[17:10:15] WARNING: /workspace/src/objective/regression_obj.cu:152: reg:linear is now deprecated in favor of reg:squarederror.\n",
            "[CV] END max_depth=8, min_samples_leaf=50, min_samples_split=100, n_estimators=80; total time=   0.3s\n",
            "[17:10:15] WARNING: /workspace/src/objective/regression_obj.cu:152: reg:linear is now deprecated in favor of reg:squarederror.\n",
            "[CV] END max_depth=8, min_samples_leaf=50, min_samples_split=100, n_estimators=80; total time=   0.3s\n",
            "[17:10:16] WARNING: /workspace/src/objective/regression_obj.cu:152: reg:linear is now deprecated in favor of reg:squarederror.\n",
            "[CV] END max_depth=8, min_samples_leaf=50, min_samples_split=100, n_estimators=80; total time=   0.3s\n",
            "[17:10:16] WARNING: /workspace/src/objective/regression_obj.cu:152: reg:linear is now deprecated in favor of reg:squarederror.\n",
            "[CV] END max_depth=4, min_samples_leaf=40, min_samples_split=50, n_estimators=100; total time=   0.2s\n",
            "[17:10:16] WARNING: /workspace/src/objective/regression_obj.cu:152: reg:linear is now deprecated in favor of reg:squarederror.\n",
            "[CV] END max_depth=4, min_samples_leaf=40, min_samples_split=50, n_estimators=100; total time=   0.2s\n",
            "[17:10:16] WARNING: /workspace/src/objective/regression_obj.cu:152: reg:linear is now deprecated in favor of reg:squarederror.\n",
            "[CV] END max_depth=4, min_samples_leaf=40, min_samples_split=50, n_estimators=100; total time=   0.2s\n",
            "[17:10:16] WARNING: /workspace/src/objective/regression_obj.cu:152: reg:linear is now deprecated in favor of reg:squarederror.\n",
            "[CV] END max_depth=4, min_samples_leaf=40, min_samples_split=50, n_estimators=100; total time=   0.2s\n",
            "[17:10:17] WARNING: /workspace/src/objective/regression_obj.cu:152: reg:linear is now deprecated in favor of reg:squarederror.\n",
            "[CV] END max_depth=4, min_samples_leaf=40, min_samples_split=50, n_estimators=100; total time=   0.2s\n",
            "[17:10:17] WARNING: /workspace/src/objective/regression_obj.cu:152: reg:linear is now deprecated in favor of reg:squarederror.\n",
            "[CV] END max_depth=6, min_samples_leaf=50, min_samples_split=150, n_estimators=50; total time=   0.1s\n",
            "[17:10:17] WARNING: /workspace/src/objective/regression_obj.cu:152: reg:linear is now deprecated in favor of reg:squarederror.\n",
            "[CV] END max_depth=6, min_samples_leaf=50, min_samples_split=150, n_estimators=50; total time=   0.1s\n",
            "[17:10:17] WARNING: /workspace/src/objective/regression_obj.cu:152: reg:linear is now deprecated in favor of reg:squarederror.\n",
            "[CV] END max_depth=6, min_samples_leaf=50, min_samples_split=150, n_estimators=50; total time=   0.1s\n",
            "[17:10:17] WARNING: /workspace/src/objective/regression_obj.cu:152: reg:linear is now deprecated in favor of reg:squarederror.\n",
            "[CV] END max_depth=6, min_samples_leaf=50, min_samples_split=150, n_estimators=50; total time=   0.1s\n",
            "[17:10:17] WARNING: /workspace/src/objective/regression_obj.cu:152: reg:linear is now deprecated in favor of reg:squarederror.\n",
            "[CV] END max_depth=6, min_samples_leaf=50, min_samples_split=150, n_estimators=50; total time=   0.1s\n",
            "[17:10:17] WARNING: /workspace/src/objective/regression_obj.cu:152: reg:linear is now deprecated in favor of reg:squarederror.\n",
            "[CV] END max_depth=8, min_samples_leaf=40, min_samples_split=100, n_estimators=100; total time=   0.3s\n",
            "[17:10:18] WARNING: /workspace/src/objective/regression_obj.cu:152: reg:linear is now deprecated in favor of reg:squarederror.\n",
            "[CV] END max_depth=8, min_samples_leaf=40, min_samples_split=100, n_estimators=100; total time=   0.3s\n",
            "[17:10:18] WARNING: /workspace/src/objective/regression_obj.cu:152: reg:linear is now deprecated in favor of reg:squarederror.\n",
            "[CV] END max_depth=8, min_samples_leaf=40, min_samples_split=100, n_estimators=100; total time=   0.3s\n",
            "[17:10:18] WARNING: /workspace/src/objective/regression_obj.cu:152: reg:linear is now deprecated in favor of reg:squarederror.\n",
            "[CV] END max_depth=8, min_samples_leaf=40, min_samples_split=100, n_estimators=100; total time=   0.3s\n",
            "[17:10:19] WARNING: /workspace/src/objective/regression_obj.cu:152: reg:linear is now deprecated in favor of reg:squarederror.\n",
            "[CV] END max_depth=8, min_samples_leaf=40, min_samples_split=100, n_estimators=100; total time=   0.3s\n",
            "[17:10:19] WARNING: /workspace/src/objective/regression_obj.cu:152: reg:linear is now deprecated in favor of reg:squarederror.\n",
            "[CV] END max_depth=8, min_samples_leaf=50, min_samples_split=100, n_estimators=100; total time=   0.3s\n",
            "[17:10:19] WARNING: /workspace/src/objective/regression_obj.cu:152: reg:linear is now deprecated in favor of reg:squarederror.\n",
            "[CV] END max_depth=8, min_samples_leaf=50, min_samples_split=100, n_estimators=100; total time=   0.3s\n",
            "[17:10:20] WARNING: /workspace/src/objective/regression_obj.cu:152: reg:linear is now deprecated in favor of reg:squarederror.\n",
            "[CV] END max_depth=8, min_samples_leaf=50, min_samples_split=100, n_estimators=100; total time=   0.3s\n",
            "[17:10:20] WARNING: /workspace/src/objective/regression_obj.cu:152: reg:linear is now deprecated in favor of reg:squarederror.\n",
            "[CV] END max_depth=8, min_samples_leaf=50, min_samples_split=100, n_estimators=100; total time=   0.3s\n",
            "[17:10:20] WARNING: /workspace/src/objective/regression_obj.cu:152: reg:linear is now deprecated in favor of reg:squarederror.\n",
            "[CV] END max_depth=8, min_samples_leaf=50, min_samples_split=100, n_estimators=100; total time=   0.3s\n",
            "[17:10:21] WARNING: /workspace/src/objective/regression_obj.cu:152: reg:linear is now deprecated in favor of reg:squarederror.\n",
            "[CV] END max_depth=8, min_samples_leaf=50, min_samples_split=150, n_estimators=80; total time=   0.3s\n",
            "[17:10:21] WARNING: /workspace/src/objective/regression_obj.cu:152: reg:linear is now deprecated in favor of reg:squarederror.\n",
            "[CV] END max_depth=8, min_samples_leaf=50, min_samples_split=150, n_estimators=80; total time=   0.3s\n",
            "[17:10:21] WARNING: /workspace/src/objective/regression_obj.cu:152: reg:linear is now deprecated in favor of reg:squarederror.\n",
            "[CV] END max_depth=8, min_samples_leaf=50, min_samples_split=150, n_estimators=80; total time=   0.3s\n",
            "[17:10:21] WARNING: /workspace/src/objective/regression_obj.cu:152: reg:linear is now deprecated in favor of reg:squarederror.\n",
            "[CV] END max_depth=8, min_samples_leaf=50, min_samples_split=150, n_estimators=80; total time=   0.3s\n",
            "[17:10:22] WARNING: /workspace/src/objective/regression_obj.cu:152: reg:linear is now deprecated in favor of reg:squarederror.\n",
            "[CV] END max_depth=8, min_samples_leaf=50, min_samples_split=150, n_estimators=80; total time=   0.3s\n",
            "[17:10:22] WARNING: /workspace/src/objective/regression_obj.cu:152: reg:linear is now deprecated in favor of reg:squarederror.\n",
            "[CV] END max_depth=6, min_samples_leaf=50, min_samples_split=100, n_estimators=80; total time=   0.2s\n",
            "[17:10:22] WARNING: /workspace/src/objective/regression_obj.cu:152: reg:linear is now deprecated in favor of reg:squarederror.\n",
            "[CV] END max_depth=6, min_samples_leaf=50, min_samples_split=100, n_estimators=80; total time=   0.2s\n",
            "[17:10:22] WARNING: /workspace/src/objective/regression_obj.cu:152: reg:linear is now deprecated in favor of reg:squarederror.\n",
            "[CV] END max_depth=6, min_samples_leaf=50, min_samples_split=100, n_estimators=80; total time=   0.2s\n",
            "[17:10:22] WARNING: /workspace/src/objective/regression_obj.cu:152: reg:linear is now deprecated in favor of reg:squarederror.\n",
            "[CV] END max_depth=6, min_samples_leaf=50, min_samples_split=100, n_estimators=80; total time=   0.2s\n",
            "[17:10:23] WARNING: /workspace/src/objective/regression_obj.cu:152: reg:linear is now deprecated in favor of reg:squarederror.\n",
            "[CV] END max_depth=6, min_samples_leaf=50, min_samples_split=100, n_estimators=80; total time=   0.2s\n",
            "[17:10:23] WARNING: /workspace/src/objective/regression_obj.cu:152: reg:linear is now deprecated in favor of reg:squarederror.\n"
          ]
        },
        {
          "output_type": "execute_result",
          "data": {
            "text/plain": [
              "RandomizedSearchCV(cv=5, estimator=XGBRegressor(),\n",
              "                   param_distributions={'max_depth': [4, 6, 8],\n",
              "                                        'min_samples_leaf': [40, 50],\n",
              "                                        'min_samples_split': [50, 100, 150],\n",
              "                                        'n_estimators': [50, 80, 100]},\n",
              "                   verbose=2)"
            ]
          },
          "metadata": {},
          "execution_count": 103
        }
      ]
    },
    {
      "cell_type": "code",
      "source": [
        "xgb_optimal_model = xgb_random.best_estimator_"
      ],
      "metadata": {
        "id": "PHWb-MS5w9A3"
      },
      "execution_count": null,
      "outputs": []
    },
    {
      "cell_type": "code",
      "source": [
        "y_hat = xgb_optimal_model.predict(X_test)\n",
        "print(f'r_sqr value for train: {xgb_optimal_model.score(X_train, y_train)}')\n",
        "r_squared= r2_score(y_test,y_hat)\n",
        "#Calculate Adjusted R-sqaured\n",
        "adjusted_r_squared = 1 - (1-r_squared)*(len(y)-1)/(len(y)-X.shape[1]-1)\n",
        "print(f'For test set the R_Squared for XGBoost is {r_squared} and adjusted R_Squared is {adjusted_r_squared}')"
      ],
      "metadata": {
        "colab": {
          "base_uri": "https://localhost:8080/"
        },
        "id": "LOPdN_GFyOdJ",
        "outputId": "950bd9b9-35fd-48f1-8cad-349379e7ed27"
      },
      "execution_count": null,
      "outputs": [
        {
          "output_type": "stream",
          "name": "stdout",
          "text": [
            "r_sqr value for train: 0.9796660746192981\n",
            "For test set the R_Squared for XGBoost is 0.7968895394794676 and adjusted R_Squared is 0.796482911930878\n"
          ]
        }
      ]
    },
    {
      "cell_type": "code",
      "source": [
        "y_pred = xgb_optimal_model.predict(X_train)\n",
        "y_test_pred = xgb_optimal_model.predict(X_test)\n",
        "print('Training MAE: {:0.2f}'.format(metrics.mean_absolute_error(y_train, y_pred)))\n",
        "print('Test MAE: {:0.2f}'.format(metrics.mean_absolute_error(y_test, y_test_pred)))"
      ],
      "metadata": {
        "colab": {
          "base_uri": "https://localhost:8080/"
        },
        "id": "z1qUDBJ9yV7E",
        "outputId": "b3c91b0f-3fea-4508-af0f-f6623b34c72e"
      },
      "execution_count": null,
      "outputs": [
        {
          "output_type": "stream",
          "name": "stdout",
          "text": [
            "Training MAE: 0.06\n",
            "Test MAE: 0.10\n"
          ]
        }
      ]
    },
    {
      "cell_type": "markdown",
      "source": [
        "Let's plot all the scores of xgb_optimal_model together."
      ],
      "metadata": {
        "id": "txEdte0dygyY"
      }
    },
    {
      "cell_type": "code",
      "source": [
        "model = [\n",
        "           ['XGBRegressor: ', xgb.XGBRegressor(base_score=0.5, booster='gbtree',colsample_bytree=1, gamma=0,importance_type='gain', learning_rate=0.1,max_depth=4, min_samples_leaf=40,\n",
        "             min_samples_split=150, n_estimators=80)]         \n",
        "         ]\n",
        "#Let's run the the model\n",
        "model_data = []\n",
        "for name,curr_model in model :\n",
        "    curr_model_data = {}\n",
        "    curr_model.random_state = 42\n",
        "    curr_model_data[\"Model_Name\"] = name\n",
        "    curr_model.fit(X_train,y_train)\n",
        "    curr_model_data[\"MAE_train\"] =metrics.mean_absolute_error(y_train, curr_model.predict(X_train))\n",
        "    curr_model_data[\"MAE_test\"] =metrics.mean_absolute_error(y_test, curr_model.predict(X_test))\n",
        "    curr_model_data[\"R2_Score_train\"] = r2_score(y_train,curr_model.predict(X_train))\n",
        "    curr_model_data[\"R2_Score_test\"] = r2_score(y_test,curr_model.predict(X_test))\n",
        "    curr_model_data[\"RMSE_Score_train\"] = np.sqrt(mean_squared_error(y_train,curr_model.predict(X_train)))\n",
        "    curr_model_data[\"RMSE_Score_test\"] = np.sqrt(mean_squared_error(y_test,curr_model.predict(X_test)))\n",
        "    model_data.append(curr_model_data)\n",
        "\n",
        "results_df_xgb = pd.DataFrame(model_data)\n",
        "#printing the results_df_xgb\n",
        "results_df_xgb"
      ],
      "metadata": {
        "colab": {
          "base_uri": "https://localhost:8080/",
          "height": 99
        },
        "id": "gIT0AL95ybbl",
        "outputId": "899b0e98-f690-4929-a2b4-e5b6d0e6773d"
      },
      "execution_count": null,
      "outputs": [
        {
          "output_type": "stream",
          "name": "stdout",
          "text": [
            "[17:10:23] WARNING: /workspace/src/objective/regression_obj.cu:152: reg:linear is now deprecated in favor of reg:squarederror.\n"
          ]
        },
        {
          "output_type": "execute_result",
          "data": {
            "text/plain": [
              "       Model_Name  MAE_train  MAE_test  R2_Score_train  R2_Score_test  \\\n",
              "0  XGBRegressor:     0.07317  0.110402        0.970118       0.788203   \n",
              "\n",
              "   RMSE_Score_train  RMSE_Score_test  \n",
              "0          0.176424          0.43673  "
            ],
            "text/html": [
              "\n",
              "  <div id=\"df-ed59bf4d-1273-4487-87f9-307d602486de\">\n",
              "    <div class=\"colab-df-container\">\n",
              "      <div>\n",
              "<style scoped>\n",
              "    .dataframe tbody tr th:only-of-type {\n",
              "        vertical-align: middle;\n",
              "    }\n",
              "\n",
              "    .dataframe tbody tr th {\n",
              "        vertical-align: top;\n",
              "    }\n",
              "\n",
              "    .dataframe thead th {\n",
              "        text-align: right;\n",
              "    }\n",
              "</style>\n",
              "<table border=\"1\" class=\"dataframe\">\n",
              "  <thead>\n",
              "    <tr style=\"text-align: right;\">\n",
              "      <th></th>\n",
              "      <th>Model_Name</th>\n",
              "      <th>MAE_train</th>\n",
              "      <th>MAE_test</th>\n",
              "      <th>R2_Score_train</th>\n",
              "      <th>R2_Score_test</th>\n",
              "      <th>RMSE_Score_train</th>\n",
              "      <th>RMSE_Score_test</th>\n",
              "    </tr>\n",
              "  </thead>\n",
              "  <tbody>\n",
              "    <tr>\n",
              "      <th>0</th>\n",
              "      <td>XGBRegressor:</td>\n",
              "      <td>0.07317</td>\n",
              "      <td>0.110402</td>\n",
              "      <td>0.970118</td>\n",
              "      <td>0.788203</td>\n",
              "      <td>0.176424</td>\n",
              "      <td>0.43673</td>\n",
              "    </tr>\n",
              "  </tbody>\n",
              "</table>\n",
              "</div>\n",
              "      <button class=\"colab-df-convert\" onclick=\"convertToInteractive('df-ed59bf4d-1273-4487-87f9-307d602486de')\"\n",
              "              title=\"Convert this dataframe to an interactive table.\"\n",
              "              style=\"display:none;\">\n",
              "        \n",
              "  <svg xmlns=\"http://www.w3.org/2000/svg\" height=\"24px\"viewBox=\"0 0 24 24\"\n",
              "       width=\"24px\">\n",
              "    <path d=\"M0 0h24v24H0V0z\" fill=\"none\"/>\n",
              "    <path d=\"M18.56 5.44l.94 2.06.94-2.06 2.06-.94-2.06-.94-.94-2.06-.94 2.06-2.06.94zm-11 1L8.5 8.5l.94-2.06 2.06-.94-2.06-.94L8.5 2.5l-.94 2.06-2.06.94zm10 10l.94 2.06.94-2.06 2.06-.94-2.06-.94-.94-2.06-.94 2.06-2.06.94z\"/><path d=\"M17.41 7.96l-1.37-1.37c-.4-.4-.92-.59-1.43-.59-.52 0-1.04.2-1.43.59L10.3 9.45l-7.72 7.72c-.78.78-.78 2.05 0 2.83L4 21.41c.39.39.9.59 1.41.59.51 0 1.02-.2 1.41-.59l7.78-7.78 2.81-2.81c.8-.78.8-2.07 0-2.86zM5.41 20L4 18.59l7.72-7.72 1.47 1.35L5.41 20z\"/>\n",
              "  </svg>\n",
              "      </button>\n",
              "      \n",
              "  <style>\n",
              "    .colab-df-container {\n",
              "      display:flex;\n",
              "      flex-wrap:wrap;\n",
              "      gap: 12px;\n",
              "    }\n",
              "\n",
              "    .colab-df-convert {\n",
              "      background-color: #E8F0FE;\n",
              "      border: none;\n",
              "      border-radius: 50%;\n",
              "      cursor: pointer;\n",
              "      display: none;\n",
              "      fill: #1967D2;\n",
              "      height: 32px;\n",
              "      padding: 0 0 0 0;\n",
              "      width: 32px;\n",
              "    }\n",
              "\n",
              "    .colab-df-convert:hover {\n",
              "      background-color: #E2EBFA;\n",
              "      box-shadow: 0px 1px 2px rgba(60, 64, 67, 0.3), 0px 1px 3px 1px rgba(60, 64, 67, 0.15);\n",
              "      fill: #174EA6;\n",
              "    }\n",
              "\n",
              "    [theme=dark] .colab-df-convert {\n",
              "      background-color: #3B4455;\n",
              "      fill: #D2E3FC;\n",
              "    }\n",
              "\n",
              "    [theme=dark] .colab-df-convert:hover {\n",
              "      background-color: #434B5C;\n",
              "      box-shadow: 0px 1px 3px 1px rgba(0, 0, 0, 0.15);\n",
              "      filter: drop-shadow(0px 1px 2px rgba(0, 0, 0, 0.3));\n",
              "      fill: #FFFFFF;\n",
              "    }\n",
              "  </style>\n",
              "\n",
              "      <script>\n",
              "        const buttonEl =\n",
              "          document.querySelector('#df-ed59bf4d-1273-4487-87f9-307d602486de button.colab-df-convert');\n",
              "        buttonEl.style.display =\n",
              "          google.colab.kernel.accessAllowed ? 'block' : 'none';\n",
              "\n",
              "        async function convertToInteractive(key) {\n",
              "          const element = document.querySelector('#df-ed59bf4d-1273-4487-87f9-307d602486de');\n",
              "          const dataTable =\n",
              "            await google.colab.kernel.invokeFunction('convertToInteractive',\n",
              "                                                     [key], {});\n",
              "          if (!dataTable) return;\n",
              "\n",
              "          const docLinkHtml = 'Like what you see? Visit the ' +\n",
              "            '<a target=\"_blank\" href=https://colab.research.google.com/notebooks/data_table.ipynb>data table notebook</a>'\n",
              "            + ' to learn more about interactive tables.';\n",
              "          element.innerHTML = '';\n",
              "          dataTable['output_type'] = 'display_data';\n",
              "          await google.colab.output.renderOutput(dataTable, element);\n",
              "          const docLink = document.createElement('div');\n",
              "          docLink.innerHTML = docLinkHtml;\n",
              "          element.appendChild(docLink);\n",
              "        }\n",
              "      </script>\n",
              "    </div>\n",
              "  </div>\n",
              "  "
            ]
          },
          "metadata": {},
          "execution_count": 107
        }
      ]
    },
    {
      "cell_type": "markdown",
      "source": [
        "**Let's plot the feature importance score w.r.t. XGBregressor model**"
      ],
      "metadata": {
        "id": "_TUdPYMEytFG"
      }
    },
    {
      "cell_type": "code",
      "source": [
        "importances=xgb_optimal_model.feature_importances_\n",
        "Features=list(X_train.columns)\n",
        "importances = pd.DataFrame({'Features': list(X_train.columns), 'Importances': importances})\n",
        "importances_df=pd.DataFrame(importance_dict)    \n",
        "\n",
        "fig = plt.figure(figsize=(14, 4))\n",
        "sns.barplot(Features, importances)\n",
        "plt.xticks(rotation='vertical')\n",
        "plt.title('Feature importance score w.r.t. XGBregressor model')\n",
        "plt.show()"
      ],
      "metadata": {
        "colab": {
          "base_uri": "https://localhost:8080/",
          "height": 415
        },
        "id": "WnjOCR7BynMO",
        "outputId": "766d1865-a061-4ba2-bc9a-ce7437192d7a"
      },
      "execution_count": null,
      "outputs": [
        {
          "output_type": "error",
          "ename": "ValueError",
          "evalue": "ignored",
          "traceback": [
            "\u001b[0;31m---------------------------------------------------------------------------\u001b[0m",
            "\u001b[0;31mValueError\u001b[0m                                Traceback (most recent call last)",
            "\u001b[0;32m<ipython-input-123-8f20e3620ce3>\u001b[0m in \u001b[0;36m<module>\u001b[0;34m()\u001b[0m\n\u001b[1;32m      5\u001b[0m \u001b[0;34m\u001b[0m\u001b[0m\n\u001b[1;32m      6\u001b[0m \u001b[0mfig\u001b[0m \u001b[0;34m=\u001b[0m \u001b[0mplt\u001b[0m\u001b[0;34m.\u001b[0m\u001b[0mfigure\u001b[0m\u001b[0;34m(\u001b[0m\u001b[0mfigsize\u001b[0m\u001b[0;34m=\u001b[0m\u001b[0;34m(\u001b[0m\u001b[0;36m14\u001b[0m\u001b[0;34m,\u001b[0m \u001b[0;36m4\u001b[0m\u001b[0;34m)\u001b[0m\u001b[0;34m)\u001b[0m\u001b[0;34m\u001b[0m\u001b[0;34m\u001b[0m\u001b[0m\n\u001b[0;32m----> 7\u001b[0;31m \u001b[0msns\u001b[0m\u001b[0;34m.\u001b[0m\u001b[0mbarplot\u001b[0m\u001b[0;34m(\u001b[0m\u001b[0mFeatures\u001b[0m\u001b[0;34m,\u001b[0m \u001b[0mimportances\u001b[0m\u001b[0;34m)\u001b[0m\u001b[0;34m\u001b[0m\u001b[0;34m\u001b[0m\u001b[0m\n\u001b[0m\u001b[1;32m      8\u001b[0m \u001b[0mplt\u001b[0m\u001b[0;34m.\u001b[0m\u001b[0mxticks\u001b[0m\u001b[0;34m(\u001b[0m\u001b[0mrotation\u001b[0m\u001b[0;34m=\u001b[0m\u001b[0;34m'vertical'\u001b[0m\u001b[0;34m)\u001b[0m\u001b[0;34m\u001b[0m\u001b[0;34m\u001b[0m\u001b[0m\n\u001b[1;32m      9\u001b[0m \u001b[0mplt\u001b[0m\u001b[0;34m.\u001b[0m\u001b[0mtitle\u001b[0m\u001b[0;34m(\u001b[0m\u001b[0;34m'Feature importance score w.r.t. XGBregressor model'\u001b[0m\u001b[0;34m)\u001b[0m\u001b[0;34m\u001b[0m\u001b[0;34m\u001b[0m\u001b[0m\n",
            "\u001b[0;32m/usr/local/lib/python3.7/dist-packages/seaborn/_decorators.py\u001b[0m in \u001b[0;36minner_f\u001b[0;34m(*args, **kwargs)\u001b[0m\n\u001b[1;32m     44\u001b[0m             )\n\u001b[1;32m     45\u001b[0m         \u001b[0mkwargs\u001b[0m\u001b[0;34m.\u001b[0m\u001b[0mupdate\u001b[0m\u001b[0;34m(\u001b[0m\u001b[0;34m{\u001b[0m\u001b[0mk\u001b[0m\u001b[0;34m:\u001b[0m \u001b[0marg\u001b[0m \u001b[0;32mfor\u001b[0m \u001b[0mk\u001b[0m\u001b[0;34m,\u001b[0m \u001b[0marg\u001b[0m \u001b[0;32min\u001b[0m \u001b[0mzip\u001b[0m\u001b[0;34m(\u001b[0m\u001b[0msig\u001b[0m\u001b[0;34m.\u001b[0m\u001b[0mparameters\u001b[0m\u001b[0;34m,\u001b[0m \u001b[0margs\u001b[0m\u001b[0;34m)\u001b[0m\u001b[0;34m}\u001b[0m\u001b[0;34m)\u001b[0m\u001b[0;34m\u001b[0m\u001b[0;34m\u001b[0m\u001b[0m\n\u001b[0;32m---> 46\u001b[0;31m         \u001b[0;32mreturn\u001b[0m \u001b[0mf\u001b[0m\u001b[0;34m(\u001b[0m\u001b[0;34m**\u001b[0m\u001b[0mkwargs\u001b[0m\u001b[0;34m)\u001b[0m\u001b[0;34m\u001b[0m\u001b[0;34m\u001b[0m\u001b[0m\n\u001b[0m\u001b[1;32m     47\u001b[0m     \u001b[0;32mreturn\u001b[0m \u001b[0minner_f\u001b[0m\u001b[0;34m\u001b[0m\u001b[0;34m\u001b[0m\u001b[0m\n\u001b[1;32m     48\u001b[0m \u001b[0;34m\u001b[0m\u001b[0m\n",
            "\u001b[0;32m/usr/local/lib/python3.7/dist-packages/seaborn/categorical.py\u001b[0m in \u001b[0;36mbarplot\u001b[0;34m(x, y, hue, data, order, hue_order, estimator, ci, n_boot, units, seed, orient, color, palette, saturation, errcolor, errwidth, capsize, dodge, ax, **kwargs)\u001b[0m\n\u001b[1;32m   3183\u001b[0m                           \u001b[0mestimator\u001b[0m\u001b[0;34m,\u001b[0m \u001b[0mci\u001b[0m\u001b[0;34m,\u001b[0m \u001b[0mn_boot\u001b[0m\u001b[0;34m,\u001b[0m \u001b[0munits\u001b[0m\u001b[0;34m,\u001b[0m \u001b[0mseed\u001b[0m\u001b[0;34m,\u001b[0m\u001b[0;34m\u001b[0m\u001b[0;34m\u001b[0m\u001b[0m\n\u001b[1;32m   3184\u001b[0m                           \u001b[0morient\u001b[0m\u001b[0;34m,\u001b[0m \u001b[0mcolor\u001b[0m\u001b[0;34m,\u001b[0m \u001b[0mpalette\u001b[0m\u001b[0;34m,\u001b[0m \u001b[0msaturation\u001b[0m\u001b[0;34m,\u001b[0m\u001b[0;34m\u001b[0m\u001b[0;34m\u001b[0m\u001b[0m\n\u001b[0;32m-> 3185\u001b[0;31m                           errcolor, errwidth, capsize, dodge)\n\u001b[0m\u001b[1;32m   3186\u001b[0m \u001b[0;34m\u001b[0m\u001b[0m\n\u001b[1;32m   3187\u001b[0m     \u001b[0;32mif\u001b[0m \u001b[0max\u001b[0m \u001b[0;32mis\u001b[0m \u001b[0;32mNone\u001b[0m\u001b[0;34m:\u001b[0m\u001b[0;34m\u001b[0m\u001b[0;34m\u001b[0m\u001b[0m\n",
            "\u001b[0;32m/usr/local/lib/python3.7/dist-packages/seaborn/categorical.py\u001b[0m in \u001b[0;36m__init__\u001b[0;34m(self, x, y, hue, data, order, hue_order, estimator, ci, n_boot, units, seed, orient, color, palette, saturation, errcolor, errwidth, capsize, dodge)\u001b[0m\n\u001b[1;32m   1583\u001b[0m         \u001b[0;34m\"\"\"Initialize the plotter.\"\"\"\u001b[0m\u001b[0;34m\u001b[0m\u001b[0;34m\u001b[0m\u001b[0m\n\u001b[1;32m   1584\u001b[0m         self.establish_variables(x, y, hue, data, orient,\n\u001b[0;32m-> 1585\u001b[0;31m                                  order, hue_order, units)\n\u001b[0m\u001b[1;32m   1586\u001b[0m         \u001b[0mself\u001b[0m\u001b[0;34m.\u001b[0m\u001b[0mestablish_colors\u001b[0m\u001b[0;34m(\u001b[0m\u001b[0mcolor\u001b[0m\u001b[0;34m,\u001b[0m \u001b[0mpalette\u001b[0m\u001b[0;34m,\u001b[0m \u001b[0msaturation\u001b[0m\u001b[0;34m)\u001b[0m\u001b[0;34m\u001b[0m\u001b[0;34m\u001b[0m\u001b[0m\n\u001b[1;32m   1587\u001b[0m         \u001b[0mself\u001b[0m\u001b[0;34m.\u001b[0m\u001b[0mestimate_statistic\u001b[0m\u001b[0;34m(\u001b[0m\u001b[0mestimator\u001b[0m\u001b[0;34m,\u001b[0m \u001b[0mci\u001b[0m\u001b[0;34m,\u001b[0m \u001b[0mn_boot\u001b[0m\u001b[0;34m,\u001b[0m \u001b[0mseed\u001b[0m\u001b[0;34m)\u001b[0m\u001b[0;34m\u001b[0m\u001b[0;34m\u001b[0m\u001b[0m\n",
            "\u001b[0;32m/usr/local/lib/python3.7/dist-packages/seaborn/categorical.py\u001b[0m in \u001b[0;36mestablish_variables\u001b[0;34m(self, x, y, hue, data, orient, order, hue_order, units)\u001b[0m\n\u001b[1;32m    155\u001b[0m             \u001b[0;31m# Figure out the plotting orientation\u001b[0m\u001b[0;34m\u001b[0m\u001b[0;34m\u001b[0m\u001b[0;34m\u001b[0m\u001b[0m\n\u001b[1;32m    156\u001b[0m             orient = infer_orient(\n\u001b[0;32m--> 157\u001b[0;31m                 \u001b[0mx\u001b[0m\u001b[0;34m,\u001b[0m \u001b[0my\u001b[0m\u001b[0;34m,\u001b[0m \u001b[0morient\u001b[0m\u001b[0;34m,\u001b[0m \u001b[0mrequire_numeric\u001b[0m\u001b[0;34m=\u001b[0m\u001b[0mself\u001b[0m\u001b[0;34m.\u001b[0m\u001b[0mrequire_numeric\u001b[0m\u001b[0;34m\u001b[0m\u001b[0;34m\u001b[0m\u001b[0m\n\u001b[0m\u001b[1;32m    158\u001b[0m             )\n\u001b[1;32m    159\u001b[0m \u001b[0;34m\u001b[0m\u001b[0m\n",
            "\u001b[0;32m/usr/local/lib/python3.7/dist-packages/seaborn/_core.py\u001b[0m in \u001b[0;36minfer_orient\u001b[0;34m(x, y, orient, require_numeric)\u001b[0m\n\u001b[1;32m   1310\u001b[0m \u001b[0;34m\u001b[0m\u001b[0m\n\u001b[1;32m   1311\u001b[0m     \u001b[0mx_type\u001b[0m \u001b[0;34m=\u001b[0m \u001b[0;32mNone\u001b[0m \u001b[0;32mif\u001b[0m \u001b[0mx\u001b[0m \u001b[0;32mis\u001b[0m \u001b[0;32mNone\u001b[0m \u001b[0;32melse\u001b[0m \u001b[0mvariable_type\u001b[0m\u001b[0;34m(\u001b[0m\u001b[0mx\u001b[0m\u001b[0;34m)\u001b[0m\u001b[0;34m\u001b[0m\u001b[0;34m\u001b[0m\u001b[0m\n\u001b[0;32m-> 1312\u001b[0;31m     \u001b[0my_type\u001b[0m \u001b[0;34m=\u001b[0m \u001b[0;32mNone\u001b[0m \u001b[0;32mif\u001b[0m \u001b[0my\u001b[0m \u001b[0;32mis\u001b[0m \u001b[0;32mNone\u001b[0m \u001b[0;32melse\u001b[0m \u001b[0mvariable_type\u001b[0m\u001b[0;34m(\u001b[0m\u001b[0my\u001b[0m\u001b[0;34m)\u001b[0m\u001b[0;34m\u001b[0m\u001b[0;34m\u001b[0m\u001b[0m\n\u001b[0m\u001b[1;32m   1313\u001b[0m \u001b[0;34m\u001b[0m\u001b[0m\n\u001b[1;32m   1314\u001b[0m     \u001b[0mnonnumeric_dv_error\u001b[0m \u001b[0;34m=\u001b[0m \u001b[0;34m\"{} orientation requires numeric `{}` variable.\"\u001b[0m\u001b[0;34m\u001b[0m\u001b[0;34m\u001b[0m\u001b[0m\n",
            "\u001b[0;32m/usr/local/lib/python3.7/dist-packages/seaborn/_core.py\u001b[0m in \u001b[0;36mvariable_type\u001b[0;34m(vector, boolean_type)\u001b[0m\n\u001b[1;32m   1227\u001b[0m \u001b[0;34m\u001b[0m\u001b[0m\n\u001b[1;32m   1228\u001b[0m     \u001b[0;31m# Special-case all-na data, which is always \"numeric\"\u001b[0m\u001b[0;34m\u001b[0m\u001b[0;34m\u001b[0m\u001b[0;34m\u001b[0m\u001b[0m\n\u001b[0;32m-> 1229\u001b[0;31m     \u001b[0;32mif\u001b[0m \u001b[0mpd\u001b[0m\u001b[0;34m.\u001b[0m\u001b[0misna\u001b[0m\u001b[0;34m(\u001b[0m\u001b[0mvector\u001b[0m\u001b[0;34m)\u001b[0m\u001b[0;34m.\u001b[0m\u001b[0mall\u001b[0m\u001b[0;34m(\u001b[0m\u001b[0;34m)\u001b[0m\u001b[0;34m:\u001b[0m\u001b[0;34m\u001b[0m\u001b[0;34m\u001b[0m\u001b[0m\n\u001b[0m\u001b[1;32m   1230\u001b[0m         \u001b[0;32mreturn\u001b[0m \u001b[0;34m\"numeric\"\u001b[0m\u001b[0;34m\u001b[0m\u001b[0;34m\u001b[0m\u001b[0m\n\u001b[1;32m   1231\u001b[0m \u001b[0;34m\u001b[0m\u001b[0m\n",
            "\u001b[0;32m/usr/local/lib/python3.7/dist-packages/pandas/core/generic.py\u001b[0m in \u001b[0;36m__nonzero__\u001b[0;34m(self)\u001b[0m\n\u001b[1;32m   1536\u001b[0m     \u001b[0;32mdef\u001b[0m \u001b[0m__nonzero__\u001b[0m\u001b[0;34m(\u001b[0m\u001b[0mself\u001b[0m\u001b[0;34m)\u001b[0m\u001b[0;34m:\u001b[0m\u001b[0;34m\u001b[0m\u001b[0;34m\u001b[0m\u001b[0m\n\u001b[1;32m   1537\u001b[0m         raise ValueError(\n\u001b[0;32m-> 1538\u001b[0;31m             \u001b[0;34mf\"The truth value of a {type(self).__name__} is ambiguous. \"\u001b[0m\u001b[0;34m\u001b[0m\u001b[0;34m\u001b[0m\u001b[0m\n\u001b[0m\u001b[1;32m   1539\u001b[0m             \u001b[0;34m\"Use a.empty, a.bool(), a.item(), a.any() or a.all().\"\u001b[0m\u001b[0;34m\u001b[0m\u001b[0;34m\u001b[0m\u001b[0m\n\u001b[1;32m   1540\u001b[0m         )\n",
            "\u001b[0;31mValueError\u001b[0m: The truth value of a Series is ambiguous. Use a.empty, a.bool(), a.item(), a.any() or a.all()."
          ]
        },
        {
          "output_type": "display_data",
          "data": {
            "text/plain": [
              "<Figure size 1008x288 with 0 Axes>"
            ]
          },
          "metadata": {}
        }
      ]
    },
    {
      "cell_type": "markdown",
      "source": [
        "EXTRA TREE REGRESSOR"
      ],
      "metadata": {
        "id": "fEpM70Dz2SLI"
      }
    },
    {
      "cell_type": "code",
      "source": [
        "et = ExtraTreesRegressor(criterion='mae', max_depth=30, n_estimators=200, min_samples_leaf=2, min_samples_split=6)\n",
        "et.fit(X_train, y_train)\n",
        "y_pred = et.predict(X_train)\n",
        "y_test_pred = et.predict(X_test)\n",
        "print('Training MAE: {:0.2f}'.format(metrics.mean_absolute_error(y_train, y_pred)))\n",
        "print('Test MAE: {:0.2f}'.format(metrics.mean_absolute_error(y_test, y_test_pred)))"
      ],
      "metadata": {
        "colab": {
          "base_uri": "https://localhost:8080/"
        },
        "id": "SdNymQEyzsp0",
        "outputId": "6edb12bf-a3ab-437e-8839-88fb998bea1d"
      },
      "execution_count": null,
      "outputs": [
        {
          "output_type": "stream",
          "name": "stdout",
          "text": [
            "Training MAE: 0.06\n",
            "Test MAE: 0.09\n"
          ]
        }
      ]
    },
    {
      "cell_type": "markdown",
      "source": [
        "Hyperparameter Tuning using Randomized Search CV"
      ],
      "metadata": {
        "id": "Xz0myxZe2r-Y"
      }
    },
    {
      "cell_type": "code",
      "source": [
        "n_estimators = [50,80,100]\n",
        "# Maximum depth of trees\n",
        "max_depth = [4,6,8]\n",
        "# Minimum number of samples required to split a node\n",
        "min_samples_split = [50,100,150]\n",
        "# Minimum number of samples required at each leaf node\n",
        "min_samples_leaf = [40,50]\n",
        "# HYperparameter Dict\n",
        "param_dict = {'n_estimators' : n_estimators,\n",
        "              'max_depth' : max_depth,\n",
        "              'min_samples_split' : min_samples_split,\n",
        "              'min_samples_leaf' : min_samples_leaf}"
      ],
      "metadata": {
        "id": "9nWcuTmz2XW9"
      },
      "execution_count": null,
      "outputs": []
    },
    {
      "cell_type": "code",
      "source": [
        "et_model = ExtraTreesRegressor(criterion='mae')\n",
        "\n",
        "#RandomSearch\n",
        "et_random = RandomizedSearchCV(et_model,param_dict,verbose=2,cv=5)\n",
        "et_random.fit(X_train,y_train)"
      ],
      "metadata": {
        "colab": {
          "base_uri": "https://localhost:8080/"
        },
        "id": "YrKSFSfX2wMv",
        "outputId": "62bd8a4a-febc-4b03-9edf-a7df247bba82"
      },
      "execution_count": null,
      "outputs": [
        {
          "metadata": {
            "tags": null
          },
          "name": "stdout",
          "output_type": "stream",
          "text": [
            "Fitting 5 folds for each of 10 candidates, totalling 50 fits\n",
            "[CV] END max_depth=8, min_samples_leaf=40, min_samples_split=50, n_estimators=80; total time=   3.9s\n",
            "[CV] END max_depth=8, min_samples_leaf=40, min_samples_split=50, n_estimators=80; total time=   5.4s\n",
            "[CV] END max_depth=8, min_samples_leaf=40, min_samples_split=50, n_estimators=80; total time=   7.2s\n",
            "[CV] END max_depth=8, min_samples_leaf=40, min_samples_split=50, n_estimators=80; total time=   8.2s\n",
            "[CV] END max_depth=8, min_samples_leaf=40, min_samples_split=50, n_estimators=80; total time=   6.8s\n",
            "[CV] END max_depth=8, min_samples_leaf=40, min_samples_split=100, n_estimators=50; total time=   3.5s\n",
            "[CV] END max_depth=8, min_samples_leaf=40, min_samples_split=100, n_estimators=50; total time=   3.6s\n",
            "[CV] END max_depth=8, min_samples_leaf=40, min_samples_split=100, n_estimators=50; total time=   3.6s\n",
            "[CV] END max_depth=8, min_samples_leaf=40, min_samples_split=100, n_estimators=50; total time=   2.4s\n",
            "[CV] END max_depth=8, min_samples_leaf=40, min_samples_split=100, n_estimators=50; total time=   2.2s\n",
            "[CV] END max_depth=4, min_samples_leaf=50, min_samples_split=50, n_estimators=100; total time=   3.6s\n",
            "[CV] END max_depth=4, min_samples_leaf=50, min_samples_split=50, n_estimators=100; total time=   3.6s\n",
            "[CV] END max_depth=4, min_samples_leaf=50, min_samples_split=50, n_estimators=100; total time=   3.7s\n",
            "[CV] END max_depth=4, min_samples_leaf=50, min_samples_split=50, n_estimators=100; total time=   3.6s\n",
            "[CV] END max_depth=4, min_samples_leaf=50, min_samples_split=50, n_estimators=100; total time=   3.8s\n",
            "[CV] END max_depth=6, min_samples_leaf=50, min_samples_split=100, n_estimators=50; total time=   2.0s\n",
            "[CV] END max_depth=6, min_samples_leaf=50, min_samples_split=100, n_estimators=50; total time=   2.1s\n",
            "[CV] END max_depth=6, min_samples_leaf=50, min_samples_split=100, n_estimators=50; total time=   2.0s\n",
            "[CV] END max_depth=6, min_samples_leaf=50, min_samples_split=100, n_estimators=50; total time=   2.0s\n",
            "[CV] END max_depth=6, min_samples_leaf=50, min_samples_split=100, n_estimators=50; total time=   2.0s\n",
            "[CV] END max_depth=8, min_samples_leaf=40, min_samples_split=150, n_estimators=100; total time=   4.5s\n",
            "[CV] END max_depth=8, min_samples_leaf=40, min_samples_split=150, n_estimators=100; total time=   4.5s\n",
            "[CV] END max_depth=8, min_samples_leaf=40, min_samples_split=150, n_estimators=100; total time=   4.7s\n",
            "[CV] END max_depth=8, min_samples_leaf=40, min_samples_split=150, n_estimators=100; total time=   4.5s\n",
            "[CV] END max_depth=8, min_samples_leaf=40, min_samples_split=150, n_estimators=100; total time=   4.5s\n",
            "[CV] END max_depth=8, min_samples_leaf=40, min_samples_split=50, n_estimators=50; total time=   2.2s\n",
            "[CV] END max_depth=8, min_samples_leaf=40, min_samples_split=50, n_estimators=50; total time=   2.3s\n",
            "[CV] END max_depth=8, min_samples_leaf=40, min_samples_split=50, n_estimators=50; total time=   2.2s\n",
            "[CV] END max_depth=8, min_samples_leaf=40, min_samples_split=50, n_estimators=50; total time=   2.2s\n",
            "[CV] END max_depth=8, min_samples_leaf=40, min_samples_split=50, n_estimators=50; total time=   2.3s\n",
            "[CV] END max_depth=8, min_samples_leaf=50, min_samples_split=50, n_estimators=50; total time=   2.2s\n",
            "[CV] END max_depth=8, min_samples_leaf=50, min_samples_split=50, n_estimators=50; total time=   2.2s\n",
            "[CV] END max_depth=8, min_samples_leaf=50, min_samples_split=50, n_estimators=50; total time=   2.1s\n",
            "[CV] END max_depth=8, min_samples_leaf=50, min_samples_split=50, n_estimators=50; total time=   2.1s\n",
            "[CV] END max_depth=8, min_samples_leaf=50, min_samples_split=50, n_estimators=50; total time=   2.1s\n",
            "[CV] END max_depth=4, min_samples_leaf=50, min_samples_split=150, n_estimators=80; total time=   2.9s\n",
            "[CV] END max_depth=4, min_samples_leaf=50, min_samples_split=150, n_estimators=80; total time=   2.8s\n",
            "[CV] END max_depth=4, min_samples_leaf=50, min_samples_split=150, n_estimators=80; total time=   2.9s\n",
            "[CV] END max_depth=4, min_samples_leaf=50, min_samples_split=150, n_estimators=80; total time=   2.8s\n",
            "[CV] END max_depth=4, min_samples_leaf=50, min_samples_split=150, n_estimators=80; total time=   2.9s\n",
            "[CV] END max_depth=6, min_samples_leaf=50, min_samples_split=100, n_estimators=80; total time=   3.2s\n",
            "[CV] END max_depth=6, min_samples_leaf=50, min_samples_split=100, n_estimators=80; total time=   3.3s\n",
            "[CV] END max_depth=6, min_samples_leaf=50, min_samples_split=100, n_estimators=80; total time=   3.5s\n",
            "[CV] END max_depth=6, min_samples_leaf=50, min_samples_split=100, n_estimators=80; total time=   3.3s\n",
            "[CV] END max_depth=6, min_samples_leaf=50, min_samples_split=100, n_estimators=80; total time=   3.3s\n",
            "[CV] END max_depth=4, min_samples_leaf=50, min_samples_split=50, n_estimators=80; total time=   2.9s\n",
            "[CV] END max_depth=4, min_samples_leaf=50, min_samples_split=50, n_estimators=80; total time=   3.0s\n",
            "[CV] END max_depth=4, min_samples_leaf=50, min_samples_split=50, n_estimators=80; total time=   2.9s\n",
            "[CV] END max_depth=4, min_samples_leaf=50, min_samples_split=50, n_estimators=80; total time=   2.9s\n",
            "[CV] END max_depth=4, min_samples_leaf=50, min_samples_split=50, n_estimators=80; total time=   2.9s\n"
          ]
        },
        {
          "data": {
            "text/plain": [
              "RandomizedSearchCV(cv=5, estimator=ExtraTreesRegressor(criterion='mae'),\n",
              "                   param_distributions={'max_depth': [4, 6, 8],\n",
              "                                        'min_samples_leaf': [40, 50],\n",
              "                                        'min_samples_split': [50, 100, 150],\n",
              "                                        'n_estimators': [50, 80, 100]},\n",
              "                   verbose=2)"
            ]
          },
          "execution_count": null,
          "metadata": {},
          "output_type": "execute_result"
        }
      ]
    },
    {
      "cell_type": "code",
      "source": [
        "et_optimal_model = et_random.best_estimator_"
      ],
      "metadata": {
        "id": "M4IGUwru48lo"
      },
      "execution_count": null,
      "outputs": []
    },
    {
      "cell_type": "code",
      "source": [
        "y_pred = et_optimal_model.predict(X_train)\n",
        "y_test_pred = et_optimal_model.predict(X_test)\n",
        "print('Training MAE: {:0.2f}'.format(metrics.mean_absolute_error(y_train, y_pred)))\n",
        "print('Test MAE: {:0.2f}'.format(metrics.mean_absolute_error(y_test, y_test_pred)))"
      ],
      "metadata": {
        "colab": {
          "base_uri": "https://localhost:8080/"
        },
        "id": "bvO02Zen2zG1",
        "outputId": "fe117acd-89b0-4180-8c34-cb473527bc32"
      },
      "execution_count": null,
      "outputs": [
        {
          "output_type": "stream",
          "name": "stdout",
          "text": [
            "Training MAE: 0.17\n",
            "Test MAE: 0.15\n"
          ]
        }
      ]
    },
    {
      "cell_type": "code",
      "source": [
        "y_hat = et_optimal_model.predict(X_test)\n",
        "print(f'r_sqr value for train: {et_optimal_model.score(X_train, y_train)}')\n",
        "r_squared= r2_score(y_test,y_hat)\n",
        "#Calculate Adjusted R-sqaured\n",
        "adjusted_r_squared = 1 - (1-r_squared)*(len(y)-1)/(len(y)-X.shape[1]-1)\n",
        "print(f'For test the R_Squared for ExtraTreesRegressor is {r_squared} and adjusted R_Squared is {adjusted_r_squared}')"
      ],
      "metadata": {
        "colab": {
          "base_uri": "https://localhost:8080/"
        },
        "id": "cDjAG3cw34ZT",
        "outputId": "e79f9610-eaf1-45ad-ce05-878d4966bc24"
      },
      "execution_count": null,
      "outputs": [
        {
          "output_type": "stream",
          "name": "stdout",
          "text": [
            "r_sqr value for train: 0.4633178109206638\n",
            "For test the R_Squared for ExtraTreesRegressor is 0.3988931045851889 and adjusted R_Squared is 0.39768968737715127\n"
          ]
        }
      ]
    },
    {
      "cell_type": "code",
      "source": [
        "model = [\n",
        "           ['ExtraTreeRegressor :',ExtraTreesRegressor(criterion='mae',max_depth=6, min_samples_leaf=40,min_samples_split=100, n_estimators=50)],\n",
        "         ]\n",
        "#Let's run the the model\n",
        "model_data = []\n",
        "for name,curr_model in model :\n",
        "    curr_model_data = {}\n",
        "    curr_model.random_state = 42\n",
        "    curr_model_data[\"Model_Name\"] = name\n",
        "    curr_model.fit(X_train,y_train)\n",
        "    curr_model_data[\"MAE_train\"] =metrics.mean_absolute_error(y_train, curr_model.predict(X_train))\n",
        "    curr_model_data[\"MAE_test\"] =metrics.mean_absolute_error(y_test, curr_model.predict(X_test))\n",
        "    curr_model_data[\"R2_Score_train\"] = r2_score(y_train,curr_model.predict(X_train))\n",
        "    curr_model_data[\"R2_Score_test\"] = r2_score(y_test,curr_model.predict(X_test))\n",
        "    curr_model_data[\"RMSE_Score_train\"] = np.sqrt(mean_squared_error(y_train,curr_model.predict(X_train)))\n",
        "    curr_model_data[\"RMSE_Score_test\"] = np.sqrt(mean_squared_error(y_test,curr_model.predict(X_test)))\n",
        "    model_data.append(curr_model_data)\n",
        "\n",
        "results_df_et = pd.DataFrame(model_data)\n",
        "#printing the results_df_et\n",
        "results_df_et"
      ],
      "metadata": {
        "colab": {
          "base_uri": "https://localhost:8080/",
          "height": 81
        },
        "id": "fJ9wYGhj5swn",
        "outputId": "81835a0e-122d-443f-94ba-d5f812802ad1"
      },
      "execution_count": null,
      "outputs": [
        {
          "output_type": "execute_result",
          "data": {
            "text/plain": [
              "             Model_Name  MAE_train  MAE_test  R2_Score_train  R2_Score_test  \\\n",
              "0  ExtraTreeRegressor :   0.182935  0.161403        0.461842       0.396458   \n",
              "\n",
              "   RMSE_Score_train  RMSE_Score_test  \n",
              "0          0.748703         0.737236  "
            ],
            "text/html": [
              "\n",
              "  <div id=\"df-b8805f08-bd6b-4af5-bf43-29eeaf9c2f6d\">\n",
              "    <div class=\"colab-df-container\">\n",
              "      <div>\n",
              "<style scoped>\n",
              "    .dataframe tbody tr th:only-of-type {\n",
              "        vertical-align: middle;\n",
              "    }\n",
              "\n",
              "    .dataframe tbody tr th {\n",
              "        vertical-align: top;\n",
              "    }\n",
              "\n",
              "    .dataframe thead th {\n",
              "        text-align: right;\n",
              "    }\n",
              "</style>\n",
              "<table border=\"1\" class=\"dataframe\">\n",
              "  <thead>\n",
              "    <tr style=\"text-align: right;\">\n",
              "      <th></th>\n",
              "      <th>Model_Name</th>\n",
              "      <th>MAE_train</th>\n",
              "      <th>MAE_test</th>\n",
              "      <th>R2_Score_train</th>\n",
              "      <th>R2_Score_test</th>\n",
              "      <th>RMSE_Score_train</th>\n",
              "      <th>RMSE_Score_test</th>\n",
              "    </tr>\n",
              "  </thead>\n",
              "  <tbody>\n",
              "    <tr>\n",
              "      <th>0</th>\n",
              "      <td>ExtraTreeRegressor :</td>\n",
              "      <td>0.182935</td>\n",
              "      <td>0.161403</td>\n",
              "      <td>0.461842</td>\n",
              "      <td>0.396458</td>\n",
              "      <td>0.748703</td>\n",
              "      <td>0.737236</td>\n",
              "    </tr>\n",
              "  </tbody>\n",
              "</table>\n",
              "</div>\n",
              "      <button class=\"colab-df-convert\" onclick=\"convertToInteractive('df-b8805f08-bd6b-4af5-bf43-29eeaf9c2f6d')\"\n",
              "              title=\"Convert this dataframe to an interactive table.\"\n",
              "              style=\"display:none;\">\n",
              "        \n",
              "  <svg xmlns=\"http://www.w3.org/2000/svg\" height=\"24px\"viewBox=\"0 0 24 24\"\n",
              "       width=\"24px\">\n",
              "    <path d=\"M0 0h24v24H0V0z\" fill=\"none\"/>\n",
              "    <path d=\"M18.56 5.44l.94 2.06.94-2.06 2.06-.94-2.06-.94-.94-2.06-.94 2.06-2.06.94zm-11 1L8.5 8.5l.94-2.06 2.06-.94-2.06-.94L8.5 2.5l-.94 2.06-2.06.94zm10 10l.94 2.06.94-2.06 2.06-.94-2.06-.94-.94-2.06-.94 2.06-2.06.94z\"/><path d=\"M17.41 7.96l-1.37-1.37c-.4-.4-.92-.59-1.43-.59-.52 0-1.04.2-1.43.59L10.3 9.45l-7.72 7.72c-.78.78-.78 2.05 0 2.83L4 21.41c.39.39.9.59 1.41.59.51 0 1.02-.2 1.41-.59l7.78-7.78 2.81-2.81c.8-.78.8-2.07 0-2.86zM5.41 20L4 18.59l7.72-7.72 1.47 1.35L5.41 20z\"/>\n",
              "  </svg>\n",
              "      </button>\n",
              "      \n",
              "  <style>\n",
              "    .colab-df-container {\n",
              "      display:flex;\n",
              "      flex-wrap:wrap;\n",
              "      gap: 12px;\n",
              "    }\n",
              "\n",
              "    .colab-df-convert {\n",
              "      background-color: #E8F0FE;\n",
              "      border: none;\n",
              "      border-radius: 50%;\n",
              "      cursor: pointer;\n",
              "      display: none;\n",
              "      fill: #1967D2;\n",
              "      height: 32px;\n",
              "      padding: 0 0 0 0;\n",
              "      width: 32px;\n",
              "    }\n",
              "\n",
              "    .colab-df-convert:hover {\n",
              "      background-color: #E2EBFA;\n",
              "      box-shadow: 0px 1px 2px rgba(60, 64, 67, 0.3), 0px 1px 3px 1px rgba(60, 64, 67, 0.15);\n",
              "      fill: #174EA6;\n",
              "    }\n",
              "\n",
              "    [theme=dark] .colab-df-convert {\n",
              "      background-color: #3B4455;\n",
              "      fill: #D2E3FC;\n",
              "    }\n",
              "\n",
              "    [theme=dark] .colab-df-convert:hover {\n",
              "      background-color: #434B5C;\n",
              "      box-shadow: 0px 1px 3px 1px rgba(0, 0, 0, 0.15);\n",
              "      filter: drop-shadow(0px 1px 2px rgba(0, 0, 0, 0.3));\n",
              "      fill: #FFFFFF;\n",
              "    }\n",
              "  </style>\n",
              "\n",
              "      <script>\n",
              "        const buttonEl =\n",
              "          document.querySelector('#df-b8805f08-bd6b-4af5-bf43-29eeaf9c2f6d button.colab-df-convert');\n",
              "        buttonEl.style.display =\n",
              "          google.colab.kernel.accessAllowed ? 'block' : 'none';\n",
              "\n",
              "        async function convertToInteractive(key) {\n",
              "          const element = document.querySelector('#df-b8805f08-bd6b-4af5-bf43-29eeaf9c2f6d');\n",
              "          const dataTable =\n",
              "            await google.colab.kernel.invokeFunction('convertToInteractive',\n",
              "                                                     [key], {});\n",
              "          if (!dataTable) return;\n",
              "\n",
              "          const docLinkHtml = 'Like what you see? Visit the ' +\n",
              "            '<a target=\"_blank\" href=https://colab.research.google.com/notebooks/data_table.ipynb>data table notebook</a>'\n",
              "            + ' to learn more about interactive tables.';\n",
              "          element.innerHTML = '';\n",
              "          dataTable['output_type'] = 'display_data';\n",
              "          await google.colab.output.renderOutput(dataTable, element);\n",
              "          const docLink = document.createElement('div');\n",
              "          docLink.innerHTML = docLinkHtml;\n",
              "          element.appendChild(docLink);\n",
              "        }\n",
              "      </script>\n",
              "    </div>\n",
              "  </div>\n",
              "  "
            ]
          },
          "metadata": {},
          "execution_count": 116
        }
      ]
    },
    {
      "cell_type": "code",
      "source": [
        "importances = pd.DataFrame({'Features': X.columns, \n",
        "                                'Importances': et.feature_importances_})\n",
        "    \n",
        "importances.sort_values(by=['Importances'], axis='index', ascending=False, inplace=True)\n",
        "fig = plt.figure(figsize=(14, 4))\n",
        "sns.barplot(x='Features', y='Importances', data=importances)\n",
        "plt.xticks(rotation='vertical')\n",
        "plt.title('Feature importance score w.r.t. ExtraTreesRegressor model')\n",
        "plt.show()"
      ],
      "metadata": {
        "colab": {
          "base_uri": "https://localhost:8080/",
          "height": 292
        },
        "id": "9J6nN3hB5yQm",
        "outputId": "a8a4d118-3066-42e9-e57e-3992a48abc18"
      },
      "execution_count": null,
      "outputs": [
        {
          "output_type": "display_data",
          "data": {
            "text/plain": [
              "<Figure size 1008x288 with 1 Axes>"
            ],
            "image/png": "[encoded data removed]"
          },
          "metadata": {
            "needs_background": "light"
          }
        }
      ]
    },
    {
      "cell_type": "markdown",
      "source": [
        "#8. Comparison of different regressor Models\n",
        "The ML regressor models that we have used are as follows:"
      ],
      "metadata": {
        "id": "Ak9mTZcx6LRL"
      }
    },
    {
      "cell_type": "code",
      "source": [
        "models = [ ['LinearRegressor', LinearRegression()],\n",
        "           ['KNeighborsRegressor: ',  neighbors.KNeighborsRegressor()],\n",
        "           ['RandomForest ',RandomForestRegressor(criterion='mae',max_depth=6,min_samples_leaf=30,min_samples_split=80,n_estimators=150,random_state=42)],\n",
        "           ['ExtraTreeRegressor :',ExtraTreesRegressor(criterion='mae',max_depth=6, min_samples_leaf=40,min_samples_split=100, n_estimators=50)],\n",
        "           ['GradientBoostingRegressor: ', GradientBoostingRegressor()] ,\n",
        "           ['XGBRegressor: ', xgb.XGBRegressor(base_score=0.5, booster='gbtree',colsample_bytree=1, gamma=0,importance_type='gain', learning_rate=0.1,max_depth=4, min_samples_leaf=40,\n",
        "             min_samples_split=150, n_estimators=80)]    ]      \n"
      ],
      "metadata": {
        "id": "XMpvvf-l6OVH"
      },
      "execution_count": null,
      "outputs": []
    },
    {
      "cell_type": "code",
      "source": [
        "model_data = []\n",
        "for name,curr_model in models :\n",
        "    curr_model_data = {}\n",
        "    curr_model.random_state = 78\n",
        "    curr_model_data[\"Name\"] = name\n",
        "    curr_model.fit(X_train,y_train)\n",
        "    curr_model_data[\"MAE_train\"] =metrics.mean_absolute_error(y_train, curr_model.predict(X_train))\n",
        "    curr_model_data[\"MAE_test\"] =metrics.mean_absolute_error(y_test, curr_model.predict(X_test))\n",
        "    curr_model_data[\"R2_Score_train\"] = r2_score(y_train,curr_model.predict(X_train))\n",
        "    curr_model_data[\"R2_Score_test\"] = r2_score(y_test,curr_model.predict(X_test))\n",
        "    curr_model_data[\"RMSE_Score_train\"] = np.sqrt(mean_squared_error(y_train,curr_model.predict(X_train)))\n",
        "    curr_model_data[\"RMSE_Score_test\"] = np.sqrt(mean_squared_error(y_test,curr_model.predict(X_test)))\n",
        "    model_data.append(curr_model_data)"
      ],
      "metadata": {
        "colab": {
          "base_uri": "https://localhost:8080/"
        },
        "id": "ypMgKEGs6mnz",
        "outputId": "e85616c3-f80a-410a-e54c-32d240b76d7e"
      },
      "execution_count": null,
      "outputs": [
        {
          "output_type": "stream",
          "name": "stdout",
          "text": [
            "[18:04:59] WARNING: /workspace/src/objective/regression_obj.cu:152: reg:linear is now deprecated in favor of reg:squarederror.\n"
          ]
        }
      ]
    },
    {
      "cell_type": "code",
      "source": [
        "results_df = pd.DataFrame(model_data)\n",
        "results_df"
      ],
      "metadata": {
        "colab": {
          "base_uri": "https://localhost:8080/",
          "height": 237
        },
        "id": "dKekUu4E6qo1",
        "outputId": "2f693c90-240e-4536-adff-191c58876255"
      },
      "execution_count": null,
      "outputs": [
        {
          "output_type": "execute_result",
          "data": {
            "text/plain": [
              "                          Name  MAE_train  MAE_test  R2_Score_train  \\\n",
              "0              LinearRegressor   0.162784  0.143068        0.752904   \n",
              "1        KNeighborsRegressor:    0.131815  0.146847        0.818062   \n",
              "2                RandomForest    0.128628  0.112125        0.569872   \n",
              "3         ExtraTreeRegressor :   0.174410  0.153675        0.467199   \n",
              "4  GradientBoostingRegressor:    0.079822  0.109524        0.961267   \n",
              "5               XGBRegressor:    0.073170  0.110402        0.970118   \n",
              "\n",
              "   R2_Score_test  RMSE_Score_train  RMSE_Score_test  \n",
              "0       0.817927          0.507326         0.404926  \n",
              "1       0.743068          0.435328         0.481018  \n",
              "2       0.467747          0.669351         0.692328  \n",
              "3       0.403226          0.744968         0.733091  \n",
              "4       0.782633          0.200860         0.442435  \n",
              "5       0.788203          0.176424         0.436730  "
            ],
            "text/html": [
              "\n",
              "  <div id=\"df-bb64c1f6-b2fe-4af9-9224-3d9d837dbd72\">\n",
              "    <div class=\"colab-df-container\">\n",
              "      <div>\n",
              "<style scoped>\n",
              "    .dataframe tbody tr th:only-of-type {\n",
              "        vertical-align: middle;\n",
              "    }\n",
              "\n",
              "    .dataframe tbody tr th {\n",
              "        vertical-align: top;\n",
              "    }\n",
              "\n",
              "    .dataframe thead th {\n",
              "        text-align: right;\n",
              "    }\n",
              "</style>\n",
              "<table border=\"1\" class=\"dataframe\">\n",
              "  <thead>\n",
              "    <tr style=\"text-align: right;\">\n",
              "      <th></th>\n",
              "      <th>Name</th>\n",
              "      <th>MAE_train</th>\n",
              "      <th>MAE_test</th>\n",
              "      <th>R2_Score_train</th>\n",
              "      <th>R2_Score_test</th>\n",
              "      <th>RMSE_Score_train</th>\n",
              "      <th>RMSE_Score_test</th>\n",
              "    </tr>\n",
              "  </thead>\n",
              "  <tbody>\n",
              "    <tr>\n",
              "      <th>0</th>\n",
              "      <td>LinearRegressor</td>\n",
              "      <td>0.162784</td>\n",
              "      <td>0.143068</td>\n",
              "      <td>0.752904</td>\n",
              "      <td>0.817927</td>\n",
              "      <td>0.507326</td>\n",
              "      <td>0.404926</td>\n",
              "    </tr>\n",
              "    <tr>\n",
              "      <th>1</th>\n",
              "      <td>KNeighborsRegressor:</td>\n",
              "      <td>0.131815</td>\n",
              "      <td>0.146847</td>\n",
              "      <td>0.818062</td>\n",
              "      <td>0.743068</td>\n",
              "      <td>0.435328</td>\n",
              "      <td>0.481018</td>\n",
              "    </tr>\n",
              "    <tr>\n",
              "      <th>2</th>\n",
              "      <td>RandomForest</td>\n",
              "      <td>0.128628</td>\n",
              "      <td>0.112125</td>\n",
              "      <td>0.569872</td>\n",
              "      <td>0.467747</td>\n",
              "      <td>0.669351</td>\n",
              "      <td>0.692328</td>\n",
              "    </tr>\n",
              "    <tr>\n",
              "      <th>3</th>\n",
              "      <td>ExtraTreeRegressor :</td>\n",
              "      <td>0.174410</td>\n",
              "      <td>0.153675</td>\n",
              "      <td>0.467199</td>\n",
              "      <td>0.403226</td>\n",
              "      <td>0.744968</td>\n",
              "      <td>0.733091</td>\n",
              "    </tr>\n",
              "    <tr>\n",
              "      <th>4</th>\n",
              "      <td>GradientBoostingRegressor:</td>\n",
              "      <td>0.079822</td>\n",
              "      <td>0.109524</td>\n",
              "      <td>0.961267</td>\n",
              "      <td>0.782633</td>\n",
              "      <td>0.200860</td>\n",
              "      <td>0.442435</td>\n",
              "    </tr>\n",
              "    <tr>\n",
              "      <th>5</th>\n",
              "      <td>XGBRegressor:</td>\n",
              "      <td>0.073170</td>\n",
              "      <td>0.110402</td>\n",
              "      <td>0.970118</td>\n",
              "      <td>0.788203</td>\n",
              "      <td>0.176424</td>\n",
              "      <td>0.436730</td>\n",
              "    </tr>\n",
              "  </tbody>\n",
              "</table>\n",
              "</div>\n",
              "      <button class=\"colab-df-convert\" onclick=\"convertToInteractive('df-bb64c1f6-b2fe-4af9-9224-3d9d837dbd72')\"\n",
              "              title=\"Convert this dataframe to an interactive table.\"\n",
              "              style=\"display:none;\">\n",
              "        \n",
              "  <svg xmlns=\"http://www.w3.org/2000/svg\" height=\"24px\"viewBox=\"0 0 24 24\"\n",
              "       width=\"24px\">\n",
              "    <path d=\"M0 0h24v24H0V0z\" fill=\"none\"/>\n",
              "    <path d=\"M18.56 5.44l.94 2.06.94-2.06 2.06-.94-2.06-.94-.94-2.06-.94 2.06-2.06.94zm-11 1L8.5 8.5l.94-2.06 2.06-.94-2.06-.94L8.5 2.5l-.94 2.06-2.06.94zm10 10l.94 2.06.94-2.06 2.06-.94-2.06-.94-.94-2.06-.94 2.06-2.06.94z\"/><path d=\"M17.41 7.96l-1.37-1.37c-.4-.4-.92-.59-1.43-.59-.52 0-1.04.2-1.43.59L10.3 9.45l-7.72 7.72c-.78.78-.78 2.05 0 2.83L4 21.41c.39.39.9.59 1.41.59.51 0 1.02-.2 1.41-.59l7.78-7.78 2.81-2.81c.8-.78.8-2.07 0-2.86zM5.41 20L4 18.59l7.72-7.72 1.47 1.35L5.41 20z\"/>\n",
              "  </svg>\n",
              "      </button>\n",
              "      \n",
              "  <style>\n",
              "    .colab-df-container {\n",
              "      display:flex;\n",
              "      flex-wrap:wrap;\n",
              "      gap: 12px;\n",
              "    }\n",
              "\n",
              "    .colab-df-convert {\n",
              "      background-color: #E8F0FE;\n",
              "      border: none;\n",
              "      border-radius: 50%;\n",
              "      cursor: pointer;\n",
              "      display: none;\n",
              "      fill: #1967D2;\n",
              "      height: 32px;\n",
              "      padding: 0 0 0 0;\n",
              "      width: 32px;\n",
              "    }\n",
              "\n",
              "    .colab-df-convert:hover {\n",
              "      background-color: #E2EBFA;\n",
              "      box-shadow: 0px 1px 2px rgba(60, 64, 67, 0.3), 0px 1px 3px 1px rgba(60, 64, 67, 0.15);\n",
              "      fill: #174EA6;\n",
              "    }\n",
              "\n",
              "    [theme=dark] .colab-df-convert {\n",
              "      background-color: #3B4455;\n",
              "      fill: #D2E3FC;\n",
              "    }\n",
              "\n",
              "    [theme=dark] .colab-df-convert:hover {\n",
              "      background-color: #434B5C;\n",
              "      box-shadow: 0px 1px 3px 1px rgba(0, 0, 0, 0.15);\n",
              "      filter: drop-shadow(0px 1px 2px rgba(0, 0, 0, 0.3));\n",
              "      fill: #FFFFFF;\n",
              "    }\n",
              "  </style>\n",
              "\n",
              "      <script>\n",
              "        const buttonEl =\n",
              "          document.querySelector('#df-bb64c1f6-b2fe-4af9-9224-3d9d837dbd72 button.colab-df-convert');\n",
              "        buttonEl.style.display =\n",
              "          google.colab.kernel.accessAllowed ? 'block' : 'none';\n",
              "\n",
              "        async function convertToInteractive(key) {\n",
              "          const element = document.querySelector('#df-bb64c1f6-b2fe-4af9-9224-3d9d837dbd72');\n",
              "          const dataTable =\n",
              "            await google.colab.kernel.invokeFunction('convertToInteractive',\n",
              "                                                     [key], {});\n",
              "          if (!dataTable) return;\n",
              "\n",
              "          const docLinkHtml = 'Like what you see? Visit the ' +\n",
              "            '<a target=\"_blank\" href=https://colab.research.google.com/notebooks/data_table.ipynb>data table notebook</a>'\n",
              "            + ' to learn more about interactive tables.';\n",
              "          element.innerHTML = '';\n",
              "          dataTable['output_type'] = 'display_data';\n",
              "          await google.colab.output.renderOutput(dataTable, element);\n",
              "          const docLink = document.createElement('div');\n",
              "          docLink.innerHTML = docLinkHtml;\n",
              "          element.appendChild(docLink);\n",
              "        }\n",
              "      </script>\n",
              "    </div>\n",
              "  </div>\n",
              "  "
            ]
          },
          "metadata": {},
          "execution_count": 120
        }
      ]
    },
    {
      "cell_type": "code",
      "source": [
        "results_df_xgb"
      ],
      "metadata": {
        "id": "94RhiiwC63-u"
      },
      "execution_count": null,
      "outputs": []
    },
    {
      "cell_type": "code",
      "source": [
        "print(f'Mean value of our target variable is {y.mean()}')"
      ],
      "metadata": {
        "id": "K0LzA7Uu7NQa"
      },
      "execution_count": null,
      "outputs": []
    },
    {
      "cell_type": "code",
      "source": [
        ""
      ],
      "metadata": {
        "id": "q0ntL_1g7Ukq"
      },
      "execution_count": null,
      "outputs": []
    },
    {
      "cell_type": "markdown",
      "source": [
        "#9. conclusion\n",
        "![image.png](data:image/png;base64,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)"
      ],
      "metadata": {
        "id": "K1FKtVaeXqIu"
      }
    },
    {
      "cell_type": "markdown",
      "source": [
        "![image.png](data:image/png;base64,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)"
      ],
      "metadata": {
        "id": "PfZNygJjYKlV"
      }
    }
  ]
}